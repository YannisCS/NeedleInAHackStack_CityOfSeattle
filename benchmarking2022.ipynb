{
 "cells": [
  {
   "cell_type": "code",
   "execution_count": 1,
   "id": "b011b53a-27a5-4ca7-9101-f9e15c1bcd24",
   "metadata": {
    "tags": []
   },
   "outputs": [
    {
     "name": "stdout",
     "output_type": "stream",
     "text": [
      "no display found. Using non-interactive Agg backend\n"
     ]
    }
   ],
   "source": [
    "import os\n",
    "import pandas as pd\n",
    "import numpy as np\n",
    "from sklearn.model_selection import train_test_split\n",
    "from sklearn.linear_model import LinearRegression\n",
    "import statsmodels.api as sm\n",
    "import matplotlib.pyplot as plt\n",
    "import seaborn as sns\n",
    "from sklearn.metrics import r2_score, mean_squared_error\n",
    "from statsmodels.stats.outliers_influence import variance_inflation_factor\n",
    "from dmba import regressionSummary, exhaustive_search\n",
    "from dmba import backward_elimination, forward_selection, stepwise_selection\n",
    "from dmba import adjusted_r2_score, AIC_score, BIC_score\n",
    "\n",
    "%matplotlib inline\n",
    "import warnings\n",
    "warnings.filterwarnings('ignore')\n",
    "\n",
    "pd.set_option('display.max_columns', 10)"
   ]
  },
  {
   "cell_type": "code",
   "execution_count": 2,
   "id": "54fe651c-2de5-4667-a186-c89bf3ea64a9",
   "metadata": {
    "tags": []
   },
   "outputs": [],
   "source": [
    "from sklearn.preprocessing import LabelEncoder, StandardScaler\n",
    "from sklearn.neighbors import KNeighborsClassifier\n",
    "from sklearn.linear_model import LogisticRegression\n",
    "from sklearn.metrics import accuracy_score, precision_score, recall_score, confusion_matrix"
   ]
  },
  {
   "cell_type": "markdown",
   "id": "5af23a38-34d6-4407-b1ed-549afa62bf41",
   "metadata": {
    "tags": []
   },
   "source": [
    "# naive explore of 2022 of 2015"
   ]
  },
  {
   "cell_type": "code",
   "execution_count": 3,
   "id": "6b14c8f7-b34d-479f-a968-add9cada0b66",
   "metadata": {
    "tags": []
   },
   "outputs": [
    {
     "data": {
      "text/html": [
       "<div>\n",
       "<style scoped>\n",
       "    .dataframe tbody tr th:only-of-type {\n",
       "        vertical-align: middle;\n",
       "    }\n",
       "\n",
       "    .dataframe tbody tr th {\n",
       "        vertical-align: top;\n",
       "    }\n",
       "\n",
       "    .dataframe thead th {\n",
       "        text-align: right;\n",
       "    }\n",
       "</style>\n",
       "<table border=\"1\" class=\"dataframe\">\n",
       "  <thead>\n",
       "    <tr style=\"text-align: right;\">\n",
       "      <th></th>\n",
       "      <th>OSEBuildingID</th>\n",
       "      <th>DataYear</th>\n",
       "      <th>BuildingName</th>\n",
       "      <th>BuildingType</th>\n",
       "      <th>TaxParcelIdentificationNumber</th>\n",
       "      <th>...</th>\n",
       "      <th>ComplianceIssue</th>\n",
       "      <th>Electricity(kBtu)</th>\n",
       "      <th>NaturalGas(kBtu)</th>\n",
       "      <th>TotalGHGEmissions</th>\n",
       "      <th>GHGEmissionsIntensity</th>\n",
       "    </tr>\n",
       "  </thead>\n",
       "  <tbody>\n",
       "    <tr>\n",
       "      <th>0</th>\n",
       "      <td>1</td>\n",
       "      <td>2022</td>\n",
       "      <td>MAYFLOWER PARK HOTEL</td>\n",
       "      <td>NonResidential</td>\n",
       "      <td>0659000030</td>\n",
       "      <td>...</td>\n",
       "      <td>No Issue</td>\n",
       "      <td>3778091.0</td>\n",
       "      <td>1362900.0</td>\n",
       "      <td>264.5</td>\n",
       "      <td>2.99</td>\n",
       "    </tr>\n",
       "    <tr>\n",
       "      <th>1</th>\n",
       "      <td>2</td>\n",
       "      <td>2022</td>\n",
       "      <td>PARAMOUNT HOTEL</td>\n",
       "      <td>NonResidential</td>\n",
       "      <td>0659000220</td>\n",
       "      <td>...</td>\n",
       "      <td>No Issue</td>\n",
       "      <td>2383872.0</td>\n",
       "      <td>2751630.0</td>\n",
       "      <td>155.3</td>\n",
       "      <td>1.75</td>\n",
       "    </tr>\n",
       "    <tr>\n",
       "      <th>2</th>\n",
       "      <td>3</td>\n",
       "      <td>2022</td>\n",
       "      <td>WESTIN HOTEL (Parent Building)</td>\n",
       "      <td>NonResidential</td>\n",
       "      <td>0659000475</td>\n",
       "      <td>...</td>\n",
       "      <td>No Issue</td>\n",
       "      <td>36159387.0</td>\n",
       "      <td>5699300.0</td>\n",
       "      <td>1963.7</td>\n",
       "      <td>2.59</td>\n",
       "    </tr>\n",
       "    <tr>\n",
       "      <th>3</th>\n",
       "      <td>5</td>\n",
       "      <td>2022</td>\n",
       "      <td>HOTEL MAX</td>\n",
       "      <td>NonResidential</td>\n",
       "      <td>0659000640</td>\n",
       "      <td>...</td>\n",
       "      <td>No Issue</td>\n",
       "      <td>2674341.0</td>\n",
       "      <td>3058990.0</td>\n",
       "      <td>298.2</td>\n",
       "      <td>4.86</td>\n",
       "    </tr>\n",
       "    <tr>\n",
       "      <th>4</th>\n",
       "      <td>8</td>\n",
       "      <td>2022</td>\n",
       "      <td>WARWICK SEATTLE HOTEL</td>\n",
       "      <td>NonResidential</td>\n",
       "      <td>0659000970</td>\n",
       "      <td>...</td>\n",
       "      <td>No Issue</td>\n",
       "      <td>4704626.0</td>\n",
       "      <td>7362130.0</td>\n",
       "      <td>409.0</td>\n",
       "      <td>3.60</td>\n",
       "    </tr>\n",
       "    <tr>\n",
       "      <th>...</th>\n",
       "      <td>...</td>\n",
       "      <td>...</td>\n",
       "      <td>...</td>\n",
       "      <td>...</td>\n",
       "      <td>...</td>\n",
       "      <td>...</td>\n",
       "      <td>...</td>\n",
       "      <td>...</td>\n",
       "      <td>...</td>\n",
       "      <td>...</td>\n",
       "      <td>...</td>\n",
       "    </tr>\n",
       "    <tr>\n",
       "      <th>3643</th>\n",
       "      <td>50877</td>\n",
       "      <td>2022</td>\n",
       "      <td>BOEING Primary Standards Metrology (BLDG 15-30)</td>\n",
       "      <td>NonResidential</td>\n",
       "      <td>7883608601</td>\n",
       "      <td>...</td>\n",
       "      <td>Portfolio Manager Not Connected to the City of...</td>\n",
       "      <td>NaN</td>\n",
       "      <td>NaN</td>\n",
       "      <td>NaN</td>\n",
       "      <td>NaN</td>\n",
       "    </tr>\n",
       "    <tr>\n",
       "      <th>3644</th>\n",
       "      <td>50879</td>\n",
       "      <td>2022</td>\n",
       "      <td>BUILDING CURE</td>\n",
       "      <td>NonResidential</td>\n",
       "      <td>0660001525</td>\n",
       "      <td>...</td>\n",
       "      <td>No Issue</td>\n",
       "      <td>23107657.0</td>\n",
       "      <td>43954750.0</td>\n",
       "      <td>2423.1</td>\n",
       "      <td>5.40</td>\n",
       "    </tr>\n",
       "    <tr>\n",
       "      <th>3645</th>\n",
       "      <td>50881</td>\n",
       "      <td>2022</td>\n",
       "      <td>400 University</td>\n",
       "      <td>NonResidential</td>\n",
       "      <td>7137830000</td>\n",
       "      <td>...</td>\n",
       "      <td>Default Data</td>\n",
       "      <td>635362.0</td>\n",
       "      <td>NaN</td>\n",
       "      <td>2.4</td>\n",
       "      <td>0.02</td>\n",
       "    </tr>\n",
       "    <tr>\n",
       "      <th>3646</th>\n",
       "      <td>50886</td>\n",
       "      <td>2022</td>\n",
       "      <td>Broadstone VIN</td>\n",
       "      <td>Multifamily MR (5-9)</td>\n",
       "      <td>1825049095</td>\n",
       "      <td>...</td>\n",
       "      <td>No Issue</td>\n",
       "      <td>843455.0</td>\n",
       "      <td>NaN</td>\n",
       "      <td>3.2</td>\n",
       "      <td>NaN</td>\n",
       "    </tr>\n",
       "    <tr>\n",
       "      <th>3647</th>\n",
       "      <td>50893</td>\n",
       "      <td>2022</td>\n",
       "      <td>CEDAR SPEEDSTER</td>\n",
       "      <td>NonResidential</td>\n",
       "      <td>1972203575</td>\n",
       "      <td>...</td>\n",
       "      <td>Portfolio Manager Not Connected to the City of...</td>\n",
       "      <td>NaN</td>\n",
       "      <td>NaN</td>\n",
       "      <td>NaN</td>\n",
       "      <td>NaN</td>\n",
       "    </tr>\n",
       "  </tbody>\n",
       "</table>\n",
       "<p>3648 rows × 42 columns</p>\n",
       "</div>"
      ],
      "text/plain": [
       "      OSEBuildingID  DataYear  \\\n",
       "0                 1      2022   \n",
       "1                 2      2022   \n",
       "2                 3      2022   \n",
       "3                 5      2022   \n",
       "4                 8      2022   \n",
       "...             ...       ...   \n",
       "3643          50877      2022   \n",
       "3644          50879      2022   \n",
       "3645          50881      2022   \n",
       "3646          50886      2022   \n",
       "3647          50893      2022   \n",
       "\n",
       "                                         BuildingName          BuildingType  \\\n",
       "0                                MAYFLOWER PARK HOTEL        NonResidential   \n",
       "1                                     PARAMOUNT HOTEL        NonResidential   \n",
       "2                      WESTIN HOTEL (Parent Building)        NonResidential   \n",
       "3                                           HOTEL MAX        NonResidential   \n",
       "4                               WARWICK SEATTLE HOTEL        NonResidential   \n",
       "...                                               ...                   ...   \n",
       "3643  BOEING Primary Standards Metrology (BLDG 15-30)        NonResidential   \n",
       "3644                                    BUILDING CURE        NonResidential   \n",
       "3645                                   400 University        NonResidential   \n",
       "3646                                   Broadstone VIN  Multifamily MR (5-9)   \n",
       "3647                                  CEDAR SPEEDSTER        NonResidential   \n",
       "\n",
       "     TaxParcelIdentificationNumber  ...  \\\n",
       "0                       0659000030  ...   \n",
       "1                       0659000220  ...   \n",
       "2                       0659000475  ...   \n",
       "3                       0659000640  ...   \n",
       "4                       0659000970  ...   \n",
       "...                            ...  ...   \n",
       "3643                    7883608601  ...   \n",
       "3644                    0660001525  ...   \n",
       "3645                    7137830000  ...   \n",
       "3646                    1825049095  ...   \n",
       "3647                    1972203575  ...   \n",
       "\n",
       "                                        ComplianceIssue Electricity(kBtu)  \\\n",
       "0                                              No Issue         3778091.0   \n",
       "1                                              No Issue         2383872.0   \n",
       "2                                              No Issue        36159387.0   \n",
       "3                                              No Issue         2674341.0   \n",
       "4                                              No Issue         4704626.0   \n",
       "...                                                 ...               ...   \n",
       "3643  Portfolio Manager Not Connected to the City of...               NaN   \n",
       "3644                                           No Issue        23107657.0   \n",
       "3645                                       Default Data          635362.0   \n",
       "3646                                           No Issue          843455.0   \n",
       "3647  Portfolio Manager Not Connected to the City of...               NaN   \n",
       "\n",
       "     NaturalGas(kBtu)  TotalGHGEmissions  GHGEmissionsIntensity  \n",
       "0           1362900.0              264.5                   2.99  \n",
       "1           2751630.0              155.3                   1.75  \n",
       "2           5699300.0             1963.7                   2.59  \n",
       "3           3058990.0              298.2                   4.86  \n",
       "4           7362130.0              409.0                   3.60  \n",
       "...               ...                ...                    ...  \n",
       "3643              NaN                NaN                    NaN  \n",
       "3644       43954750.0             2423.1                   5.40  \n",
       "3645              NaN                2.4                   0.02  \n",
       "3646              NaN                3.2                    NaN  \n",
       "3647              NaN                NaN                    NaN  \n",
       "\n",
       "[3648 rows x 42 columns]"
      ]
     },
     "execution_count": 3,
     "metadata": {},
     "output_type": "execute_result"
    }
   ],
   "source": [
    "df = pd.read_csv('2022_Building_Energy_Benchmarking_20240322.csv')\n",
    "df"
   ]
  },
  {
   "cell_type": "code",
   "execution_count": 4,
   "id": "f65f5936-baf9-4220-8c7f-2ce43f6e8aaf",
   "metadata": {
    "tags": []
   },
   "outputs": [
    {
     "name": "stdout",
     "output_type": "stream",
     "text": [
      "<class 'pandas.core.frame.DataFrame'>\n",
      "RangeIndex: 3648 entries, 0 to 3647\n",
      "Data columns (total 42 columns):\n",
      " #   Column                           Non-Null Count  Dtype  \n",
      "---  ------                           --------------  -----  \n",
      " 0   OSEBuildingID                    3648 non-null   int64  \n",
      " 1   DataYear                         3648 non-null   int64  \n",
      " 2   BuildingName                     3648 non-null   object \n",
      " 3   BuildingType                     3648 non-null   object \n",
      " 4   TaxParcelIdentificationNumber    3648 non-null   object \n",
      " 5   Address                          3648 non-null   object \n",
      " 6   City                             3647 non-null   object \n",
      " 7   State                            3647 non-null   object \n",
      " 8   ZipCode                          3593 non-null   float64\n",
      " 9   Latitude                         3648 non-null   float64\n",
      " 10  Longitude                        3648 non-null   float64\n",
      " 11  Neighborhood                     3648 non-null   object \n",
      " 12  CouncilDistrictCode              3648 non-null   int64  \n",
      " 13  YearBuilt                        3648 non-null   int64  \n",
      " 14  NumberofFloors                   3648 non-null   int64  \n",
      " 15  NumberofBuildings                3648 non-null   int64  \n",
      " 16  PropertyGFATotal                 3648 non-null   int64  \n",
      " 17  PropertyGFABuilding(s)           3648 non-null   int64  \n",
      " 18  PropertyGFAParking               3648 non-null   int64  \n",
      " 19  ENERGYSTARScore                  2242 non-null   float64\n",
      " 20  SiteEUIWN(kBtu/sf)               2857 non-null   float64\n",
      " 21  SiteEUI(kBtu/sf)                 2902 non-null   float64\n",
      " 22  SiteEnergyUse(kBtu)              2902 non-null   float64\n",
      " 23  SiteEnergyUseWN(kBtu)            2857 non-null   float64\n",
      " 24  SourceEUIWN(kBtu/sf)             2857 non-null   float64\n",
      " 25  SourceEUI(kBtu/sf)               2902 non-null   float64\n",
      " 26  EPAPropertyType                  3344 non-null   object \n",
      " 27  LargestPropertyUseType           3400 non-null   object \n",
      " 28  LargestPropertyUseTypeGFA        3400 non-null   float64\n",
      " 29  SecondLargestPropertyUseType     1906 non-null   object \n",
      " 30  SecondLargestPropertyUseTypeGFA  1906 non-null   float64\n",
      " 31  ThirdLargestPropertyUseType      700 non-null    object \n",
      " 32  ThirdLargestPropertyUseTypeGFA   700 non-null    float64\n",
      " 33  Electricity(kWh)                 3338 non-null   float64\n",
      " 34  SteamUse(kBtu)                   116 non-null    float64\n",
      " 35  NaturalGas(therms)               1724 non-null   float64\n",
      " 36  ComplianceStatus                 3648 non-null   object \n",
      " 37  ComplianceIssue                  3648 non-null   object \n",
      " 38  Electricity(kBtu)                3338 non-null   float64\n",
      " 39  NaturalGas(kBtu)                 1724 non-null   float64\n",
      " 40  TotalGHGEmissions                3346 non-null   float64\n",
      " 41  GHGEmissionsIntensity            3344 non-null   float64\n",
      "dtypes: float64(20), int64(9), object(13)\n",
      "memory usage: 1.2+ MB\n"
     ]
    }
   ],
   "source": [
    "df.info()"
   ]
  },
  {
   "cell_type": "code",
   "execution_count": 5,
   "id": "3754e268-11c6-4b26-8279-9bc66beb7803",
   "metadata": {},
   "outputs": [
    {
     "name": "stdout",
     "output_type": "stream",
     "text": [
      "['2015_Building_Energy_Benchmarking_20240322.csv', '2022_Building_Energy_Benchmarking_20240322.csv', 'nonRe2022.csv', 'combined 1.csv', 'fitted.csv', '2016_Building_Energy_Benchmarking_20240322.csv', '2017_Building_Energy_Benchmarking_20240322.csv', 'Performance_Ranges_by_Building_Type_2022_20240322.csv', 'Re2022.csv', 'cleaned_bench_marking_2022.csv', 'combined.csv', 'labeled_bench_marking_all.csv', '2019_Building_Energy_Benchmarking_20240322.csv', 'cleaned_combine.csv', '2020_Building_Energy_Benchmarking_20240322.csv', '2021_Building_Energy_Benchmarking_20240322.csv', '2018_Building_Energy_Benchmarking_20240322.csv']\n"
     ]
    },
    {
     "data": {
      "text/html": [
       "<div>\n",
       "<style scoped>\n",
       "    .dataframe tbody tr th:only-of-type {\n",
       "        vertical-align: middle;\n",
       "    }\n",
       "\n",
       "    .dataframe tbody tr th {\n",
       "        vertical-align: top;\n",
       "    }\n",
       "\n",
       "    .dataframe thead th {\n",
       "        text-align: right;\n",
       "    }\n",
       "</style>\n",
       "<table border=\"1\" class=\"dataframe\">\n",
       "  <thead>\n",
       "    <tr style=\"text-align: right;\">\n",
       "      <th></th>\n",
       "      <th>OSEBuildingID</th>\n",
       "      <th>DataYear</th>\n",
       "      <th>BuildingType</th>\n",
       "      <th>PrimaryPropertyType</th>\n",
       "      <th>PropertyName</th>\n",
       "      <th>...</th>\n",
       "      <th>EPA Building Sub Type Name</th>\n",
       "      <th>Compliance Issue</th>\n",
       "      <th>Compliance Status</th>\n",
       "      <th>GHG Emissions Intensity</th>\n",
       "      <th>Total Ghg Emissions</th>\n",
       "    </tr>\n",
       "  </thead>\n",
       "  <tbody>\n",
       "    <tr>\n",
       "      <th>0</th>\n",
       "      <td>21548.0</td>\n",
       "      <td>2015.0</td>\n",
       "      <td>Multifamily LR (1-4)</td>\n",
       "      <td>Low-Rise Multifamily</td>\n",
       "      <td>PUGET VISTA APTS</td>\n",
       "      <td>...</td>\n",
       "      <td>NaN</td>\n",
       "      <td>NaN</td>\n",
       "      <td>NaN</td>\n",
       "      <td>NaN</td>\n",
       "      <td>NaN</td>\n",
       "    </tr>\n",
       "    <tr>\n",
       "      <th>1</th>\n",
       "      <td>26379.0</td>\n",
       "      <td>2015.0</td>\n",
       "      <td>NonResidential</td>\n",
       "      <td>Hotel</td>\n",
       "      <td>GEORGETOWN  INN</td>\n",
       "      <td>...</td>\n",
       "      <td>NaN</td>\n",
       "      <td>NaN</td>\n",
       "      <td>NaN</td>\n",
       "      <td>NaN</td>\n",
       "      <td>NaN</td>\n",
       "    </tr>\n",
       "    <tr>\n",
       "      <th>2</th>\n",
       "      <td>26713.0</td>\n",
       "      <td>2015.0</td>\n",
       "      <td>Multifamily HR (10+)</td>\n",
       "      <td>High-Rise Multifamily</td>\n",
       "      <td>QUINTESSA APTS</td>\n",
       "      <td>...</td>\n",
       "      <td>NaN</td>\n",
       "      <td>NaN</td>\n",
       "      <td>NaN</td>\n",
       "      <td>NaN</td>\n",
       "      <td>NaN</td>\n",
       "    </tr>\n",
       "    <tr>\n",
       "      <th>3</th>\n",
       "      <td>102.0</td>\n",
       "      <td>2015.0</td>\n",
       "      <td>NonResidential</td>\n",
       "      <td>Hotel</td>\n",
       "      <td>MARRIOTT RESIDENCE INN</td>\n",
       "      <td>...</td>\n",
       "      <td>NaN</td>\n",
       "      <td>NaN</td>\n",
       "      <td>NaN</td>\n",
       "      <td>NaN</td>\n",
       "      <td>NaN</td>\n",
       "    </tr>\n",
       "    <tr>\n",
       "      <th>4</th>\n",
       "      <td>503.0</td>\n",
       "      <td>2015.0</td>\n",
       "      <td>NonResidential</td>\n",
       "      <td>Supermarket/Grocery Store</td>\n",
       "      <td>RESTAURANT DEPOT</td>\n",
       "      <td>...</td>\n",
       "      <td>NaN</td>\n",
       "      <td>NaN</td>\n",
       "      <td>NaN</td>\n",
       "      <td>NaN</td>\n",
       "      <td>NaN</td>\n",
       "    </tr>\n",
       "    <tr>\n",
       "      <th>...</th>\n",
       "      <td>...</td>\n",
       "      <td>...</td>\n",
       "      <td>...</td>\n",
       "      <td>...</td>\n",
       "      <td>...</td>\n",
       "      <td>...</td>\n",
       "      <td>...</td>\n",
       "      <td>...</td>\n",
       "      <td>...</td>\n",
       "      <td>...</td>\n",
       "      <td>...</td>\n",
       "    </tr>\n",
       "    <tr>\n",
       "      <th>3533</th>\n",
       "      <td>NaN</td>\n",
       "      <td>NaN</td>\n",
       "      <td>NaN</td>\n",
       "      <td>NaN</td>\n",
       "      <td>NaN</td>\n",
       "      <td>...</td>\n",
       "      <td>Food Service</td>\n",
       "      <td>Low Outlier - EUI</td>\n",
       "      <td>Account Requires Verification</td>\n",
       "      <td>0.0</td>\n",
       "      <td>0.0</td>\n",
       "    </tr>\n",
       "    <tr>\n",
       "      <th>3534</th>\n",
       "      <td>NaN</td>\n",
       "      <td>NaN</td>\n",
       "      <td>NaN</td>\n",
       "      <td>NaN</td>\n",
       "      <td>NaN</td>\n",
       "      <td>...</td>\n",
       "      <td>Self-Storage Facility</td>\n",
       "      <td>Low Outlier - EUI</td>\n",
       "      <td>Account Requires Verification</td>\n",
       "      <td>0.0</td>\n",
       "      <td>0.0</td>\n",
       "    </tr>\n",
       "    <tr>\n",
       "      <th>3535</th>\n",
       "      <td>NaN</td>\n",
       "      <td>NaN</td>\n",
       "      <td>NaN</td>\n",
       "      <td>NaN</td>\n",
       "      <td>NaN</td>\n",
       "      <td>...</td>\n",
       "      <td>Non-Refrigerated Warehouse</td>\n",
       "      <td>Low Outlier - EUI</td>\n",
       "      <td>Account Requires Verification</td>\n",
       "      <td>0.0</td>\n",
       "      <td>0.0</td>\n",
       "    </tr>\n",
       "    <tr>\n",
       "      <th>3536</th>\n",
       "      <td>NaN</td>\n",
       "      <td>NaN</td>\n",
       "      <td>NaN</td>\n",
       "      <td>NaN</td>\n",
       "      <td>NaN</td>\n",
       "      <td>...</td>\n",
       "      <td>Non-Refrigerated Warehouse</td>\n",
       "      <td>Low Outlier - EUI</td>\n",
       "      <td>Account Requires Verification</td>\n",
       "      <td>0.0</td>\n",
       "      <td>0.0</td>\n",
       "    </tr>\n",
       "    <tr>\n",
       "      <th>3537</th>\n",
       "      <td>NaN</td>\n",
       "      <td>NaN</td>\n",
       "      <td>NaN</td>\n",
       "      <td>NaN</td>\n",
       "      <td>NaN</td>\n",
       "      <td>...</td>\n",
       "      <td>College/University</td>\n",
       "      <td>High Outlier - EUI</td>\n",
       "      <td>Account Requires Verification</td>\n",
       "      <td>0.0</td>\n",
       "      <td>0.0</td>\n",
       "    </tr>\n",
       "  </tbody>\n",
       "</table>\n",
       "<p>103357 rows × 137 columns</p>\n",
       "</div>"
      ],
      "text/plain": [
       "      OSEBuildingID  DataYear          BuildingType  \\\n",
       "0           21548.0    2015.0  Multifamily LR (1-4)   \n",
       "1           26379.0    2015.0        NonResidential   \n",
       "2           26713.0    2015.0  Multifamily HR (10+)   \n",
       "3             102.0    2015.0        NonResidential   \n",
       "4             503.0    2015.0        NonResidential   \n",
       "...             ...       ...                   ...   \n",
       "3533            NaN       NaN                   NaN   \n",
       "3534            NaN       NaN                   NaN   \n",
       "3535            NaN       NaN                   NaN   \n",
       "3536            NaN       NaN                   NaN   \n",
       "3537            NaN       NaN                   NaN   \n",
       "\n",
       "            PrimaryPropertyType            PropertyName  ...  \\\n",
       "0          Low-Rise Multifamily        PUGET VISTA APTS  ...   \n",
       "1                         Hotel         GEORGETOWN  INN  ...   \n",
       "2         High-Rise Multifamily          QUINTESSA APTS  ...   \n",
       "3                         Hotel  MARRIOTT RESIDENCE INN  ...   \n",
       "4     Supermarket/Grocery Store        RESTAURANT DEPOT  ...   \n",
       "...                         ...                     ...  ...   \n",
       "3533                        NaN                     NaN  ...   \n",
       "3534                        NaN                     NaN  ...   \n",
       "3535                        NaN                     NaN  ...   \n",
       "3536                        NaN                     NaN  ...   \n",
       "3537                        NaN                     NaN  ...   \n",
       "\n",
       "      EPA Building Sub Type Name    Compliance Issue  \\\n",
       "0                            NaN                 NaN   \n",
       "1                            NaN                 NaN   \n",
       "2                            NaN                 NaN   \n",
       "3                            NaN                 NaN   \n",
       "4                            NaN                 NaN   \n",
       "...                          ...                 ...   \n",
       "3533                Food Service   Low Outlier - EUI   \n",
       "3534       Self-Storage Facility   Low Outlier - EUI   \n",
       "3535  Non-Refrigerated Warehouse   Low Outlier - EUI   \n",
       "3536  Non-Refrigerated Warehouse   Low Outlier - EUI   \n",
       "3537          College/University  High Outlier - EUI   \n",
       "\n",
       "                  Compliance Status GHG Emissions Intensity  \\\n",
       "0                               NaN                     NaN   \n",
       "1                               NaN                     NaN   \n",
       "2                               NaN                     NaN   \n",
       "3                               NaN                     NaN   \n",
       "4                               NaN                     NaN   \n",
       "...                             ...                     ...   \n",
       "3533  Account Requires Verification                     0.0   \n",
       "3534  Account Requires Verification                     0.0   \n",
       "3535  Account Requires Verification                     0.0   \n",
       "3536  Account Requires Verification                     0.0   \n",
       "3537  Account Requires Verification                     0.0   \n",
       "\n",
       "      Total Ghg Emissions  \n",
       "0                     NaN  \n",
       "1                     NaN  \n",
       "2                     NaN  \n",
       "3                     NaN  \n",
       "4                     NaN  \n",
       "...                   ...  \n",
       "3533                  0.0  \n",
       "3534                  0.0  \n",
       "3535                  0.0  \n",
       "3536                  0.0  \n",
       "3537                  0.0  \n",
       "\n",
       "[103357 rows x 137 columns]"
      ]
     },
     "execution_count": 5,
     "metadata": {},
     "output_type": "execute_result"
    }
   ],
   "source": [
    "path = './'\n",
    "files = [f for f in os.listdir(path) if f.endswith('.csv')]\n",
    "print(files)\n",
    "previous_year_columns = []\n",
    "df = pd.DataFrame()\n",
    "for file in files:\n",
    "    file_path = os.path.join(path, file)\n",
    "    temp_df = pd.read_csv(file_path)\n",
    "    if set(previous_year_columns) == set(temp_df.columns): \n",
    "        print('same columns with the previous year')\n",
    "    df = pd.concat([df,temp_df],axis=0)\n",
    "df"
   ]
  },
  {
   "cell_type": "code",
   "execution_count": 6,
   "id": "d02399d3-d4ae-4ac7-afc2-d3655dd7444c",
   "metadata": {
    "tags": []
   },
   "outputs": [],
   "source": [
    "df2022 = pd.read_csv('2022_Building_Energy_Benchmarking_20240322.csv')\n",
    "df2015 = pd.read_csv('2015_Building_Energy_Benchmarking_20240322.csv')"
   ]
  },
  {
   "cell_type": "code",
   "execution_count": 7,
   "id": "7cc99a42-aa8f-4de9-9aad-518e58d173e5",
   "metadata": {
    "tags": []
   },
   "outputs": [
    {
     "data": {
      "text/plain": [
       "Index(['OSEBuildingID', 'DataYear', 'BuildingName', 'BuildingType',\n",
       "       'TaxParcelIdentificationNumber', 'Address', 'City', 'State', 'ZipCode',\n",
       "       'Latitude', 'Longitude', 'Neighborhood', 'CouncilDistrictCode',\n",
       "       'YearBuilt', 'NumberofFloors', 'NumberofBuildings', 'PropertyGFATotal',\n",
       "       'PropertyGFABuilding(s)', 'PropertyGFAParking', 'ENERGYSTARScore',\n",
       "       'SiteEUIWN(kBtu/sf)', 'SiteEUI(kBtu/sf)', 'SiteEnergyUse(kBtu)',\n",
       "       'SiteEnergyUseWN(kBtu)', 'SourceEUIWN(kBtu/sf)', 'SourceEUI(kBtu/sf)',\n",
       "       'EPAPropertyType', 'LargestPropertyUseType',\n",
       "       'LargestPropertyUseTypeGFA', 'SecondLargestPropertyUseType',\n",
       "       'SecondLargestPropertyUseTypeGFA', 'ThirdLargestPropertyUseType',\n",
       "       'ThirdLargestPropertyUseTypeGFA', 'Electricity(kWh)', 'SteamUse(kBtu)',\n",
       "       'NaturalGas(therms)', 'ComplianceStatus', 'ComplianceIssue',\n",
       "       'Electricity(kBtu)', 'NaturalGas(kBtu)', 'TotalGHGEmissions',\n",
       "       'GHGEmissionsIntensity'],\n",
       "      dtype='object')"
      ]
     },
     "execution_count": 7,
     "metadata": {},
     "output_type": "execute_result"
    }
   ],
   "source": [
    "df2022.columns"
   ]
  },
  {
   "cell_type": "code",
   "execution_count": 8,
   "id": "008ac059-8560-4cf5-85c3-eb141154237c",
   "metadata": {
    "tags": []
   },
   "outputs": [
    {
     "data": {
      "text/plain": [
       "Index(['OSEBuildingID', 'DataYear', 'BuildingType', 'PrimaryPropertyType',\n",
       "       'PropertyName', 'TaxParcelIdentificationNumber', 'Location',\n",
       "       'CouncilDistrictCode', 'Neighborhood', 'YearBuilt', 'NumberofBuildings',\n",
       "       'NumberofFloors', 'PropertyGFATotal', 'PropertyGFAParking',\n",
       "       'PropertyGFABuilding(s)', 'ListOfAllPropertyUseTypes',\n",
       "       'LargestPropertyUseType', 'LargestPropertyUseTypeGFA',\n",
       "       'SecondLargestPropertyUseType', 'SecondLargestPropertyUseTypeGFA',\n",
       "       'ThirdLargestPropertyUseType', 'ThirdLargestPropertyUseTypeGFA',\n",
       "       'YearsENERGYSTARCertified', 'ENERGYSTARScore', 'SiteEUI(kBtu/sf)',\n",
       "       'SiteEUIWN(kBtu/sf)', 'SourceEUI(kBtu/sf)', 'SourceEUIWN(kBtu/sf)',\n",
       "       'SiteEnergyUse(kBtu)', 'SiteEnergyUseWN(kBtu)', 'SteamUse(kBtu)',\n",
       "       'Electricity(kWh)', 'Electricity(kBtu)', 'NaturalGas(therms)',\n",
       "       'NaturalGas(kBtu)', 'OtherFuelUse(kBtu)',\n",
       "       'GHGEmissions(MetricTonsCO2e)', 'GHGEmissionsIntensity(kgCO2e/ft2)',\n",
       "       'DefaultData', 'Comment', 'ComplianceStatus', 'Outlier'],\n",
       "      dtype='object')"
      ]
     },
     "execution_count": 8,
     "metadata": {},
     "output_type": "execute_result"
    }
   ],
   "source": [
    "df2015.columns"
   ]
  },
  {
   "cell_type": "code",
   "execution_count": 9,
   "id": "ac662cb3-cedc-4c68-8649-53e57ced965d",
   "metadata": {
    "tags": []
   },
   "outputs": [
    {
     "data": {
      "text/plain": [
       "array(['Multifamily LR (1-4)', 'NonResidential', 'Multifamily HR (10+)',\n",
       "       'SPS-District K-12', 'Multifamily MR (5-9)', 'Campus',\n",
       "       'Nonresidential COS'], dtype=object)"
      ]
     },
     "execution_count": 9,
     "metadata": {},
     "output_type": "execute_result"
    }
   ],
   "source": [
    "df2015.BuildingType.unique()"
   ]
  },
  {
   "cell_type": "code",
   "execution_count": 10,
   "id": "f01270ce-870f-4ac1-813c-88b2ac52294d",
   "metadata": {
    "tags": []
   },
   "outputs": [
    {
     "data": {
      "text/plain": [
       "array(['NonResidential', 'Nonresidential COS', 'Multifamily MR (5-9)',\n",
       "       'SPS-District K-12', 'Campus', 'Multifamily LR (1-4)',\n",
       "       'Nonresidential WA', 'Multifamily HR (10+)'], dtype=object)"
      ]
     },
     "execution_count": 10,
     "metadata": {},
     "output_type": "execute_result"
    }
   ],
   "source": [
    "df2022.BuildingType.unique()"
   ]
  },
  {
   "cell_type": "code",
   "execution_count": 11,
   "id": "1ec075bf-c9e5-409b-99b1-c06876a6e301",
   "metadata": {
    "tags": []
   },
   "outputs": [
    {
     "data": {
      "text/plain": [
       "False"
      ]
     },
     "execution_count": 11,
     "metadata": {},
     "output_type": "execute_result"
    }
   ],
   "source": [
    "set(df2015.BuildingType.unique()) == set(df2022.BuildingType.unique())"
   ]
  },
  {
   "cell_type": "code",
   "execution_count": null,
   "id": "8386745c-dd9a-420d-9c88-8ab87d754d1e",
   "metadata": {},
   "outputs": [],
   "source": []
  },
  {
   "cell_type": "markdown",
   "id": "6cd54444-1b2a-4415-8b30-350cf0d7afc9",
   "metadata": {},
   "source": [
    "# Exploration of 2022"
   ]
  },
  {
   "cell_type": "code",
   "execution_count": 12,
   "id": "e5ca994d-932a-4023-8e79-6ffe900cde91",
   "metadata": {
    "tags": []
   },
   "outputs": [
    {
     "data": {
      "text/html": [
       "<div>\n",
       "<style scoped>\n",
       "    .dataframe tbody tr th:only-of-type {\n",
       "        vertical-align: middle;\n",
       "    }\n",
       "\n",
       "    .dataframe tbody tr th {\n",
       "        vertical-align: top;\n",
       "    }\n",
       "\n",
       "    .dataframe thead th {\n",
       "        text-align: right;\n",
       "    }\n",
       "</style>\n",
       "<table border=\"1\" class=\"dataframe\">\n",
       "  <thead>\n",
       "    <tr style=\"text-align: right;\">\n",
       "      <th></th>\n",
       "      <th>OSEBuildingID</th>\n",
       "      <th>DataYear</th>\n",
       "      <th>BuildingName</th>\n",
       "      <th>BuildingType</th>\n",
       "      <th>TaxParcelIdentificationNumber</th>\n",
       "      <th>...</th>\n",
       "      <th>ComplianceIssue</th>\n",
       "      <th>Electricity(kBtu)</th>\n",
       "      <th>NaturalGas(kBtu)</th>\n",
       "      <th>TotalGHGEmissions</th>\n",
       "      <th>GHGEmissionsIntensity</th>\n",
       "    </tr>\n",
       "  </thead>\n",
       "  <tbody>\n",
       "    <tr>\n",
       "      <th>0</th>\n",
       "      <td>1</td>\n",
       "      <td>2022</td>\n",
       "      <td>MAYFLOWER PARK HOTEL</td>\n",
       "      <td>NonResidential</td>\n",
       "      <td>0659000030</td>\n",
       "      <td>...</td>\n",
       "      <td>No Issue</td>\n",
       "      <td>3778091.0</td>\n",
       "      <td>1362900.0</td>\n",
       "      <td>264.5</td>\n",
       "      <td>2.99</td>\n",
       "    </tr>\n",
       "    <tr>\n",
       "      <th>1</th>\n",
       "      <td>2</td>\n",
       "      <td>2022</td>\n",
       "      <td>PARAMOUNT HOTEL</td>\n",
       "      <td>NonResidential</td>\n",
       "      <td>0659000220</td>\n",
       "      <td>...</td>\n",
       "      <td>No Issue</td>\n",
       "      <td>2383872.0</td>\n",
       "      <td>2751630.0</td>\n",
       "      <td>155.3</td>\n",
       "      <td>1.75</td>\n",
       "    </tr>\n",
       "    <tr>\n",
       "      <th>2</th>\n",
       "      <td>3</td>\n",
       "      <td>2022</td>\n",
       "      <td>WESTIN HOTEL (Parent Building)</td>\n",
       "      <td>NonResidential</td>\n",
       "      <td>0659000475</td>\n",
       "      <td>...</td>\n",
       "      <td>No Issue</td>\n",
       "      <td>36159387.0</td>\n",
       "      <td>5699300.0</td>\n",
       "      <td>1963.7</td>\n",
       "      <td>2.59</td>\n",
       "    </tr>\n",
       "    <tr>\n",
       "      <th>3</th>\n",
       "      <td>5</td>\n",
       "      <td>2022</td>\n",
       "      <td>HOTEL MAX</td>\n",
       "      <td>NonResidential</td>\n",
       "      <td>0659000640</td>\n",
       "      <td>...</td>\n",
       "      <td>No Issue</td>\n",
       "      <td>2674341.0</td>\n",
       "      <td>3058990.0</td>\n",
       "      <td>298.2</td>\n",
       "      <td>4.86</td>\n",
       "    </tr>\n",
       "    <tr>\n",
       "      <th>4</th>\n",
       "      <td>8</td>\n",
       "      <td>2022</td>\n",
       "      <td>WARWICK SEATTLE HOTEL</td>\n",
       "      <td>NonResidential</td>\n",
       "      <td>0659000970</td>\n",
       "      <td>...</td>\n",
       "      <td>No Issue</td>\n",
       "      <td>4704626.0</td>\n",
       "      <td>7362130.0</td>\n",
       "      <td>409.0</td>\n",
       "      <td>3.60</td>\n",
       "    </tr>\n",
       "  </tbody>\n",
       "</table>\n",
       "<p>5 rows × 42 columns</p>\n",
       "</div>"
      ],
      "text/plain": [
       "   OSEBuildingID  DataYear                    BuildingName    BuildingType  \\\n",
       "0              1      2022            MAYFLOWER PARK HOTEL  NonResidential   \n",
       "1              2      2022                 PARAMOUNT HOTEL  NonResidential   \n",
       "2              3      2022  WESTIN HOTEL (Parent Building)  NonResidential   \n",
       "3              5      2022                       HOTEL MAX  NonResidential   \n",
       "4              8      2022           WARWICK SEATTLE HOTEL  NonResidential   \n",
       "\n",
       "  TaxParcelIdentificationNumber  ... ComplianceIssue Electricity(kBtu)  \\\n",
       "0                    0659000030  ...        No Issue         3778091.0   \n",
       "1                    0659000220  ...        No Issue         2383872.0   \n",
       "2                    0659000475  ...        No Issue        36159387.0   \n",
       "3                    0659000640  ...        No Issue         2674341.0   \n",
       "4                    0659000970  ...        No Issue         4704626.0   \n",
       "\n",
       "  NaturalGas(kBtu)  TotalGHGEmissions  GHGEmissionsIntensity  \n",
       "0        1362900.0              264.5                   2.99  \n",
       "1        2751630.0              155.3                   1.75  \n",
       "2        5699300.0             1963.7                   2.59  \n",
       "3        3058990.0              298.2                   4.86  \n",
       "4        7362130.0              409.0                   3.60  \n",
       "\n",
       "[5 rows x 42 columns]"
      ]
     },
     "execution_count": 12,
     "metadata": {},
     "output_type": "execute_result"
    }
   ],
   "source": [
    "df2022 = pd.read_csv('2022_Building_Energy_Benchmarking_20240322.csv')\n",
    "df2022.head()"
   ]
  },
  {
   "cell_type": "code",
   "execution_count": 13,
   "id": "414e8ab2-0976-489a-9961-b791008ca17c",
   "metadata": {
    "tags": []
   },
   "outputs": [
    {
     "data": {
      "text/plain": [
       "Index(['OSEBuildingID', 'DataYear', 'BuildingName', 'BuildingType',\n",
       "       'TaxParcelIdentificationNumber', 'Address', 'City', 'State', 'ZipCode',\n",
       "       'Latitude', 'Longitude', 'Neighborhood', 'CouncilDistrictCode',\n",
       "       'YearBuilt', 'NumberofFloors', 'NumberofBuildings', 'PropertyGFATotal',\n",
       "       'PropertyGFABuilding(s)', 'PropertyGFAParking', 'ENERGYSTARScore',\n",
       "       'SiteEUIWN(kBtu/sf)', 'SiteEUI(kBtu/sf)', 'SiteEnergyUse(kBtu)',\n",
       "       'SiteEnergyUseWN(kBtu)', 'SourceEUIWN(kBtu/sf)', 'SourceEUI(kBtu/sf)',\n",
       "       'EPAPropertyType', 'LargestPropertyUseType',\n",
       "       'LargestPropertyUseTypeGFA', 'SecondLargestPropertyUseType',\n",
       "       'SecondLargestPropertyUseTypeGFA', 'ThirdLargestPropertyUseType',\n",
       "       'ThirdLargestPropertyUseTypeGFA', 'Electricity(kWh)', 'SteamUse(kBtu)',\n",
       "       'NaturalGas(therms)', 'ComplianceStatus', 'ComplianceIssue',\n",
       "       'Electricity(kBtu)', 'NaturalGas(kBtu)', 'TotalGHGEmissions',\n",
       "       'GHGEmissionsIntensity'],\n",
       "      dtype='object')"
      ]
     },
     "execution_count": 13,
     "metadata": {},
     "output_type": "execute_result"
    }
   ],
   "source": [
    "df2022.columns"
   ]
  },
  {
   "cell_type": "code",
   "execution_count": 14,
   "id": "6fd7687c-00bd-4501-a8bd-67c0395c9b1b",
   "metadata": {
    "tags": []
   },
   "outputs": [
    {
     "data": {
      "text/plain": [
       "3614"
      ]
     },
     "execution_count": 14,
     "metadata": {},
     "output_type": "execute_result"
    }
   ],
   "source": [
    "len(df2022.BuildingName.unique())"
   ]
  },
  {
   "cell_type": "code",
   "execution_count": 15,
   "id": "3fbe4cd7-1fcb-4e70-98c6-055c522391ad",
   "metadata": {
    "tags": []
   },
   "outputs": [
    {
     "data": {
      "text/plain": [
       "(3648, 42)"
      ]
     },
     "execution_count": 15,
     "metadata": {},
     "output_type": "execute_result"
    }
   ],
   "source": [
    "df2022.shape"
   ]
  },
  {
   "cell_type": "code",
   "execution_count": 16,
   "id": "b468eb87-eb9d-4143-9ec5-dd9680c1f175",
   "metadata": {
    "tags": []
   },
   "outputs": [
    {
     "data": {
      "text/plain": [
       "3647"
      ]
     },
     "execution_count": 16,
     "metadata": {},
     "output_type": "execute_result"
    }
   ],
   "source": [
    "len(df2022.OSEBuildingID.unique())"
   ]
  },
  {
   "cell_type": "code",
   "execution_count": 17,
   "id": "8a42e852-d6cc-454d-883d-77c194cd510d",
   "metadata": {
    "tags": []
   },
   "outputs": [
    {
     "data": {
      "text/html": [
       "<div>\n",
       "<style scoped>\n",
       "    .dataframe tbody tr th:only-of-type {\n",
       "        vertical-align: middle;\n",
       "    }\n",
       "\n",
       "    .dataframe tbody tr th {\n",
       "        vertical-align: top;\n",
       "    }\n",
       "\n",
       "    .dataframe thead th {\n",
       "        text-align: right;\n",
       "    }\n",
       "</style>\n",
       "<table border=\"1\" class=\"dataframe\">\n",
       "  <thead>\n",
       "    <tr style=\"text-align: right;\">\n",
       "      <th></th>\n",
       "      <th>OSEBuildingID</th>\n",
       "      <th>DataYear</th>\n",
       "      <th>BuildingName</th>\n",
       "      <th>BuildingType</th>\n",
       "      <th>TaxParcelIdentificationNumber</th>\n",
       "      <th>...</th>\n",
       "      <th>ComplianceIssue</th>\n",
       "      <th>Electricity(kBtu)</th>\n",
       "      <th>NaturalGas(kBtu)</th>\n",
       "      <th>TotalGHGEmissions</th>\n",
       "      <th>GHGEmissionsIntensity</th>\n",
       "    </tr>\n",
       "  </thead>\n",
       "  <tbody>\n",
       "    <tr>\n",
       "      <th>564</th>\n",
       "      <td>780</td>\n",
       "      <td>2022</td>\n",
       "      <td>KING STREET CENTER</td>\n",
       "      <td>NonResidential</td>\n",
       "      <td>5247800795</td>\n",
       "      <td>...</td>\n",
       "      <td>Missing EUI or Utility Data</td>\n",
       "      <td>NaN</td>\n",
       "      <td>NaN</td>\n",
       "      <td>NaN</td>\n",
       "      <td>NaN</td>\n",
       "    </tr>\n",
       "  </tbody>\n",
       "</table>\n",
       "<p>1 rows × 42 columns</p>\n",
       "</div>"
      ],
      "text/plain": [
       "     OSEBuildingID  DataYear        BuildingName    BuildingType  \\\n",
       "564            780      2022  KING STREET CENTER  NonResidential   \n",
       "\n",
       "    TaxParcelIdentificationNumber  ...              ComplianceIssue  \\\n",
       "564                    5247800795  ...  Missing EUI or Utility Data   \n",
       "\n",
       "    Electricity(kBtu) NaturalGas(kBtu)  TotalGHGEmissions  \\\n",
       "564               NaN              NaN                NaN   \n",
       "\n",
       "     GHGEmissionsIntensity  \n",
       "564                    NaN  \n",
       "\n",
       "[1 rows x 42 columns]"
      ]
     },
     "execution_count": 17,
     "metadata": {},
     "output_type": "execute_result"
    }
   ],
   "source": [
    "df2022[df2022.duplicated()]"
   ]
  },
  {
   "cell_type": "code",
   "execution_count": 18,
   "id": "f4c00198-5a89-4ceb-9bef-f9c6c2493eb5",
   "metadata": {
    "tags": []
   },
   "outputs": [
    {
     "data": {
      "text/html": [
       "<div>\n",
       "<style scoped>\n",
       "    .dataframe tbody tr th:only-of-type {\n",
       "        vertical-align: middle;\n",
       "    }\n",
       "\n",
       "    .dataframe tbody tr th {\n",
       "        vertical-align: top;\n",
       "    }\n",
       "\n",
       "    .dataframe thead th {\n",
       "        text-align: right;\n",
       "    }\n",
       "</style>\n",
       "<table border=\"1\" class=\"dataframe\">\n",
       "  <thead>\n",
       "    <tr style=\"text-align: right;\">\n",
       "      <th></th>\n",
       "      <th>OSEBuildingID</th>\n",
       "      <th>DataYear</th>\n",
       "      <th>BuildingName</th>\n",
       "      <th>BuildingType</th>\n",
       "      <th>TaxParcelIdentificationNumber</th>\n",
       "      <th>...</th>\n",
       "      <th>ComplianceIssue</th>\n",
       "      <th>Electricity(kBtu)</th>\n",
       "      <th>NaturalGas(kBtu)</th>\n",
       "      <th>TotalGHGEmissions</th>\n",
       "      <th>GHGEmissionsIntensity</th>\n",
       "    </tr>\n",
       "  </thead>\n",
       "  <tbody>\n",
       "    <tr>\n",
       "      <th>563</th>\n",
       "      <td>780</td>\n",
       "      <td>2022</td>\n",
       "      <td>KING STREET CENTER</td>\n",
       "      <td>NonResidential</td>\n",
       "      <td>5247800795</td>\n",
       "      <td>...</td>\n",
       "      <td>Missing EUI or Utility Data</td>\n",
       "      <td>NaN</td>\n",
       "      <td>NaN</td>\n",
       "      <td>NaN</td>\n",
       "      <td>NaN</td>\n",
       "    </tr>\n",
       "    <tr>\n",
       "      <th>564</th>\n",
       "      <td>780</td>\n",
       "      <td>2022</td>\n",
       "      <td>KING STREET CENTER</td>\n",
       "      <td>NonResidential</td>\n",
       "      <td>5247800795</td>\n",
       "      <td>...</td>\n",
       "      <td>Missing EUI or Utility Data</td>\n",
       "      <td>NaN</td>\n",
       "      <td>NaN</td>\n",
       "      <td>NaN</td>\n",
       "      <td>NaN</td>\n",
       "    </tr>\n",
       "  </tbody>\n",
       "</table>\n",
       "<p>2 rows × 42 columns</p>\n",
       "</div>"
      ],
      "text/plain": [
       "     OSEBuildingID  DataYear        BuildingName    BuildingType  \\\n",
       "563            780      2022  KING STREET CENTER  NonResidential   \n",
       "564            780      2022  KING STREET CENTER  NonResidential   \n",
       "\n",
       "    TaxParcelIdentificationNumber  ...              ComplianceIssue  \\\n",
       "563                    5247800795  ...  Missing EUI or Utility Data   \n",
       "564                    5247800795  ...  Missing EUI or Utility Data   \n",
       "\n",
       "    Electricity(kBtu) NaturalGas(kBtu)  TotalGHGEmissions  \\\n",
       "563               NaN              NaN                NaN   \n",
       "564               NaN              NaN                NaN   \n",
       "\n",
       "     GHGEmissionsIntensity  \n",
       "563                    NaN  \n",
       "564                    NaN  \n",
       "\n",
       "[2 rows x 42 columns]"
      ]
     },
     "execution_count": 18,
     "metadata": {},
     "output_type": "execute_result"
    }
   ],
   "source": [
    "df2022[df2022.OSEBuildingID==780]"
   ]
  },
  {
   "cell_type": "markdown",
   "id": "d8f160c1-ce21-480f-aa4f-558fd1bd92da",
   "metadata": {},
   "source": [
    "e.g. whole foods has different buildings at various address"
   ]
  },
  {
   "cell_type": "code",
   "execution_count": 19,
   "id": "7565ae56-e371-4e43-8060-01e42a4258ca",
   "metadata": {
    "scrolled": true,
    "tags": []
   },
   "outputs": [
    {
     "data": {
      "text/html": [
       "<div>\n",
       "<style scoped>\n",
       "    .dataframe tbody tr th:only-of-type {\n",
       "        vertical-align: middle;\n",
       "    }\n",
       "\n",
       "    .dataframe tbody tr th {\n",
       "        vertical-align: top;\n",
       "    }\n",
       "\n",
       "    .dataframe thead th {\n",
       "        text-align: right;\n",
       "    }\n",
       "</style>\n",
       "<table border=\"1\" class=\"dataframe\">\n",
       "  <thead>\n",
       "    <tr style=\"text-align: right;\">\n",
       "      <th></th>\n",
       "      <th>OSEBuildingID</th>\n",
       "      <th>DataYear</th>\n",
       "      <th>BuildingName</th>\n",
       "      <th>BuildingType</th>\n",
       "      <th>TaxParcelIdentificationNumber</th>\n",
       "      <th>...</th>\n",
       "      <th>ComplianceIssue</th>\n",
       "      <th>Electricity(kBtu)</th>\n",
       "      <th>NaturalGas(kBtu)</th>\n",
       "      <th>TotalGHGEmissions</th>\n",
       "      <th>GHGEmissionsIntensity</th>\n",
       "    </tr>\n",
       "  </thead>\n",
       "  <tbody>\n",
       "    <tr>\n",
       "      <th>564</th>\n",
       "      <td>780</td>\n",
       "      <td>2022</td>\n",
       "      <td>KING STREET CENTER</td>\n",
       "      <td>NonResidential</td>\n",
       "      <td>5247800795</td>\n",
       "      <td>...</td>\n",
       "      <td>Missing EUI or Utility Data</td>\n",
       "      <td>NaN</td>\n",
       "      <td>NaN</td>\n",
       "      <td>NaN</td>\n",
       "      <td>NaN</td>\n",
       "    </tr>\n",
       "    <tr>\n",
       "      <th>607</th>\n",
       "      <td>848</td>\n",
       "      <td>2022</td>\n",
       "      <td>HOME DEPOT</td>\n",
       "      <td>NonResidential</td>\n",
       "      <td>3026049093</td>\n",
       "      <td>...</td>\n",
       "      <td>No Issue</td>\n",
       "      <td>2991772.0</td>\n",
       "      <td>4332660.0</td>\n",
       "      <td>241.6</td>\n",
       "      <td>2.37</td>\n",
       "    </tr>\n",
       "    <tr>\n",
       "      <th>663</th>\n",
       "      <td>19576</td>\n",
       "      <td>2022</td>\n",
       "      <td>PAPE' MATERIAL HANDLING</td>\n",
       "      <td>NonResidential</td>\n",
       "      <td>0323049241</td>\n",
       "      <td>...</td>\n",
       "      <td>Missing EUI or Utility Data</td>\n",
       "      <td>NaN</td>\n",
       "      <td>NaN</td>\n",
       "      <td>NaN</td>\n",
       "      <td>NaN</td>\n",
       "    </tr>\n",
       "    <tr>\n",
       "      <th>767</th>\n",
       "      <td>19871</td>\n",
       "      <td>2022</td>\n",
       "      <td>GRANGE OFFICE PLAZA</td>\n",
       "      <td>NonResidential</td>\n",
       "      <td>0656000045</td>\n",
       "      <td>...</td>\n",
       "      <td>No Issue</td>\n",
       "      <td>435226.0</td>\n",
       "      <td>1611300.0</td>\n",
       "      <td>87.2</td>\n",
       "      <td>3.05</td>\n",
       "    </tr>\n",
       "    <tr>\n",
       "      <th>972</th>\n",
       "      <td>20470</td>\n",
       "      <td>2022</td>\n",
       "      <td>LAKE CITY CENTER</td>\n",
       "      <td>NonResidential</td>\n",
       "      <td>1453600540</td>\n",
       "      <td>...</td>\n",
       "      <td>Missing EUI or Utility Data</td>\n",
       "      <td>0.0</td>\n",
       "      <td>NaN</td>\n",
       "      <td>NaN</td>\n",
       "      <td>NaN</td>\n",
       "    </tr>\n",
       "    <tr>\n",
       "      <th>...</th>\n",
       "      <td>...</td>\n",
       "      <td>...</td>\n",
       "      <td>...</td>\n",
       "      <td>...</td>\n",
       "      <td>...</td>\n",
       "      <td>...</td>\n",
       "      <td>...</td>\n",
       "      <td>...</td>\n",
       "      <td>...</td>\n",
       "      <td>...</td>\n",
       "      <td>...</td>\n",
       "    </tr>\n",
       "    <tr>\n",
       "      <th>2771</th>\n",
       "      <td>27184</td>\n",
       "      <td>2022</td>\n",
       "      <td>WAREHOUSE</td>\n",
       "      <td>NonResidential</td>\n",
       "      <td>7443001620</td>\n",
       "      <td>...</td>\n",
       "      <td>No Issue</td>\n",
       "      <td>526905.0</td>\n",
       "      <td>483300.0</td>\n",
       "      <td>27.7</td>\n",
       "      <td>0.74</td>\n",
       "    </tr>\n",
       "    <tr>\n",
       "      <th>2832</th>\n",
       "      <td>27405</td>\n",
       "      <td>2022</td>\n",
       "      <td>THE HARRISON</td>\n",
       "      <td>Multifamily LR (1-4)</td>\n",
       "      <td>4232401360</td>\n",
       "      <td>...</td>\n",
       "      <td>Missing EUI, Incomplete Natural Gas Data</td>\n",
       "      <td>540276.0</td>\n",
       "      <td>NaN</td>\n",
       "      <td>2.1</td>\n",
       "      <td>0.09</td>\n",
       "    </tr>\n",
       "    <tr>\n",
       "      <th>2976</th>\n",
       "      <td>27982</td>\n",
       "      <td>2022</td>\n",
       "      <td>OFFICE BUILDING</td>\n",
       "      <td>NonResidential</td>\n",
       "      <td>4310701210</td>\n",
       "      <td>...</td>\n",
       "      <td>No Issue</td>\n",
       "      <td>414067.0</td>\n",
       "      <td>414640.0</td>\n",
       "      <td>23.6</td>\n",
       "      <td>0.94</td>\n",
       "    </tr>\n",
       "    <tr>\n",
       "      <th>3004</th>\n",
       "      <td>28066</td>\n",
       "      <td>2022</td>\n",
       "      <td>OFFICE BUILDING</td>\n",
       "      <td>NonResidential</td>\n",
       "      <td>4385700325</td>\n",
       "      <td>...</td>\n",
       "      <td>No Issue</td>\n",
       "      <td>795691.0</td>\n",
       "      <td>NaN</td>\n",
       "      <td>3.1</td>\n",
       "      <td>0.16</td>\n",
       "    </tr>\n",
       "    <tr>\n",
       "      <th>3063</th>\n",
       "      <td>40388</td>\n",
       "      <td>2022</td>\n",
       "      <td>MAGNOLIA MANOR</td>\n",
       "      <td>Multifamily LR (1-4)</td>\n",
       "      <td>5036300165</td>\n",
       "      <td>...</td>\n",
       "      <td>No Issue</td>\n",
       "      <td>599628.0</td>\n",
       "      <td>NaN</td>\n",
       "      <td>2.3</td>\n",
       "      <td>0.09</td>\n",
       "    </tr>\n",
       "  </tbody>\n",
       "</table>\n",
       "<p>34 rows × 42 columns</p>\n",
       "</div>"
      ],
      "text/plain": [
       "      OSEBuildingID  DataYear             BuildingName          BuildingType  \\\n",
       "564             780      2022       KING STREET CENTER        NonResidential   \n",
       "607             848      2022               HOME DEPOT        NonResidential   \n",
       "663           19576      2022  PAPE' MATERIAL HANDLING        NonResidential   \n",
       "767           19871      2022      GRANGE OFFICE PLAZA        NonResidential   \n",
       "972           20470      2022         LAKE CITY CENTER        NonResidential   \n",
       "...             ...       ...                      ...                   ...   \n",
       "2771          27184      2022                WAREHOUSE        NonResidential   \n",
       "2832          27405      2022             THE HARRISON  Multifamily LR (1-4)   \n",
       "2976          27982      2022          OFFICE BUILDING        NonResidential   \n",
       "3004          28066      2022          OFFICE BUILDING        NonResidential   \n",
       "3063          40388      2022           MAGNOLIA MANOR  Multifamily LR (1-4)   \n",
       "\n",
       "     TaxParcelIdentificationNumber  ...  \\\n",
       "564                     5247800795  ...   \n",
       "607                     3026049093  ...   \n",
       "663                     0323049241  ...   \n",
       "767                     0656000045  ...   \n",
       "972                     1453600540  ...   \n",
       "...                            ...  ...   \n",
       "2771                    7443001620  ...   \n",
       "2832                    4232401360  ...   \n",
       "2976                    4310701210  ...   \n",
       "3004                    4385700325  ...   \n",
       "3063                    5036300165  ...   \n",
       "\n",
       "                               ComplianceIssue Electricity(kBtu)  \\\n",
       "564                Missing EUI or Utility Data               NaN   \n",
       "607                                   No Issue         2991772.0   \n",
       "663                Missing EUI or Utility Data               NaN   \n",
       "767                                   No Issue          435226.0   \n",
       "972                Missing EUI or Utility Data               0.0   \n",
       "...                                        ...               ...   \n",
       "2771                                  No Issue          526905.0   \n",
       "2832  Missing EUI, Incomplete Natural Gas Data          540276.0   \n",
       "2976                                  No Issue          414067.0   \n",
       "3004                                  No Issue          795691.0   \n",
       "3063                                  No Issue          599628.0   \n",
       "\n",
       "     NaturalGas(kBtu)  TotalGHGEmissions  GHGEmissionsIntensity  \n",
       "564               NaN                NaN                    NaN  \n",
       "607         4332660.0              241.6                   2.37  \n",
       "663               NaN                NaN                    NaN  \n",
       "767         1611300.0               87.2                   3.05  \n",
       "972               NaN                NaN                    NaN  \n",
       "...               ...                ...                    ...  \n",
       "2771         483300.0               27.7                   0.74  \n",
       "2832              NaN                2.1                   0.09  \n",
       "2976         414640.0               23.6                   0.94  \n",
       "3004              NaN                3.1                   0.16  \n",
       "3063              NaN                2.3                   0.09  \n",
       "\n",
       "[34 rows x 42 columns]"
      ]
     },
     "execution_count": 19,
     "metadata": {},
     "output_type": "execute_result"
    }
   ],
   "source": [
    "df2022[df2022.duplicated(['BuildingName'])]"
   ]
  },
  {
   "cell_type": "code",
   "execution_count": 20,
   "id": "315c1c88-d62c-4e7a-b0af-c00139523da3",
   "metadata": {
    "tags": []
   },
   "outputs": [
    {
     "data": {
      "text/plain": [
       "(3647, 42)"
      ]
     },
     "execution_count": 20,
     "metadata": {},
     "output_type": "execute_result"
    }
   ],
   "source": [
    "df2022 = df2022.drop_duplicates(subset=['OSEBuildingID'],keep='first')\n",
    "df2022.shape"
   ]
  },
  {
   "cell_type": "code",
   "execution_count": 21,
   "id": "ab60405e-9f5e-4b1e-9ca0-be53a7dd65e1",
   "metadata": {
    "tags": []
   },
   "outputs": [
    {
     "data": {
      "text/plain": [
       "3542"
      ]
     },
     "execution_count": 21,
     "metadata": {},
     "output_type": "execute_result"
    }
   ],
   "source": [
    "len(df2022['TaxParcelIdentificationNumber'].unique())"
   ]
  },
  {
   "cell_type": "code",
   "execution_count": 22,
   "id": "23877719-4987-41ca-b079-3995ca8baaaa",
   "metadata": {
    "tags": []
   },
   "outputs": [
    {
     "data": {
      "text/plain": [
       "7"
      ]
     },
     "execution_count": 22,
     "metadata": {},
     "output_type": "execute_result"
    }
   ],
   "source": [
    "len(df2022.CouncilDistrictCode.unique())"
   ]
  },
  {
   "cell_type": "code",
   "execution_count": 23,
   "id": "5d23d9c3-058b-44b3-91dd-1cc80b94eccc",
   "metadata": {
    "tags": []
   },
   "outputs": [
    {
     "data": {
      "text/plain": [
       "0                      Hotel\n",
       "1                      Hotel\n",
       "2                      Hotel\n",
       "3                      Hotel\n",
       "4                      Hotel\n",
       "                ...         \n",
       "3643                     NaN\n",
       "3644              Laboratory\n",
       "3645                  Office\n",
       "3646    Multifamily MR (5-9)\n",
       "3647                     NaN\n",
       "Name: EPAPropertyType, Length: 3647, dtype: object"
      ]
     },
     "execution_count": 23,
     "metadata": {},
     "output_type": "execute_result"
    }
   ],
   "source": [
    "df2022['EPAPropertyType']"
   ]
  },
  {
   "cell_type": "code",
   "execution_count": 24,
   "id": "853c43da-f1eb-415a-8eea-742c52387d51",
   "metadata": {
    "tags": []
   },
   "outputs": [
    {
     "data": {
      "text/plain": [
       "0        88434.0\n",
       "1        88502.0\n",
       "2       945349.0\n",
       "3        61320.0\n",
       "4       123445.0\n",
       "          ...   \n",
       "3643         NaN\n",
       "3644    413858.0\n",
       "3645    101264.0\n",
       "3646     81338.0\n",
       "3647         NaN\n",
       "Name: LargestPropertyUseTypeGFA, Length: 3647, dtype: float64"
      ]
     },
     "execution_count": 24,
     "metadata": {},
     "output_type": "execute_result"
    }
   ],
   "source": [
    "df2022['LargestPropertyUseTypeGFA']"
   ]
  },
  {
   "cell_type": "markdown",
   "id": "89a732d0-a373-423c-848d-612ca1d7dd2b",
   "metadata": {},
   "source": [
    "'LargestPropertyUseTypeGFA': 面积大概是"
   ]
  },
  {
   "cell_type": "code",
   "execution_count": 25,
   "id": "ff5e5253-c85b-45ab-9c65-2ce9efa375cb",
   "metadata": {
    "tags": []
   },
   "outputs": [
    {
     "data": {
      "text/plain": [
       "Index(['OSEBuildingID', 'DataYear', 'BuildingName', 'BuildingType',\n",
       "       'TaxParcelIdentificationNumber', 'Address', 'City', 'State', 'ZipCode',\n",
       "       'Latitude', 'Longitude', 'Neighborhood', 'CouncilDistrictCode',\n",
       "       'YearBuilt', 'NumberofFloors', 'NumberofBuildings', 'PropertyGFATotal',\n",
       "       'PropertyGFABuilding(s)', 'PropertyGFAParking', 'ENERGYSTARScore',\n",
       "       'SiteEUIWN(kBtu/sf)', 'SiteEUI(kBtu/sf)', 'SiteEnergyUse(kBtu)',\n",
       "       'SiteEnergyUseWN(kBtu)', 'SourceEUIWN(kBtu/sf)', 'SourceEUI(kBtu/sf)',\n",
       "       'EPAPropertyType', 'LargestPropertyUseType',\n",
       "       'LargestPropertyUseTypeGFA', 'SecondLargestPropertyUseType',\n",
       "       'SecondLargestPropertyUseTypeGFA', 'ThirdLargestPropertyUseType',\n",
       "       'ThirdLargestPropertyUseTypeGFA', 'Electricity(kWh)', 'SteamUse(kBtu)',\n",
       "       'NaturalGas(therms)', 'ComplianceStatus', 'ComplianceIssue',\n",
       "       'Electricity(kBtu)', 'NaturalGas(kBtu)', 'TotalGHGEmissions',\n",
       "       'GHGEmissionsIntensity'],\n",
       "      dtype='object')"
      ]
     },
     "execution_count": 25,
     "metadata": {},
     "output_type": "execute_result"
    }
   ],
   "source": [
    "df2022.columns"
   ]
  },
  {
   "cell_type": "markdown",
   "id": "e7cca326-788b-4378-86ec-51ed81272165",
   "metadata": {},
   "source": []
  },
  {
   "cell_type": "markdown",
   "id": "bc748c26-e093-4d6c-861f-7df44fa699cf",
   "metadata": {},
   "source": [
    "SiteEnergyUse(kBtu): The annual amount of energy consumed by the property from all sources of energy.  \n",
    "SiteEnergyUseWN(kBtu): The annual amount of energy consumed by the property from all sources of energy, adjusted to what the property would have consumed during 30-year average weather conditions.\n",
    "\n",
    "'SiteEUIWN(kBtu/sf)': Weather Normalized (WN) Source Energy Use Intensity (EUI) is a property's WN Source Energy divided by its gross floor area. WN Source Energy is the Source Energy Use the property would have consumed during 30-year average weather conditions. WN Source EUI is measured in measured in thousands of British thermal units (kBtu) per square foot.     \n",
    "'SiteEUI(kBtu/sf)': Source Energy Use Intensity (EUI) is a property's Source Energy Use divided by its gross floor area. Source Energy Use is the annual energy used to operate the property, including losses from generation, transmission, & distribution. Source EUI is measured in thousands of British thermal units (kBtu) per square foot.\n",
    "\n",
    "Electricity(kWh)\t\n",
    "The annual amount of electricity consumed by the property on-site, including electricity purchased from the grid and generated by onsite renewable systems, measured in kWh.  \n",
    "Electricity(kBtu)\t\n",
    "The annual amount of electricity consumed by the property on-site, including electricity purchased from the grid and generated by onsite renewable systems, measured in thousands of British thermal units (kBtu).\n",
    "\n",
    "PropertyGFATotal: \t\n",
    "Total building and parking gross floor area.  \n",
    "PropertyGFABuilding(s): \t\n",
    "Total floor space in square feet between the outside surfaces of a building’s enclosing walls. This includes all areas inside the building(s), such as tenant space, common areas, stairwells, basements, storage, etc...  \n",
    "'PropertyGFAParking'\n",
    "\n",
    "SourceEUIWN(kBtu/sf): Weather Normalized (WN) Source Energy Use Intensity (EUI) is a property's WN Source Energy divided by its gross floor area. WN Source Energy is the Source Energy Use the property would have consumed during 30-year average weather conditions. WN Source EUI is measured in measured in thousands of British thermal units (kBtu) per square foot.  \n",
    "SourceEUI(kBtu/sf): Source Energy Use Intensity (EUI) is a property's Source Energy Use divided by its gross floor area. Source Energy Use is the annual energy used to operate the property, including losses from generation, transmission, & distribution. Source EUI is measured in thousands of British thermal units (kBtu) per square foot."
   ]
  },
  {
   "cell_type": "code",
   "execution_count": 26,
   "id": "85de33d7-2cad-4dea-b71f-34e1bfeff993",
   "metadata": {
    "tags": []
   },
   "outputs": [
    {
     "data": {
      "text/plain": [
       "(3647, 42)"
      ]
     },
     "execution_count": 26,
     "metadata": {},
     "output_type": "execute_result"
    }
   ],
   "source": [
    "df2022.shape"
   ]
  },
  {
   "cell_type": "code",
   "execution_count": 67,
   "id": "bdab1219-1014-4243-a95d-3bc518162bef",
   "metadata": {
    "tags": []
   },
   "outputs": [
    {
     "data": {
      "text/plain": [
       "(3647, 24)"
      ]
     },
     "execution_count": 67,
     "metadata": {},
     "output_type": "execute_result"
    }
   ],
   "source": [
    "df = df2022.drop(columns=['OSEBuildingID','DataYear','BuildingName','TaxParcelIdentificationNumber',\n",
    "                          'Address', 'City', 'State',\n",
    "                          'GHGEmissionsIntensity','ComplianceIssue','ENERGYSTARScore',\n",
    "                          'SiteEnergyUseWN(kBtu)','SiteEUIWN(kBtu/sf)','SiteEUI(kBtu/sf)',\n",
    "                          'Electricity(kBtu)','PropertyGFABuilding(s)','SourceEUIWN(kBtu/sf)',\n",
    "                         'CouncilDistrictCode','EPAPropertyType'])\n",
    "df.shape"
   ]
  },
  {
   "cell_type": "code",
   "execution_count": 68,
   "id": "9b6bbfad-a42d-4556-9c92-e58498fb396b",
   "metadata": {
    "tags": []
   },
   "outputs": [
    {
     "data": {
      "text/plain": [
       "Index(['BuildingType', 'ZipCode', 'Latitude', 'Longitude', 'Neighborhood',\n",
       "       'YearBuilt', 'NumberofFloors', 'NumberofBuildings', 'PropertyGFATotal',\n",
       "       'PropertyGFAParking', 'SiteEnergyUse(kBtu)', 'SourceEUI(kBtu/sf)',\n",
       "       'LargestPropertyUseType', 'LargestPropertyUseTypeGFA',\n",
       "       'SecondLargestPropertyUseType', 'SecondLargestPropertyUseTypeGFA',\n",
       "       'ThirdLargestPropertyUseType', 'ThirdLargestPropertyUseTypeGFA',\n",
       "       'Electricity(kWh)', 'SteamUse(kBtu)', 'NaturalGas(therms)',\n",
       "       'ComplianceStatus', 'NaturalGas(kBtu)', 'TotalGHGEmissions'],\n",
       "      dtype='object')"
      ]
     },
     "execution_count": 68,
     "metadata": {},
     "output_type": "execute_result"
    }
   ],
   "source": [
    "df.columns"
   ]
  },
  {
   "cell_type": "markdown",
   "id": "dc7d8352-d0a5-4c6d-8fb7-a71b3b336df6",
   "metadata": {},
   "source": [
    "## Missing"
   ]
  },
  {
   "cell_type": "code",
   "execution_count": 69,
   "id": "7d1a0fd5-5195-4fd0-a9b0-53286aaa9920",
   "metadata": {
    "tags": []
   },
   "outputs": [
    {
     "data": {
      "text/plain": [
       "BuildingType             0\n",
       "ZipCode                 55\n",
       "Latitude                 0\n",
       "Longitude                0\n",
       "Neighborhood             0\n",
       "                      ... \n",
       "SteamUse(kBtu)        3531\n",
       "NaturalGas(therms)    1923\n",
       "ComplianceStatus         0\n",
       "NaturalGas(kBtu)      1923\n",
       "TotalGHGEmissions      301\n",
       "Length: 24, dtype: int64"
      ]
     },
     "execution_count": 69,
     "metadata": {},
     "output_type": "execute_result"
    }
   ],
   "source": [
    "df.isnull().sum()"
   ]
  },
  {
   "cell_type": "code",
   "execution_count": 70,
   "id": "b8186772-fbf0-49ff-a1fd-8de71fcc9527",
   "metadata": {
    "tags": []
   },
   "outputs": [
    {
     "data": {
      "text/plain": [
       "BuildingType            0\n",
       "ZipCode                55\n",
       "Latitude                0\n",
       "Longitude               0\n",
       "Neighborhood            0\n",
       "                     ... \n",
       "SteamUse(kBtu)          0\n",
       "NaturalGas(therms)      0\n",
       "ComplianceStatus        0\n",
       "NaturalGas(kBtu)        0\n",
       "TotalGHGEmissions     301\n",
       "Length: 24, dtype: int64"
      ]
     },
     "execution_count": 70,
     "metadata": {},
     "output_type": "execute_result"
    }
   ],
   "source": [
    "values = {'SecondLargestPropertyUseType': 'none',\n",
    "          'SecondLargestPropertyUseTypeGFA': 0,\n",
    "          'ThirdLargestPropertyUseType': 'none', \n",
    "          'ThirdLargestPropertyUseTypeGFA': 0,\n",
    "          'SteamUse(kBtu)': 0, \n",
    "          'NaturalGas(therms)': 0, \n",
    "          'NaturalGas(kBtu)': 0,\n",
    "          'NumberofBuildings': 0}\n",
    "df.fillna(value=values, inplace=True)\n",
    "df.isnull().sum()"
   ]
  },
  {
   "cell_type": "code",
   "execution_count": 71,
   "id": "192e65cd-3d83-4885-a2ec-7b136636b6b2",
   "metadata": {
    "tags": []
   },
   "outputs": [
    {
     "data": {
      "text/plain": [
       "(2850, 24)"
      ]
     },
     "execution_count": 71,
     "metadata": {},
     "output_type": "execute_result"
    }
   ],
   "source": [
    "df.dropna(inplace=True)\n",
    "df.shape"
   ]
  },
  {
   "cell_type": "code",
   "execution_count": 72,
   "id": "bc76b029-330c-4e10-a021-5c6bd81aa16f",
   "metadata": {
    "tags": []
   },
   "outputs": [
    {
     "data": {
      "text/plain": [
       "0"
      ]
     },
     "execution_count": 72,
     "metadata": {},
     "output_type": "execute_result"
    }
   ],
   "source": [
    "sum(df.isnull().sum())"
   ]
  },
  {
   "cell_type": "code",
   "execution_count": 73,
   "id": "6a8b414a-6baf-498b-9225-211718fda03a",
   "metadata": {
    "tags": []
   },
   "outputs": [],
   "source": [
    "df.to_csv('cleaned_bench_marking_2022.csv')"
   ]
  },
  {
   "cell_type": "code",
   "execution_count": 74,
   "id": "0991028b-34a1-4420-8cd7-d963f74954b0",
   "metadata": {
    "tags": []
   },
   "outputs": [],
   "source": [
    "cat = ['BuildingType','ZipCode','Neighborhood',\n",
    "       'LargestPropertyUseType','SecondLargestPropertyUseType','ThirdLargestPropertyUseType',\n",
    "       'ComplianceStatus'\n",
    "      ]"
   ]
  },
  {
   "cell_type": "code",
   "execution_count": 75,
   "id": "1f63ac73-eedb-46c2-b429-ad6eab7d5144",
   "metadata": {
    "tags": []
   },
   "outputs": [
    {
     "data": {
      "text/plain": [
       "array(['Compliant', 'Not Compliant'], dtype=object)"
      ]
     },
     "execution_count": 75,
     "metadata": {},
     "output_type": "execute_result"
    }
   ],
   "source": [
    "df.ComplianceStatus.unique()"
   ]
  },
  {
   "cell_type": "markdown",
   "id": "4653ba6b-1120-4b1e-8918-b8e40a008200",
   "metadata": {},
   "source": [
    "## LabelEncoder"
   ]
  },
  {
   "cell_type": "code",
   "execution_count": 76,
   "id": "6b321aae-258e-4b11-ae84-cf2b60aa3fbc",
   "metadata": {
    "tags": []
   },
   "outputs": [],
   "source": [
    "from sklearn.preprocessing import LabelEncoder\n",
    "for c in cat:\n",
    "    le = LabelEncoder()\n",
    "    df[c] = le.fit_transform(df[c])"
   ]
  },
  {
   "cell_type": "code",
   "execution_count": 77,
   "id": "fe62d26e-ed31-4887-b83e-9b327ed46dc9",
   "metadata": {
    "tags": []
   },
   "outputs": [
    {
     "data": {
      "text/html": [
       "<div>\n",
       "<style scoped>\n",
       "    .dataframe tbody tr th:only-of-type {\n",
       "        vertical-align: middle;\n",
       "    }\n",
       "\n",
       "    .dataframe tbody tr th {\n",
       "        vertical-align: top;\n",
       "    }\n",
       "\n",
       "    .dataframe thead th {\n",
       "        text-align: right;\n",
       "    }\n",
       "</style>\n",
       "<table border=\"1\" class=\"dataframe\">\n",
       "  <thead>\n",
       "    <tr style=\"text-align: right;\">\n",
       "      <th></th>\n",
       "      <th>BuildingType</th>\n",
       "      <th>ZipCode</th>\n",
       "      <th>Latitude</th>\n",
       "      <th>Longitude</th>\n",
       "      <th>Neighborhood</th>\n",
       "      <th>...</th>\n",
       "      <th>SteamUse(kBtu)</th>\n",
       "      <th>NaturalGas(therms)</th>\n",
       "      <th>ComplianceStatus</th>\n",
       "      <th>NaturalGas(kBtu)</th>\n",
       "      <th>TotalGHGEmissions</th>\n",
       "    </tr>\n",
       "  </thead>\n",
       "  <tbody>\n",
       "    <tr>\n",
       "      <th>0</th>\n",
       "      <td>4</td>\n",
       "      <td>0</td>\n",
       "      <td>47.61220</td>\n",
       "      <td>-122.33799</td>\n",
       "      <td>3</td>\n",
       "      <td>...</td>\n",
       "      <td>2192383.0</td>\n",
       "      <td>13629.0</td>\n",
       "      <td>0</td>\n",
       "      <td>1362900.0</td>\n",
       "      <td>264.5</td>\n",
       "    </tr>\n",
       "    <tr>\n",
       "      <th>1</th>\n",
       "      <td>4</td>\n",
       "      <td>0</td>\n",
       "      <td>47.61307</td>\n",
       "      <td>-122.33361</td>\n",
       "      <td>3</td>\n",
       "      <td>...</td>\n",
       "      <td>0.0</td>\n",
       "      <td>27516.0</td>\n",
       "      <td>0</td>\n",
       "      <td>2751630.0</td>\n",
       "      <td>155.3</td>\n",
       "    </tr>\n",
       "    <tr>\n",
       "      <th>2</th>\n",
       "      <td>4</td>\n",
       "      <td>0</td>\n",
       "      <td>47.61367</td>\n",
       "      <td>-122.33822</td>\n",
       "      <td>3</td>\n",
       "      <td>...</td>\n",
       "      <td>18793702.0</td>\n",
       "      <td>56993.0</td>\n",
       "      <td>0</td>\n",
       "      <td>5699300.0</td>\n",
       "      <td>1963.7</td>\n",
       "    </tr>\n",
       "    <tr>\n",
       "      <th>3</th>\n",
       "      <td>4</td>\n",
       "      <td>0</td>\n",
       "      <td>47.61412</td>\n",
       "      <td>-122.33664</td>\n",
       "      <td>3</td>\n",
       "      <td>...</td>\n",
       "      <td>1549427.0</td>\n",
       "      <td>30590.0</td>\n",
       "      <td>0</td>\n",
       "      <td>3058990.0</td>\n",
       "      <td>298.2</td>\n",
       "    </tr>\n",
       "    <tr>\n",
       "      <th>4</th>\n",
       "      <td>4</td>\n",
       "      <td>15</td>\n",
       "      <td>47.61375</td>\n",
       "      <td>-122.34047</td>\n",
       "      <td>3</td>\n",
       "      <td>...</td>\n",
       "      <td>0.0</td>\n",
       "      <td>73621.0</td>\n",
       "      <td>0</td>\n",
       "      <td>7362130.0</td>\n",
       "      <td>409.0</td>\n",
       "    </tr>\n",
       "    <tr>\n",
       "      <th>...</th>\n",
       "      <td>...</td>\n",
       "      <td>...</td>\n",
       "      <td>...</td>\n",
       "      <td>...</td>\n",
       "      <td>...</td>\n",
       "      <td>...</td>\n",
       "      <td>...</td>\n",
       "      <td>...</td>\n",
       "      <td>...</td>\n",
       "      <td>...</td>\n",
       "      <td>...</td>\n",
       "    </tr>\n",
       "    <tr>\n",
       "      <th>3640</th>\n",
       "      <td>1</td>\n",
       "      <td>3</td>\n",
       "      <td>47.60018</td>\n",
       "      <td>-122.32811</td>\n",
       "      <td>3</td>\n",
       "      <td>...</td>\n",
       "      <td>0.0</td>\n",
       "      <td>24752.0</td>\n",
       "      <td>0</td>\n",
       "      <td>2475190.0</td>\n",
       "      <td>145.4</td>\n",
       "    </tr>\n",
       "    <tr>\n",
       "      <th>3641</th>\n",
       "      <td>3</td>\n",
       "      <td>16</td>\n",
       "      <td>47.61272</td>\n",
       "      <td>-122.31968</td>\n",
       "      <td>4</td>\n",
       "      <td>...</td>\n",
       "      <td>0.0</td>\n",
       "      <td>3996.0</td>\n",
       "      <td>0</td>\n",
       "      <td>399600.0</td>\n",
       "      <td>23.0</td>\n",
       "    </tr>\n",
       "    <tr>\n",
       "      <th>3644</th>\n",
       "      <td>4</td>\n",
       "      <td>0</td>\n",
       "      <td>47.61689</td>\n",
       "      <td>-122.33410</td>\n",
       "      <td>3</td>\n",
       "      <td>...</td>\n",
       "      <td>0.0</td>\n",
       "      <td>439548.0</td>\n",
       "      <td>0</td>\n",
       "      <td>43954750.0</td>\n",
       "      <td>2423.1</td>\n",
       "    </tr>\n",
       "    <tr>\n",
       "      <th>3645</th>\n",
       "      <td>4</td>\n",
       "      <td>0</td>\n",
       "      <td>47.60844</td>\n",
       "      <td>-122.33470</td>\n",
       "      <td>3</td>\n",
       "      <td>...</td>\n",
       "      <td>0.0</td>\n",
       "      <td>0.0</td>\n",
       "      <td>1</td>\n",
       "      <td>0.0</td>\n",
       "      <td>2.4</td>\n",
       "    </tr>\n",
       "    <tr>\n",
       "      <th>3646</th>\n",
       "      <td>3</td>\n",
       "      <td>2</td>\n",
       "      <td>47.65715</td>\n",
       "      <td>-122.34204</td>\n",
       "      <td>6</td>\n",
       "      <td>...</td>\n",
       "      <td>0.0</td>\n",
       "      <td>0.0</td>\n",
       "      <td>0</td>\n",
       "      <td>0.0</td>\n",
       "      <td>3.2</td>\n",
       "    </tr>\n",
       "  </tbody>\n",
       "</table>\n",
       "<p>2850 rows × 24 columns</p>\n",
       "</div>"
      ],
      "text/plain": [
       "      BuildingType  ZipCode  Latitude  Longitude  Neighborhood  ...  \\\n",
       "0                4        0  47.61220 -122.33799             3  ...   \n",
       "1                4        0  47.61307 -122.33361             3  ...   \n",
       "2                4        0  47.61367 -122.33822             3  ...   \n",
       "3                4        0  47.61412 -122.33664             3  ...   \n",
       "4                4       15  47.61375 -122.34047             3  ...   \n",
       "...            ...      ...       ...        ...           ...  ...   \n",
       "3640             1        3  47.60018 -122.32811             3  ...   \n",
       "3641             3       16  47.61272 -122.31968             4  ...   \n",
       "3644             4        0  47.61689 -122.33410             3  ...   \n",
       "3645             4        0  47.60844 -122.33470             3  ...   \n",
       "3646             3        2  47.65715 -122.34204             6  ...   \n",
       "\n",
       "      SteamUse(kBtu)  NaturalGas(therms)  ComplianceStatus  NaturalGas(kBtu)  \\\n",
       "0          2192383.0             13629.0                 0         1362900.0   \n",
       "1                0.0             27516.0                 0         2751630.0   \n",
       "2         18793702.0             56993.0                 0         5699300.0   \n",
       "3          1549427.0             30590.0                 0         3058990.0   \n",
       "4                0.0             73621.0                 0         7362130.0   \n",
       "...              ...                 ...               ...               ...   \n",
       "3640             0.0             24752.0                 0         2475190.0   \n",
       "3641             0.0              3996.0                 0          399600.0   \n",
       "3644             0.0            439548.0                 0        43954750.0   \n",
       "3645             0.0                 0.0                 1               0.0   \n",
       "3646             0.0                 0.0                 0               0.0   \n",
       "\n",
       "      TotalGHGEmissions  \n",
       "0                 264.5  \n",
       "1                 155.3  \n",
       "2                1963.7  \n",
       "3                 298.2  \n",
       "4                 409.0  \n",
       "...                 ...  \n",
       "3640              145.4  \n",
       "3641               23.0  \n",
       "3644             2423.1  \n",
       "3645                2.4  \n",
       "3646                3.2  \n",
       "\n",
       "[2850 rows x 24 columns]"
      ]
     },
     "execution_count": 77,
     "metadata": {},
     "output_type": "execute_result"
    }
   ],
   "source": [
    "df"
   ]
  },
  {
   "cell_type": "markdown",
   "id": "304e5114-9ff1-4ad2-b6ae-584e5a7156e3",
   "metadata": {},
   "source": [
    "## Outlier"
   ]
  },
  {
   "cell_type": "code",
   "execution_count": 78,
   "id": "ba9248c7-077f-4571-95e1-f904aa938c68",
   "metadata": {
    "tags": []
   },
   "outputs": [
    {
     "data": {
      "text/plain": [
       "<Axes: xlabel='NaturalGas(kBtu)', ylabel='TotalGHGEmissions'>"
      ]
     },
     "execution_count": 78,
     "metadata": {},
     "output_type": "execute_result"
    },
    {
     "data": {
      "image/png": "[encoded data removed]",
      "text/plain": [
       "<Figure size 640x480 with 1 Axes>"
      ]
     },
     "metadata": {},
     "output_type": "display_data"
    }
   ],
   "source": [
    "sns.scatterplot(data=df, x='NaturalGas(kBtu)',y='TotalGHGEmissions')"
   ]
  },
  {
   "cell_type": "code",
   "execution_count": 79,
   "id": "03039dd3-f237-4a28-a064-745e88f36359",
   "metadata": {
    "tags": []
   },
   "outputs": [
    {
     "data": {
      "text/html": [
       "<div>\n",
       "<style scoped>\n",
       "    .dataframe tbody tr th:only-of-type {\n",
       "        vertical-align: middle;\n",
       "    }\n",
       "\n",
       "    .dataframe tbody tr th {\n",
       "        vertical-align: top;\n",
       "    }\n",
       "\n",
       "    .dataframe thead th {\n",
       "        text-align: right;\n",
       "    }\n",
       "</style>\n",
       "<table border=\"1\" class=\"dataframe\">\n",
       "  <thead>\n",
       "    <tr style=\"text-align: right;\">\n",
       "      <th></th>\n",
       "      <th>BuildingType</th>\n",
       "      <th>ZipCode</th>\n",
       "      <th>Latitude</th>\n",
       "      <th>Longitude</th>\n",
       "      <th>Neighborhood</th>\n",
       "      <th>...</th>\n",
       "      <th>SteamUse(kBtu)</th>\n",
       "      <th>NaturalGas(therms)</th>\n",
       "      <th>ComplianceStatus</th>\n",
       "      <th>NaturalGas(kBtu)</th>\n",
       "      <th>TotalGHGEmissions</th>\n",
       "    </tr>\n",
       "  </thead>\n",
       "  <tbody>\n",
       "    <tr>\n",
       "      <th>count</th>\n",
       "      <td>2850.000000</td>\n",
       "      <td>2850.000000</td>\n",
       "      <td>2850.000000</td>\n",
       "      <td>2850.000000</td>\n",
       "      <td>2850.000000</td>\n",
       "      <td>...</td>\n",
       "      <td>2.850000e+03</td>\n",
       "      <td>2.850000e+03</td>\n",
       "      <td>2850.000000</td>\n",
       "      <td>2.850000e+03</td>\n",
       "      <td>2850.000000</td>\n",
       "    </tr>\n",
       "    <tr>\n",
       "      <th>mean</th>\n",
       "      <td>3.155439</td>\n",
       "      <td>10.248421</td>\n",
       "      <td>47.626009</td>\n",
       "      <td>-122.335538</td>\n",
       "      <td>6.582456</td>\n",
       "      <td>...</td>\n",
       "      <td>3.328903e+05</td>\n",
       "      <td>1.724455e+04</td>\n",
       "      <td>0.033684</td>\n",
       "      <td>1.724454e+06</td>\n",
       "      <td>132.571789</td>\n",
       "    </tr>\n",
       "    <tr>\n",
       "      <th>std</th>\n",
       "      <td>1.278126</td>\n",
       "      <td>7.186238</td>\n",
       "      <td>0.047146</td>\n",
       "      <td>0.027223</td>\n",
       "      <td>4.447783</td>\n",
       "      <td>...</td>\n",
       "      <td>4.045244e+06</td>\n",
       "      <td>9.617605e+04</td>\n",
       "      <td>0.180447</td>\n",
       "      <td>9.617605e+06</td>\n",
       "      <td>632.442789</td>\n",
       "    </tr>\n",
       "    <tr>\n",
       "      <th>min</th>\n",
       "      <td>0.000000</td>\n",
       "      <td>0.000000</td>\n",
       "      <td>47.499170</td>\n",
       "      <td>-122.414250</td>\n",
       "      <td>0.000000</td>\n",
       "      <td>...</td>\n",
       "      <td>0.000000e+00</td>\n",
       "      <td>0.000000e+00</td>\n",
       "      <td>0.000000</td>\n",
       "      <td>0.000000e+00</td>\n",
       "      <td>0.400000</td>\n",
       "    </tr>\n",
       "    <tr>\n",
       "      <th>25%</th>\n",
       "      <td>2.000000</td>\n",
       "      <td>4.000000</td>\n",
       "      <td>47.602355</td>\n",
       "      <td>-122.351728</td>\n",
       "      <td>3.000000</td>\n",
       "      <td>...</td>\n",
       "      <td>0.000000e+00</td>\n",
       "      <td>0.000000e+00</td>\n",
       "      <td>0.000000</td>\n",
       "      <td>0.000000e+00</td>\n",
       "      <td>4.700000</td>\n",
       "    </tr>\n",
       "    <tr>\n",
       "      <th>50%</th>\n",
       "      <td>3.000000</td>\n",
       "      <td>9.000000</td>\n",
       "      <td>47.619985</td>\n",
       "      <td>-122.333460</td>\n",
       "      <td>6.000000</td>\n",
       "      <td>...</td>\n",
       "      <td>0.000000e+00</td>\n",
       "      <td>2.987500e+03</td>\n",
       "      <td>0.000000</td>\n",
       "      <td>2.987200e+05</td>\n",
       "      <td>29.900000</td>\n",
       "    </tr>\n",
       "    <tr>\n",
       "      <th>75%</th>\n",
       "      <td>4.000000</td>\n",
       "      <td>16.000000</td>\n",
       "      <td>47.658068</td>\n",
       "      <td>-122.319672</td>\n",
       "      <td>9.000000</td>\n",
       "      <td>...</td>\n",
       "      <td>0.000000e+00</td>\n",
       "      <td>1.466325e+04</td>\n",
       "      <td>0.000000</td>\n",
       "      <td>1.466325e+06</td>\n",
       "      <td>100.450000</td>\n",
       "    </tr>\n",
       "    <tr>\n",
       "      <th>max</th>\n",
       "      <td>7.000000</td>\n",
       "      <td>28.000000</td>\n",
       "      <td>47.733870</td>\n",
       "      <td>-122.258640</td>\n",
       "      <td>19.000000</td>\n",
       "      <td>...</td>\n",
       "      <td>1.309626e+08</td>\n",
       "      <td>4.327243e+06</td>\n",
       "      <td>1.000000</td>\n",
       "      <td>4.327243e+08</td>\n",
       "      <td>23545.100000</td>\n",
       "    </tr>\n",
       "  </tbody>\n",
       "</table>\n",
       "<p>8 rows × 24 columns</p>\n",
       "</div>"
      ],
      "text/plain": [
       "       BuildingType      ZipCode     Latitude    Longitude  Neighborhood  ...  \\\n",
       "count   2850.000000  2850.000000  2850.000000  2850.000000   2850.000000  ...   \n",
       "mean       3.155439    10.248421    47.626009  -122.335538      6.582456  ...   \n",
       "std        1.278126     7.186238     0.047146     0.027223      4.447783  ...   \n",
       "min        0.000000     0.000000    47.499170  -122.414250      0.000000  ...   \n",
       "25%        2.000000     4.000000    47.602355  -122.351728      3.000000  ...   \n",
       "50%        3.000000     9.000000    47.619985  -122.333460      6.000000  ...   \n",
       "75%        4.000000    16.000000    47.658068  -122.319672      9.000000  ...   \n",
       "max        7.000000    28.000000    47.733870  -122.258640     19.000000  ...   \n",
       "\n",
       "       SteamUse(kBtu)  NaturalGas(therms)  ComplianceStatus  NaturalGas(kBtu)  \\\n",
       "count    2.850000e+03        2.850000e+03       2850.000000      2.850000e+03   \n",
       "mean     3.328903e+05        1.724455e+04          0.033684      1.724454e+06   \n",
       "std      4.045244e+06        9.617605e+04          0.180447      9.617605e+06   \n",
       "min      0.000000e+00        0.000000e+00          0.000000      0.000000e+00   \n",
       "25%      0.000000e+00        0.000000e+00          0.000000      0.000000e+00   \n",
       "50%      0.000000e+00        2.987500e+03          0.000000      2.987200e+05   \n",
       "75%      0.000000e+00        1.466325e+04          0.000000      1.466325e+06   \n",
       "max      1.309626e+08        4.327243e+06          1.000000      4.327243e+08   \n",
       "\n",
       "       TotalGHGEmissions  \n",
       "count        2850.000000  \n",
       "mean          132.571789  \n",
       "std           632.442789  \n",
       "min             0.400000  \n",
       "25%             4.700000  \n",
       "50%            29.900000  \n",
       "75%           100.450000  \n",
       "max         23545.100000  \n",
       "\n",
       "[8 rows x 24 columns]"
      ]
     },
     "execution_count": 79,
     "metadata": {},
     "output_type": "execute_result"
    }
   ],
   "source": [
    "df.describe()"
   ]
  },
  {
   "cell_type": "code",
   "execution_count": 80,
   "id": "bd73a188-5318-4023-a6df-e28f27941327",
   "metadata": {
    "tags": []
   },
   "outputs": [
    {
     "data": {
      "text/plain": [
       "(2707, 24)"
      ]
     },
     "execution_count": 80,
     "metadata": {},
     "output_type": "execute_result"
    }
   ],
   "source": [
    "df = df[df.TotalGHGEmissions<df.TotalGHGEmissions.quantile(0.95)]\n",
    "df.shape"
   ]
  },
  {
   "cell_type": "code",
   "execution_count": 81,
   "id": "7088f7b3-f1cc-455f-9224-55e91ee0a193",
   "metadata": {
    "tags": []
   },
   "outputs": [],
   "source": [
    "df.to_csv('cleaned_bench_marking_2022.csv')"
   ]
  },
  {
   "cell_type": "markdown",
   "id": "da422be7-2a0b-4bc1-8b0d-d92d7dc9b093",
   "metadata": {},
   "source": [
    "## Split Dataset"
   ]
  },
  {
   "cell_type": "code",
   "execution_count": 82,
   "id": "8af7eb49-df9b-4e67-9b99-3a37d10f1825",
   "metadata": {
    "tags": []
   },
   "outputs": [],
   "source": [
    "X = df.drop(columns=['TotalGHGEmissions'])\n",
    "y = df['TotalGHGEmissions']"
   ]
  },
  {
   "cell_type": "code",
   "execution_count": 83,
   "id": "004d0ff4-8b77-4914-b3be-f941d0128165",
   "metadata": {
    "tags": []
   },
   "outputs": [
    {
     "name": "stdout",
     "output_type": "stream",
     "text": [
      "(1894, 23)\n",
      "(1894,)\n",
      "(813, 23)\n",
      "(813,)\n"
     ]
    }
   ],
   "source": [
    "X_train, X_test, y_train, y_test = train_test_split(X, y, test_size=0.3, random_state=6)\n",
    "\n",
    "print(X_train.shape)\n",
    "print(y_train.shape)\n",
    "print(X_test.shape)\n",
    "print(y_test.shape)"
   ]
  },
  {
   "cell_type": "code",
   "execution_count": 84,
   "id": "f6024a2b-19d2-4576-a7e5-02b47627a04f",
   "metadata": {
    "tags": []
   },
   "outputs": [
    {
     "data": {
      "text/html": [
       "<div>\n",
       "<style scoped>\n",
       "    .dataframe tbody tr th:only-of-type {\n",
       "        vertical-align: middle;\n",
       "    }\n",
       "\n",
       "    .dataframe tbody tr th {\n",
       "        vertical-align: top;\n",
       "    }\n",
       "\n",
       "    .dataframe thead th {\n",
       "        text-align: right;\n",
       "    }\n",
       "</style>\n",
       "<table border=\"1\" class=\"dataframe\">\n",
       "  <thead>\n",
       "    <tr style=\"text-align: right;\">\n",
       "      <th></th>\n",
       "      <th>BuildingType</th>\n",
       "      <th>ZipCode</th>\n",
       "      <th>Latitude</th>\n",
       "      <th>Longitude</th>\n",
       "      <th>Neighborhood</th>\n",
       "      <th>...</th>\n",
       "      <th>Electricity(kWh)</th>\n",
       "      <th>SteamUse(kBtu)</th>\n",
       "      <th>NaturalGas(therms)</th>\n",
       "      <th>ComplianceStatus</th>\n",
       "      <th>NaturalGas(kBtu)</th>\n",
       "    </tr>\n",
       "  </thead>\n",
       "  <tbody>\n",
       "    <tr>\n",
       "      <th>0</th>\n",
       "      <td>-0.945303</td>\n",
       "      <td>-0.592526</td>\n",
       "      <td>0.844650</td>\n",
       "      <td>-1.598415</td>\n",
       "      <td>-1.493326</td>\n",
       "      <td>...</td>\n",
       "      <td>-0.339515</td>\n",
       "      <td>-0.136558</td>\n",
       "      <td>-0.633769</td>\n",
       "      <td>-0.180874</td>\n",
       "      <td>-0.633769</td>\n",
       "    </tr>\n",
       "    <tr>\n",
       "      <th>1</th>\n",
       "      <td>-0.945303</td>\n",
       "      <td>-1.153999</td>\n",
       "      <td>0.460346</td>\n",
       "      <td>-0.030284</td>\n",
       "      <td>-0.137882</td>\n",
       "      <td>...</td>\n",
       "      <td>-0.251774</td>\n",
       "      <td>-0.136558</td>\n",
       "      <td>-0.633769</td>\n",
       "      <td>-0.180874</td>\n",
       "      <td>-0.633769</td>\n",
       "    </tr>\n",
       "    <tr>\n",
       "      <th>2</th>\n",
       "      <td>0.666222</td>\n",
       "      <td>-0.452158</td>\n",
       "      <td>-2.124544</td>\n",
       "      <td>0.248302</td>\n",
       "      <td>-0.363789</td>\n",
       "      <td>...</td>\n",
       "      <td>-0.345255</td>\n",
       "      <td>-0.136558</td>\n",
       "      <td>-0.633769</td>\n",
       "      <td>-0.180874</td>\n",
       "      <td>-0.633769</td>\n",
       "    </tr>\n",
       "    <tr>\n",
       "      <th>3</th>\n",
       "      <td>-0.945303</td>\n",
       "      <td>0.811156</td>\n",
       "      <td>-0.221133</td>\n",
       "      <td>0.882374</td>\n",
       "      <td>-0.589697</td>\n",
       "      <td>...</td>\n",
       "      <td>-0.399328</td>\n",
       "      <td>-0.136558</td>\n",
       "      <td>2.505743</td>\n",
       "      <td>-0.180874</td>\n",
       "      <td>2.505724</td>\n",
       "    </tr>\n",
       "    <tr>\n",
       "      <th>4</th>\n",
       "      <td>-0.945303</td>\n",
       "      <td>0.390052</td>\n",
       "      <td>-1.790941</td>\n",
       "      <td>2.275664</td>\n",
       "      <td>2.347098</td>\n",
       "      <td>...</td>\n",
       "      <td>-0.340139</td>\n",
       "      <td>-0.136558</td>\n",
       "      <td>-0.633769</td>\n",
       "      <td>-0.180874</td>\n",
       "      <td>-0.633769</td>\n",
       "    </tr>\n",
       "  </tbody>\n",
       "</table>\n",
       "<p>5 rows × 23 columns</p>\n",
       "</div>"
      ],
      "text/plain": [
       "   BuildingType   ZipCode  Latitude  Longitude  Neighborhood  ...  \\\n",
       "0     -0.945303 -0.592526  0.844650  -1.598415     -1.493326  ...   \n",
       "1     -0.945303 -1.153999  0.460346  -0.030284     -0.137882  ...   \n",
       "2      0.666222 -0.452158 -2.124544   0.248302     -0.363789  ...   \n",
       "3     -0.945303  0.811156 -0.221133   0.882374     -0.589697  ...   \n",
       "4     -0.945303  0.390052 -1.790941   2.275664      2.347098  ...   \n",
       "\n",
       "   Electricity(kWh)  SteamUse(kBtu)  NaturalGas(therms)  ComplianceStatus  \\\n",
       "0         -0.339515       -0.136558           -0.633769         -0.180874   \n",
       "1         -0.251774       -0.136558           -0.633769         -0.180874   \n",
       "2         -0.345255       -0.136558           -0.633769         -0.180874   \n",
       "3         -0.399328       -0.136558            2.505743         -0.180874   \n",
       "4         -0.340139       -0.136558           -0.633769         -0.180874   \n",
       "\n",
       "   NaturalGas(kBtu)  \n",
       "0         -0.633769  \n",
       "1         -0.633769  \n",
       "2         -0.633769  \n",
       "3          2.505724  \n",
       "4         -0.633769  \n",
       "\n",
       "[5 rows x 23 columns]"
      ]
     },
     "execution_count": 84,
     "metadata": {},
     "output_type": "execute_result"
    }
   ],
   "source": [
    "scaler = StandardScaler().fit(X_train)\n",
    "X_train = pd.DataFrame(scaler.transform(X_train), columns = X_train.columns)\n",
    "X_test = pd.DataFrame(scaler.transform(X_test),columns = X_test.columns)\n",
    "X_train.head()"
   ]
  },
  {
   "cell_type": "code",
   "execution_count": 85,
   "id": "1320de3a-9c07-4f8d-a96f-86793315af6b",
   "metadata": {
    "tags": []
   },
   "outputs": [
    {
     "data": {
      "text/plain": [
       "Index(['BuildingType', 'ZipCode', 'Latitude', 'Longitude', 'Neighborhood',\n",
       "       'YearBuilt', 'NumberofFloors', 'NumberofBuildings', 'PropertyGFATotal',\n",
       "       'PropertyGFAParking', 'SiteEnergyUse(kBtu)', 'SourceEUI(kBtu/sf)',\n",
       "       'LargestPropertyUseType', 'LargestPropertyUseTypeGFA',\n",
       "       'SecondLargestPropertyUseType', 'SecondLargestPropertyUseTypeGFA',\n",
       "       'ThirdLargestPropertyUseType', 'ThirdLargestPropertyUseTypeGFA',\n",
       "       'Electricity(kWh)', 'SteamUse(kBtu)', 'NaturalGas(therms)',\n",
       "       'ComplianceStatus', 'NaturalGas(kBtu)'],\n",
       "      dtype='object')"
      ]
     },
     "execution_count": 85,
     "metadata": {},
     "output_type": "execute_result"
    }
   ],
   "source": [
    "X_train.columns"
   ]
  },
  {
   "cell_type": "markdown",
   "id": "d088d5cc-efb0-444c-a122-3f449aae05e0",
   "metadata": {},
   "source": [
    "## Feature Selection"
   ]
  },
  {
   "cell_type": "markdown",
   "id": "1d3624ce-52a1-4931-a5a6-2d66ccff0c8a",
   "metadata": {},
   "source": [
    "### PCA"
   ]
  },
  {
   "cell_type": "code",
   "execution_count": 86,
   "id": "50eb5327-077a-4772-8baf-592561c7950a",
   "metadata": {
    "tags": []
   },
   "outputs": [],
   "source": [
    "from sklearn.decomposition import PCA"
   ]
  },
  {
   "cell_type": "code",
   "execution_count": 87,
   "id": "f0c51ee5-378f-4aa9-8f65-bba8ae748e14",
   "metadata": {
    "tags": []
   },
   "outputs": [
    {
     "name": "stdout",
     "output_type": "stream",
     "text": [
      "top 23 features by PC1:\n"
     ]
    },
    {
     "data": {
      "text/plain": [
       "PropertyGFATotal                   0.379233\n",
       "LargestPropertyUseTypeGFA          0.365874\n",
       "SiteEnergyUse(kBtu)                0.354745\n",
       "SecondLargestPropertyUseTypeGFA    0.350773\n",
       "Electricity(kWh)                   0.338224\n",
       "                                     ...   \n",
       "Latitude                           0.026745\n",
       "NumberofBuildings                  0.024052\n",
       "Longitude                          0.009906\n",
       "LargestPropertyUseType             0.006479\n",
       "ComplianceStatus                   0.000865\n",
       "Name: 0, Length: 23, dtype: float64"
      ]
     },
     "metadata": {},
     "output_type": "display_data"
    },
    {
     "name": "stdout",
     "output_type": "stream",
     "text": [
      "top 23 features by PC2:\n"
     ]
    },
    {
     "data": {
      "text/plain": [
       "NaturalGas(kBtu)                0.556060\n",
       "NaturalGas(therms)              0.556059\n",
       "SourceEUI(kBtu/sf)              0.334706\n",
       "BuildingType                    0.272696\n",
       "NumberofFloors                  0.187285\n",
       "                                  ...   \n",
       "SecondLargestPropertyUseType    0.031615\n",
       "NumberofBuildings               0.027744\n",
       "Electricity(kWh)                0.007157\n",
       "ZipCode                         0.002774\n",
       "ThirdLargestPropertyUseType     0.002291\n",
       "Name: 1, Length: 23, dtype: float64"
      ]
     },
     "metadata": {},
     "output_type": "display_data"
    }
   ],
   "source": [
    "pcs = PCA(n_components= X_train.shape[1])\n",
    "pcs.fit(X_train)\n",
    "pcsComponents_df = pd.DataFrame(pcs.components_.transpose(),\n",
    "                                index=X_train.columns)\n",
    "\n",
    "pc1 = pcsComponents_df[0].abs().sort_values(ascending=False)[:X_train.shape[1]]\n",
    "pc2 = pcsComponents_df[1].abs().sort_values(ascending=False)[:X_train.shape[1]]\n",
    "print('top {} features by PC1:'.format(X_train.shape[1]))\n",
    "display(pc1)\n",
    "print('top {} features by PC2:'.format(X_train.shape[1]))\n",
    "display(pc2)"
   ]
  },
  {
   "cell_type": "markdown",
   "id": "b85f56d2-cbe6-4ec3-b2df-32875f70c69b",
   "metadata": {},
   "source": [
    "## Filter"
   ]
  },
  {
   "cell_type": "markdown",
   "id": "ec57e826-b61a-4be1-b789-4aaed10724fa",
   "metadata": {},
   "source": [
    "### backward elimination"
   ]
  },
  {
   "cell_type": "code",
   "execution_count": 88,
   "id": "b6f3a001-0c53-43a3-a9f1-409c310f7225",
   "metadata": {
    "id": "2QLqcdZoBRI2",
    "tags": []
   },
   "outputs": [],
   "source": [
    "def train_model(variables):\n",
    "    if len(variables) == 0:\n",
    "        # Return None to indicate a constant model (no predictors)\n",
    "        return None\n",
    "    model = LinearRegression()\n",
    "    model.fit(X_train[variables], y_train)\n",
    "    return model"
   ]
  },
  {
   "cell_type": "code",
   "execution_count": 89,
   "id": "b6772009-efe1-407b-ad4e-53ff806c52d8",
   "metadata": {
    "id": "JRv3uOdEBhOk",
    "tags": []
   },
   "outputs": [],
   "source": [
    "def score_model(model, variables):\n",
    "    if len(variables) == 0:\n",
    "        # Special case for constant model\n",
    "        dummy_predictions = [y_train.mean()] * len(y_train)\n",
    "        return AIC_score(y_train, dummy_predictions, model, df=1)\n",
    "    return AIC_score(y_train, model.predict(X_train[variables]), model)"
   ]
  },
  {
   "cell_type": "code",
   "execution_count": 90,
   "id": "1f60af9d-52f3-4ae3-967e-404a2392cd00",
   "metadata": {
    "colab": {
     "base_uri": "https://localhost:8080/"
    },
    "id": "ZyO7U7cGBkCd",
    "outputId": "f2cae219-ef5d-494b-b945-3892fbb27418",
    "tags": []
   },
   "outputs": [
    {
     "name": "stdout",
     "output_type": "stream",
     "text": [
      "Variables: BuildingType, ZipCode, Latitude, Longitude, Neighborhood, YearBuilt, NumberofFloors, NumberofBuildings, PropertyGFATotal, PropertyGFAParking, SiteEnergyUse(kBtu), SourceEUI(kBtu/sf), LargestPropertyUseType, LargestPropertyUseTypeGFA, SecondLargestPropertyUseType, SecondLargestPropertyUseTypeGFA, ThirdLargestPropertyUseType, ThirdLargestPropertyUseTypeGFA, Electricity(kWh), SteamUse(kBtu), NaturalGas(therms), ComplianceStatus, NaturalGas(kBtu)\n",
      "Start: score=-8001.26\n",
      "Step: score=-8003.25, remove SiteEnergyUse(kBtu)\n",
      "Step: score=-8005.24, remove PropertyGFAParking\n",
      "Step: score=-8007.22, remove LargestPropertyUseTypeGFA\n",
      "Step: score=-8009.20, remove LargestPropertyUseType\n",
      "Step: score=-8011.13, remove Neighborhood\n",
      "Step: score=-8013.03, remove ThirdLargestPropertyUseTypeGFA\n",
      "Step: score=-8014.75, remove NumberofBuildings\n",
      "Step: score=-8016.42, remove ZipCode\n",
      "Step: score=-8017.63, remove Latitude\n",
      "Step: score=-8018.26, remove SecondLargestPropertyUseTypeGFA\n",
      "Step: score=-8018.97, remove BuildingType\n",
      "Step: score=-8019.65, remove ThirdLargestPropertyUseType\n",
      "Step: score=-8019.93, remove YearBuilt\n",
      "Step: score=-8019.95, remove NumberofFloors\n",
      "Step: score=-8020.91, remove PropertyGFATotal\n",
      "Step: score=-8020.91, remove None\n",
      "Best variables: ['Longitude', 'SourceEUI(kBtu/sf)', 'SecondLargestPropertyUseType', 'Electricity(kWh)', 'SteamUse(kBtu)', 'NaturalGas(therms)', 'ComplianceStatus', 'NaturalGas(kBtu)']\n",
      "\n",
      "Regression statistics\n",
      "\n",
      "                      Mean Error (ME) : 0.0014\n",
      "       Root Mean Squared Error (RMSE) : 0.0295\n",
      "            Mean Absolute Error (MAE) : 0.0257\n",
      "          Mean Percentage Error (MPE) : 0.0316\n",
      "Mean Absolute Percentage Error (MAPE) : 0.3077\n"
     ]
    }
   ],
   "source": [
    "allVariables = X_train.columns\n",
    "best_model, bs_best_variables = backward_elimination(allVariables, train_model, score_model, verbose=True)\n",
    "\n",
    "print(\"Best variables:\", bs_best_variables)\n",
    "regressionSummary(y_test, best_model.predict(X_test[bs_best_variables]))"
   ]
  },
  {
   "cell_type": "markdown",
   "id": "7cee7a1f-15f2-48d6-bd82-fa114387aeae",
   "metadata": {},
   "source": [
    "### together"
   ]
  },
  {
   "cell_type": "code",
   "execution_count": 91,
   "id": "83fdd4c0-707d-4c87-9ddc-55acc8303fca",
   "metadata": {
    "tags": []
   },
   "outputs": [],
   "source": [
    "pc1_df = pd.DataFrame(pc1).reset_index()\n",
    "pc1_df.columns=['variables','score']"
   ]
  },
  {
   "cell_type": "code",
   "execution_count": 92,
   "id": "4d4254b4-3233-441b-b6fa-6e94f4ba5267",
   "metadata": {
    "tags": []
   },
   "outputs": [],
   "source": [
    "bs_df = pd.DataFrame(bs_best_variables)\n",
    "bs_df.columns=['variables']"
   ]
  },
  {
   "cell_type": "code",
   "execution_count": 93,
   "id": "93ab9432-25af-47b3-867a-6c2b0d110e4b",
   "metadata": {
    "tags": []
   },
   "outputs": [],
   "source": [
    "bs_ordered = pd.merge(pc1_df,bs_df,on=['variables'],how='right').sort_values(by='score',ascending=False)"
   ]
  },
  {
   "cell_type": "code",
   "execution_count": 94,
   "id": "1df6d5c2-1c87-4a33-bcec-586737efb807",
   "metadata": {
    "tags": []
   },
   "outputs": [
    {
     "data": {
      "text/html": [
       "<div>\n",
       "<style scoped>\n",
       "    .dataframe tbody tr th:only-of-type {\n",
       "        vertical-align: middle;\n",
       "    }\n",
       "\n",
       "    .dataframe tbody tr th {\n",
       "        vertical-align: top;\n",
       "    }\n",
       "\n",
       "    .dataframe thead th {\n",
       "        text-align: right;\n",
       "    }\n",
       "</style>\n",
       "<table border=\"1\" class=\"dataframe\">\n",
       "  <thead>\n",
       "    <tr style=\"text-align: right;\">\n",
       "      <th></th>\n",
       "      <th>variables</th>\n",
       "      <th>score</th>\n",
       "    </tr>\n",
       "  </thead>\n",
       "  <tbody>\n",
       "    <tr>\n",
       "      <th>3</th>\n",
       "      <td>Electricity(kWh)</td>\n",
       "      <td>0.338224</td>\n",
       "    </tr>\n",
       "    <tr>\n",
       "      <th>7</th>\n",
       "      <td>NaturalGas(kBtu)</td>\n",
       "      <td>0.155969</td>\n",
       "    </tr>\n",
       "    <tr>\n",
       "      <th>5</th>\n",
       "      <td>NaturalGas(therms)</td>\n",
       "      <td>0.155969</td>\n",
       "    </tr>\n",
       "    <tr>\n",
       "      <th>2</th>\n",
       "      <td>SecondLargestPropertyUseType</td>\n",
       "      <td>0.133824</td>\n",
       "    </tr>\n",
       "    <tr>\n",
       "      <th>1</th>\n",
       "      <td>SourceEUI(kBtu/sf)</td>\n",
       "      <td>0.081365</td>\n",
       "    </tr>\n",
       "    <tr>\n",
       "      <th>4</th>\n",
       "      <td>SteamUse(kBtu)</td>\n",
       "      <td>0.055179</td>\n",
       "    </tr>\n",
       "    <tr>\n",
       "      <th>0</th>\n",
       "      <td>Longitude</td>\n",
       "      <td>0.009906</td>\n",
       "    </tr>\n",
       "    <tr>\n",
       "      <th>6</th>\n",
       "      <td>ComplianceStatus</td>\n",
       "      <td>0.000865</td>\n",
       "    </tr>\n",
       "  </tbody>\n",
       "</table>\n",
       "</div>"
      ],
      "text/plain": [
       "                      variables     score\n",
       "3              Electricity(kWh)  0.338224\n",
       "7              NaturalGas(kBtu)  0.155969\n",
       "5            NaturalGas(therms)  0.155969\n",
       "2  SecondLargestPropertyUseType  0.133824\n",
       "1            SourceEUI(kBtu/sf)  0.081365\n",
       "4                SteamUse(kBtu)  0.055179\n",
       "0                     Longitude  0.009906\n",
       "6              ComplianceStatus  0.000865"
      ]
     },
     "execution_count": 94,
     "metadata": {},
     "output_type": "execute_result"
    }
   ],
   "source": [
    "bs_ordered"
   ]
  },
  {
   "cell_type": "markdown",
   "id": "fd4a5a03-c420-4541-bc65-3427fa39708c",
   "metadata": {},
   "source": [
    "only 2022"
   ]
  },
  {
   "cell_type": "code",
   "execution_count": 95,
   "id": "648ef87b-32d7-40e2-917b-eae3f3dfef2d",
   "metadata": {
    "tags": []
   },
   "outputs": [
    {
     "data": {
      "text/html": [
       "<div>\n",
       "<style scoped>\n",
       "    .dataframe tbody tr th:only-of-type {\n",
       "        vertical-align: middle;\n",
       "    }\n",
       "\n",
       "    .dataframe tbody tr th {\n",
       "        vertical-align: top;\n",
       "    }\n",
       "\n",
       "    .dataframe thead th {\n",
       "        text-align: right;\n",
       "    }\n",
       "</style>\n",
       "<table border=\"1\" class=\"dataframe\">\n",
       "  <thead>\n",
       "    <tr style=\"text-align: right;\">\n",
       "      <th></th>\n",
       "      <th>PC1</th>\n",
       "      <th>BackwardElimination</th>\n",
       "    </tr>\n",
       "  </thead>\n",
       "  <tbody>\n",
       "    <tr>\n",
       "      <th>0</th>\n",
       "      <td>PropertyGFATotal</td>\n",
       "      <td>Electricity(kWh)</td>\n",
       "    </tr>\n",
       "    <tr>\n",
       "      <th>1</th>\n",
       "      <td>LargestPropertyUseTypeGFA</td>\n",
       "      <td>NaturalGas(kBtu)</td>\n",
       "    </tr>\n",
       "    <tr>\n",
       "      <th>2</th>\n",
       "      <td>SiteEnergyUse(kBtu)</td>\n",
       "      <td>NaturalGas(therms)</td>\n",
       "    </tr>\n",
       "    <tr>\n",
       "      <th>3</th>\n",
       "      <td>SecondLargestPropertyUseTypeGFA</td>\n",
       "      <td>SecondLargestPropertyUseType</td>\n",
       "    </tr>\n",
       "    <tr>\n",
       "      <th>4</th>\n",
       "      <td>Electricity(kWh)</td>\n",
       "      <td>SourceEUI(kBtu/sf)</td>\n",
       "    </tr>\n",
       "    <tr>\n",
       "      <th>5</th>\n",
       "      <td>PropertyGFAParking</td>\n",
       "      <td>SteamUse(kBtu)</td>\n",
       "    </tr>\n",
       "    <tr>\n",
       "      <th>6</th>\n",
       "      <td>NumberofFloors</td>\n",
       "      <td>Longitude</td>\n",
       "    </tr>\n",
       "    <tr>\n",
       "      <th>7</th>\n",
       "      <td>ThirdLargestPropertyUseTypeGFA</td>\n",
       "      <td>ComplianceStatus</td>\n",
       "    </tr>\n",
       "  </tbody>\n",
       "</table>\n",
       "</div>"
      ],
      "text/plain": [
       "                               PC1           BackwardElimination\n",
       "0                 PropertyGFATotal              Electricity(kWh)\n",
       "1        LargestPropertyUseTypeGFA              NaturalGas(kBtu)\n",
       "2              SiteEnergyUse(kBtu)            NaturalGas(therms)\n",
       "3  SecondLargestPropertyUseTypeGFA  SecondLargestPropertyUseType\n",
       "4                 Electricity(kWh)            SourceEUI(kBtu/sf)\n",
       "5               PropertyGFAParking                SteamUse(kBtu)\n",
       "6                   NumberofFloors                     Longitude\n",
       "7   ThirdLargestPropertyUseTypeGFA              ComplianceStatus"
      ]
     },
     "execution_count": 95,
     "metadata": {},
     "output_type": "execute_result"
    }
   ],
   "source": [
    "n = len(bs_best_variables)\n",
    "features_rank = pd.DataFrame([pc1.index[:n], \n",
    "                              #pc2.index[:n], \n",
    "                              bs_ordered.variables], \n",
    "                             index=['PC1',\n",
    "                                    #'PC2',\n",
    "                                    'BackwardElimination'])\n",
    "features_rank.T"
   ]
  },
  {
   "cell_type": "markdown",
   "id": "9a0e4984-2001-4352-8e39-be162c0f8f97",
   "metadata": {},
   "source": [
    "  "
   ]
  },
  {
   "cell_type": "markdown",
   "id": "556f43db-b4ef-4368-98d5-409b91cf12d9",
   "metadata": {},
   "source": [
    "  "
   ]
  },
  {
   "cell_type": "markdown",
   "id": "2300ec49-aefd-483a-805f-48cbdec346c6",
   "metadata": {},
   "source": [
    " "
   ]
  },
  {
   "cell_type": "markdown",
   "id": "02eea965-6877-4c17-8872-803efbc9138e",
   "metadata": {},
   "source": [
    "  \n",
    "    \n",
    "    "
   ]
  },
  {
   "cell_type": "code",
   "execution_count": 96,
   "id": "3b49b480-0512-4cfb-b6da-a275f408cadd",
   "metadata": {
    "tags": []
   },
   "outputs": [
    {
     "data": {
      "text/plain": [
       "{'ComplianceStatus',\n",
       " 'Longitude',\n",
       " 'NaturalGas(kBtu)',\n",
       " 'NaturalGas(therms)',\n",
       " 'SecondLargestPropertyUseType',\n",
       " 'SourceEUI(kBtu/sf)',\n",
       " 'SteamUse(kBtu)'}"
      ]
     },
     "execution_count": 96,
     "metadata": {},
     "output_type": "execute_result"
    }
   ],
   "source": [
    "set(bs_best_variables) - set(pc1.index[:n])"
   ]
  },
  {
   "cell_type": "code",
   "execution_count": 97,
   "id": "31140b40-64c6-4d54-a93b-73c15bb93369",
   "metadata": {
    "tags": []
   },
   "outputs": [
    {
     "data": {
      "text/plain": [
       "{'LargestPropertyUseTypeGFA',\n",
       " 'NumberofFloors',\n",
       " 'PropertyGFAParking',\n",
       " 'PropertyGFATotal',\n",
       " 'SecondLargestPropertyUseTypeGFA',\n",
       " 'SiteEnergyUse(kBtu)',\n",
       " 'ThirdLargestPropertyUseTypeGFA'}"
      ]
     },
     "execution_count": 97,
     "metadata": {},
     "output_type": "execute_result"
    }
   ],
   "source": [
    "set(pc1.index[:n]) - set(bs_best_variables)"
   ]
  },
  {
   "cell_type": "code",
   "execution_count": 98,
   "id": "208e1144-71ab-4066-b2be-ff7b40ec376c",
   "metadata": {
    "tags": []
   },
   "outputs": [
    {
     "data": {
      "text/plain": [
       "['Longitude',\n",
       " 'SourceEUI(kBtu/sf)',\n",
       " 'SecondLargestPropertyUseType',\n",
       " 'Electricity(kWh)',\n",
       " 'SteamUse(kBtu)',\n",
       " 'NaturalGas(therms)',\n",
       " 'ComplianceStatus',\n",
       " 'NaturalGas(kBtu)']"
      ]
     },
     "execution_count": 98,
     "metadata": {},
     "output_type": "execute_result"
    }
   ],
   "source": [
    "bs_best_variables"
   ]
  },
  {
   "cell_type": "code",
   "execution_count": 99,
   "id": "08226fbd-dfb8-4fe3-8f71-b2baa1639c78",
   "metadata": {
    "tags": []
   },
   "outputs": [
    {
     "data": {
      "text/plain": [
       "Index(['PropertyGFATotal', 'LargestPropertyUseTypeGFA', 'SiteEnergyUse(kBtu)',\n",
       "       'SecondLargestPropertyUseTypeGFA', 'Electricity(kWh)',\n",
       "       'PropertyGFAParking', 'NumberofFloors',\n",
       "       'ThirdLargestPropertyUseTypeGFA'],\n",
       "      dtype='object')"
      ]
     },
     "execution_count": 99,
     "metadata": {},
     "output_type": "execute_result"
    }
   ],
   "source": [
    "pc1.index[:n]"
   ]
  },
  {
   "cell_type": "markdown",
   "id": "1f7e2b39-69be-4a49-bfe8-dffff158d8a2",
   "metadata": {},
   "source": [
    "# Models"
   ]
  },
  {
   "cell_type": "markdown",
   "id": "019cf372-ec13-46fe-9c94-7ae1f37b1a78",
   "metadata": {},
   "source": [
    "## LinearRegression"
   ]
  },
  {
   "cell_type": "code",
   "execution_count": 100,
   "id": "6741b76c-9fef-4480-bd52-cdaeaad6827e",
   "metadata": {
    "tags": []
   },
   "outputs": [
    {
     "name": "stdout",
     "output_type": "stream",
     "text": [
      "                       Features  Coefficients\n",
      "3              Electricity(kWh)     20.186680\n",
      "7              NaturalGas(kBtu)    -66.265463\n",
      "5            NaturalGas(therms)    142.741073\n",
      "2  SecondLargestPropertyUseType     -0.001436\n",
      "1            SourceEUI(kBtu/sf)      0.001079\n",
      "4                SteamUse(kBtu)     28.335942\n",
      "0                     Longitude     -0.000989\n",
      "6              ComplianceStatus      0.001358\n",
      "R-squared (Multiple Regression): 0.999999874023687\n",
      "RMSE (Multiple Regression): 0.02947348836404566\n",
      "\n",
      "Regression statistics\n",
      "\n",
      "                      Mean Error (ME) : 0.0014\n",
      "       Root Mean Squared Error (RMSE) : 0.0295\n",
      "            Mean Absolute Error (MAE) : 0.0257\n",
      "          Mean Percentage Error (MPE) : 0.0316\n",
      "Mean Absolute Percentage Error (MAPE) : 0.3077\n"
     ]
    }
   ],
   "source": [
    "lm_multiple = LinearRegression()\n",
    "lm_multiple.fit(X_train[bs_ordered.variables], y_train)\n",
    "\n",
    "# Interpretation of coefficients\n",
    "coefficients = pd.DataFrame({'Features': bs_ordered.variables, 'Coefficients': lm_multiple.coef_})\n",
    "print(coefficients)\n",
    "\n",
    "# Model evaluation\n",
    "y_pred_multiple = lm_multiple.predict(X_test[bs_ordered.variables])\n",
    "r2_multiple = r2_score(y_test, y_pred_multiple)\n",
    "rmse_multiple = np.sqrt(mean_squared_error(y_test, y_pred_multiple))\n",
    "print(\"R-squared (Multiple Regression):\", r2_multiple)\n",
    "print(\"RMSE (Multiple Regression):\", rmse_multiple)\n",
    "regressionSummary(y_test, y_pred_multiple)"
   ]
  },
  {
   "attachments": {
    "2649858e-acfd-4eac-a26f-4f40ff2d3d6d.png": {
     "image/png": "[encoded data removed]"
    }
   },
   "cell_type": "markdown",
   "id": "9642930a-e167-4ae8-822a-b36bf4009930",
   "metadata": {},
   "source": [
    "use all columns:\n",
    "![image.png](attachment:2649858e-acfd-4eac-a26f-4f40ff2d3d6d.png)"
   ]
  },
  {
   "cell_type": "code",
   "execution_count": null,
   "id": "2ee34389-7af6-4525-bdae-c9442a1bc05e",
   "metadata": {},
   "outputs": [],
   "source": []
  },
  {
   "cell_type": "code",
   "execution_count": null,
   "id": "a33e2292-dd19-4d4a-b85c-a8e6df5e7cf0",
   "metadata": {},
   "outputs": [],
   "source": []
  },
  {
   "cell_type": "code",
   "execution_count": null,
   "id": "30c22da1-888e-4a84-a427-030a29c55c45",
   "metadata": {},
   "outputs": [],
   "source": []
  }
 ],
 "metadata": {
  "kernelspec": {
   "display_name": "Python 3 (ipykernel)",
   "language": "python",
   "name": "python3"
  },
  "language_info": {
   "codemirror_mode": {
    "name": "ipython",
    "version": 3
   },
   "file_extension": ".py",
   "mimetype": "text/x-python",
   "name": "python",
   "nbconvert_exporter": "python",
   "pygments_lexer": "ipython3",
   "version": "3.11.5"
  }
 },
 "nbformat": 4,
 "nbformat_minor": 5
}
