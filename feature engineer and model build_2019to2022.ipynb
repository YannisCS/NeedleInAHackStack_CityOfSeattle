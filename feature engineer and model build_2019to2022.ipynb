{
 "cells": [
  {
   "cell_type": "code",
   "execution_count": 1,
   "id": "26753c0b-04c0-4e4b-99a0-132c7279412d",
   "metadata": {
    "tags": []
   },
   "outputs": [
    {
     "name": "stdout",
     "output_type": "stream",
     "text": [
      "no display found. Using non-interactive Agg backend\n"
     ]
    }
   ],
   "source": [
    "import os\n",
    "import pandas as pd\n",
    "import numpy as np\n",
    "from sklearn.model_selection import train_test_split\n",
    "from sklearn.linear_model import LinearRegression\n",
    "import statsmodels.api as sm\n",
    "import matplotlib.pyplot as plt\n",
    "import seaborn as sns\n",
    "from sklearn.metrics import r2_score, mean_squared_error\n",
    "from statsmodels.stats.outliers_influence import variance_inflation_factor\n",
    "from dmba import regressionSummary, exhaustive_search\n",
    "from dmba import backward_elimination, forward_selection, stepwise_selection\n",
    "from dmba import adjusted_r2_score, AIC_score, BIC_score\n",
    "\n",
    "%matplotlib inline\n",
    "import warnings\n",
    "warnings.filterwarnings('ignore')\n",
    "\n",
    "pd.set_option('display.max_columns', 10)\n",
    "pd.set_option('display.max_rows', 10)"
   ]
  },
  {
   "cell_type": "code",
   "execution_count": 2,
   "id": "36addc45-893f-4753-80c9-f64d4b946033",
   "metadata": {
    "tags": []
   },
   "outputs": [],
   "source": [
    "from sklearn.preprocessing import LabelEncoder, StandardScaler\n",
    "from sklearn.neighbors import KNeighborsClassifier\n",
    "from sklearn.linear_model import LogisticRegression\n",
    "from sklearn.metrics import accuracy_score, precision_score, recall_score, confusion_matrix"
   ]
  },
  {
   "cell_type": "code",
   "execution_count": 177,
   "id": "90556497-7fe2-490a-8156-e05a27cc69da",
   "metadata": {
    "tags": []
   },
   "outputs": [
    {
     "data": {
      "text/html": [
       "<div>\n",
       "<style scoped>\n",
       "    .dataframe tbody tr th:only-of-type {\n",
       "        vertical-align: middle;\n",
       "    }\n",
       "\n",
       "    .dataframe tbody tr th {\n",
       "        vertical-align: top;\n",
       "    }\n",
       "\n",
       "    .dataframe thead th {\n",
       "        text-align: right;\n",
       "    }\n",
       "</style>\n",
       "<table border=\"1\" class=\"dataframe\">\n",
       "  <thead>\n",
       "    <tr style=\"text-align: right;\">\n",
       "      <th></th>\n",
       "      <th>osebuildingid</th>\n",
       "      <th>datayear</th>\n",
       "      <th>buildingname</th>\n",
       "      <th>buildingtype</th>\n",
       "      <th>taxparcelidentificationnumber</th>\n",
       "      <th>...</th>\n",
       "      <th>totalghgemissions</th>\n",
       "      <th>ghgemissionsintensity</th>\n",
       "      <th>secondlargestpropertyuse</th>\n",
       "      <th>thirdlargestpropertyusetypegfa</th>\n",
       "      <th>primarypropertytype</th>\n",
       "    </tr>\n",
       "  </thead>\n",
       "  <tbody>\n",
       "    <tr>\n",
       "      <th>0</th>\n",
       "      <td>1</td>\n",
       "      <td>2022</td>\n",
       "      <td>MAYFLOWER PARK HOTEL</td>\n",
       "      <td>NonResidential</td>\n",
       "      <td>0659000030</td>\n",
       "      <td>...</td>\n",
       "      <td>264.5</td>\n",
       "      <td>2.99</td>\n",
       "      <td>NaN</td>\n",
       "      <td>NaN</td>\n",
       "      <td>NaN</td>\n",
       "    </tr>\n",
       "    <tr>\n",
       "      <th>1</th>\n",
       "      <td>2</td>\n",
       "      <td>2022</td>\n",
       "      <td>PARAMOUNT HOTEL</td>\n",
       "      <td>NonResidential</td>\n",
       "      <td>0659000220</td>\n",
       "      <td>...</td>\n",
       "      <td>155.3</td>\n",
       "      <td>1.75</td>\n",
       "      <td>15064.0</td>\n",
       "      <td>NaN</td>\n",
       "      <td>NaN</td>\n",
       "    </tr>\n",
       "    <tr>\n",
       "      <th>2</th>\n",
       "      <td>3</td>\n",
       "      <td>2022</td>\n",
       "      <td>WESTIN HOTEL (Parent Building)</td>\n",
       "      <td>NonResidential</td>\n",
       "      <td>0659000475</td>\n",
       "      <td>...</td>\n",
       "      <td>1963.7</td>\n",
       "      <td>2.59</td>\n",
       "      <td>117783.0</td>\n",
       "      <td>0.0</td>\n",
       "      <td>NaN</td>\n",
       "    </tr>\n",
       "    <tr>\n",
       "      <th>3</th>\n",
       "      <td>5</td>\n",
       "      <td>2022</td>\n",
       "      <td>HOTEL MAX</td>\n",
       "      <td>NonResidential</td>\n",
       "      <td>0659000640</td>\n",
       "      <td>...</td>\n",
       "      <td>298.2</td>\n",
       "      <td>4.86</td>\n",
       "      <td>NaN</td>\n",
       "      <td>NaN</td>\n",
       "      <td>NaN</td>\n",
       "    </tr>\n",
       "    <tr>\n",
       "      <th>4</th>\n",
       "      <td>8</td>\n",
       "      <td>2022</td>\n",
       "      <td>WARWICK SEATTLE HOTEL</td>\n",
       "      <td>NonResidential</td>\n",
       "      <td>0659000970</td>\n",
       "      <td>...</td>\n",
       "      <td>409.0</td>\n",
       "      <td>3.60</td>\n",
       "      <td>68009.0</td>\n",
       "      <td>0.0</td>\n",
       "      <td>NaN</td>\n",
       "    </tr>\n",
       "    <tr>\n",
       "      <th>...</th>\n",
       "      <td>...</td>\n",
       "      <td>...</td>\n",
       "      <td>...</td>\n",
       "      <td>...</td>\n",
       "      <td>...</td>\n",
       "      <td>...</td>\n",
       "      <td>...</td>\n",
       "      <td>...</td>\n",
       "      <td>...</td>\n",
       "      <td>...</td>\n",
       "      <td>...</td>\n",
       "    </tr>\n",
       "    <tr>\n",
       "      <th>14514</th>\n",
       "      <td>50540</td>\n",
       "      <td>2019</td>\n",
       "      <td>EVEN HOTELS &amp; STAYBRIDGE SUITES</td>\n",
       "      <td>NonResidential</td>\n",
       "      <td>1983200540</td>\n",
       "      <td>...</td>\n",
       "      <td>0.0</td>\n",
       "      <td>0.00</td>\n",
       "      <td>NaN</td>\n",
       "      <td>NaN</td>\n",
       "      <td>NaN</td>\n",
       "    </tr>\n",
       "    <tr>\n",
       "      <th>14515</th>\n",
       "      <td>50542</td>\n",
       "      <td>2019</td>\n",
       "      <td>Aegis Living in Ravenna</td>\n",
       "      <td>NonResidential</td>\n",
       "      <td>5100400245</td>\n",
       "      <td>...</td>\n",
       "      <td>13.8</td>\n",
       "      <td>0.20</td>\n",
       "      <td>8580.0</td>\n",
       "      <td>NaN</td>\n",
       "      <td>Senior Care Community</td>\n",
       "    </tr>\n",
       "    <tr>\n",
       "      <th>14516</th>\n",
       "      <td>50543</td>\n",
       "      <td>2019</td>\n",
       "      <td>AEGIS WEST SEATTLE</td>\n",
       "      <td>NonResidential</td>\n",
       "      <td>9276200910</td>\n",
       "      <td>...</td>\n",
       "      <td>139.9</td>\n",
       "      <td>2.10</td>\n",
       "      <td>10606.0</td>\n",
       "      <td>NaN</td>\n",
       "      <td>Senior Care Community</td>\n",
       "    </tr>\n",
       "    <tr>\n",
       "      <th>14517</th>\n",
       "      <td>50633</td>\n",
       "      <td>2019</td>\n",
       "      <td>BROADWAY ESTATES LLC</td>\n",
       "      <td>Multifamily MR (5-9)</td>\n",
       "      <td>6850700510</td>\n",
       "      <td>...</td>\n",
       "      <td>37.5</td>\n",
       "      <td>0.60</td>\n",
       "      <td>NaN</td>\n",
       "      <td>NaN</td>\n",
       "      <td>Multifamily Housing</td>\n",
       "    </tr>\n",
       "    <tr>\n",
       "      <th>14518</th>\n",
       "      <td>50634</td>\n",
       "      <td>2019</td>\n",
       "      <td>NORTHGATE 3 LLC</td>\n",
       "      <td>Multifamily MR (5-9)</td>\n",
       "      <td>2926049535</td>\n",
       "      <td>...</td>\n",
       "      <td>46.1</td>\n",
       "      <td>0.40</td>\n",
       "      <td>37333.0</td>\n",
       "      <td>NaN</td>\n",
       "      <td>Multifamily Housing</td>\n",
       "    </tr>\n",
       "  </tbody>\n",
       "</table>\n",
       "<p>14519 rows × 43 columns</p>\n",
       "</div>"
      ],
      "text/plain": [
       "       osebuildingid  datayear                     buildingname  \\\n",
       "0                  1      2022             MAYFLOWER PARK HOTEL   \n",
       "1                  2      2022                  PARAMOUNT HOTEL   \n",
       "2                  3      2022   WESTIN HOTEL (Parent Building)   \n",
       "3                  5      2022                        HOTEL MAX   \n",
       "4                  8      2022            WARWICK SEATTLE HOTEL   \n",
       "...              ...       ...                              ...   \n",
       "14514          50540      2019  EVEN HOTELS & STAYBRIDGE SUITES   \n",
       "14515          50542      2019          Aegis Living in Ravenna   \n",
       "14516          50543      2019               AEGIS WEST SEATTLE   \n",
       "14517          50633      2019             BROADWAY ESTATES LLC   \n",
       "14518          50634      2019                  NORTHGATE 3 LLC   \n",
       "\n",
       "               buildingtype taxparcelidentificationnumber  ...  \\\n",
       "0            NonResidential                    0659000030  ...   \n",
       "1            NonResidential                    0659000220  ...   \n",
       "2            NonResidential                    0659000475  ...   \n",
       "3            NonResidential                    0659000640  ...   \n",
       "4            NonResidential                    0659000970  ...   \n",
       "...                     ...                           ...  ...   \n",
       "14514        NonResidential                    1983200540  ...   \n",
       "14515        NonResidential                    5100400245  ...   \n",
       "14516        NonResidential                    9276200910  ...   \n",
       "14517  Multifamily MR (5-9)                    6850700510  ...   \n",
       "14518  Multifamily MR (5-9)                    2926049535  ...   \n",
       "\n",
       "      totalghgemissions ghgemissionsintensity secondlargestpropertyuse  \\\n",
       "0                 264.5                  2.99                      NaN   \n",
       "1                 155.3                  1.75                  15064.0   \n",
       "2                1963.7                  2.59                 117783.0   \n",
       "3                 298.2                  4.86                      NaN   \n",
       "4                 409.0                  3.60                  68009.0   \n",
       "...                 ...                   ...                      ...   \n",
       "14514               0.0                  0.00                      NaN   \n",
       "14515              13.8                  0.20                   8580.0   \n",
       "14516             139.9                  2.10                  10606.0   \n",
       "14517              37.5                  0.60                      NaN   \n",
       "14518              46.1                  0.40                  37333.0   \n",
       "\n",
       "       thirdlargestpropertyusetypegfa    primarypropertytype  \n",
       "0                                 NaN                    NaN  \n",
       "1                                 NaN                    NaN  \n",
       "2                                 0.0                    NaN  \n",
       "3                                 NaN                    NaN  \n",
       "4                                 0.0                    NaN  \n",
       "...                               ...                    ...  \n",
       "14514                             NaN                    NaN  \n",
       "14515                             NaN  Senior Care Community  \n",
       "14516                             NaN  Senior Care Community  \n",
       "14517                             NaN    Multifamily Housing  \n",
       "14518                             NaN    Multifamily Housing  \n",
       "\n",
       "[14519 rows x 43 columns]"
      ]
     },
     "execution_count": 177,
     "metadata": {},
     "output_type": "execute_result"
    }
   ],
   "source": [
    "com = pd.read_csv('combined.csv', index_col=0)\n",
    "com"
   ]
  },
  {
   "cell_type": "code",
   "execution_count": 178,
   "id": "49849aef-0795-4291-9531-8426f91d2552",
   "metadata": {
    "tags": []
   },
   "outputs": [
    {
     "data": {
      "text/plain": [
       "0                          NaN\n",
       "1                          NaN\n",
       "2                          NaN\n",
       "3                          NaN\n",
       "4                          NaN\n",
       "                 ...          \n",
       "14514                      NaN\n",
       "14515    Senior Care Community\n",
       "14516    Senior Care Community\n",
       "14517      Multifamily Housing\n",
       "14518      Multifamily Housing\n",
       "Name: primarypropertytype, Length: 14519, dtype: object"
      ]
     },
     "execution_count": 178,
     "metadata": {},
     "output_type": "execute_result"
    }
   ],
   "source": [
    "com.pop('primarypropertytype')"
   ]
  },
  {
   "cell_type": "code",
   "execution_count": 179,
   "id": "b2321bd9-d2e0-45a0-9bac-037c442bc24d",
   "metadata": {
    "tags": []
   },
   "outputs": [
    {
     "data": {
      "text/plain": [
       "Index(['osebuildingid', 'datayear', 'buildingname', 'buildingtype',\n",
       "       'taxparcelidentificationnumber', 'address', 'city', 'state', 'zipcode',\n",
       "       'latitude', 'longitude', 'neighborhood', 'councildistrictcode',\n",
       "       'yearbuilt', 'numberoffloors', 'numberofbuildings', 'propertygfatotal',\n",
       "       'propertygfabuilding_s', 'propertygfaparking', 'energystarscore',\n",
       "       'siteeuiwn_kbtu_sf', 'siteeui_kbtu_sf', 'siteenergyuse_kbtu',\n",
       "       'siteenergyusewn_kbtu', 'sourceeuiwn_kbtu_sf', 'sourceeui_kbtu_sf',\n",
       "       'epapropertytype', 'largestpropertyusetype',\n",
       "       'largestpropertyusetypegfa', 'secondlargestpropertyusetype',\n",
       "       'thirdlargestpropertyusetype', 'electricity_kwh', 'steamuse_kbtu',\n",
       "       'naturalgas_therms', 'compliancestatus', 'complianceissue',\n",
       "       'electricity_kbtu', 'naturalgas_kbtu', 'totalghgemissions',\n",
       "       'ghgemissionsintensity', 'secondlargestpropertyuse',\n",
       "       'thirdlargestpropertyusetypegfa'],\n",
       "      dtype='object')"
      ]
     },
     "execution_count": 179,
     "metadata": {},
     "output_type": "execute_result"
    }
   ],
   "source": [
    "com.columns"
   ]
  },
  {
   "cell_type": "code",
   "execution_count": 180,
   "id": "d31f2481-0ca4-4f3a-bec9-825ab51f56b6",
   "metadata": {
    "tags": []
   },
   "outputs": [
    {
     "name": "stdout",
     "output_type": "stream",
     "text": [
      "<class 'pandas.core.frame.DataFrame'>\n",
      "Index: 14519 entries, 0 to 14518\n",
      "Data columns (total 42 columns):\n",
      " #   Column                          Non-Null Count  Dtype  \n",
      "---  ------                          --------------  -----  \n",
      " 0   osebuildingid                   14519 non-null  int64  \n",
      " 1   datayear                        14519 non-null  int64  \n",
      " 2   buildingname                    14519 non-null  object \n",
      " 3   buildingtype                    14519 non-null  object \n",
      " 4   taxparcelidentificationnumber   14519 non-null  object \n",
      " 5   address                         14519 non-null  object \n",
      " 6   city                            14516 non-null  object \n",
      " 7   state                           14516 non-null  object \n",
      " 8   zipcode                         14353 non-null  float64\n",
      " 9   latitude                        14515 non-null  float64\n",
      " 10  longitude                       14515 non-null  float64\n",
      " 11  neighborhood                    14513 non-null  object \n",
      " 12  councildistrictcode             14488 non-null  float64\n",
      " 13  yearbuilt                       14519 non-null  int64  \n",
      " 14  numberoffloors                  14519 non-null  int64  \n",
      " 15  numberofbuildings               10938 non-null  float64\n",
      " 16  propertygfatotal                14519 non-null  int64  \n",
      " 17  propertygfabuilding_s           14519 non-null  int64  \n",
      " 18  propertygfaparking              14519 non-null  int64  \n",
      " 19  energystarscore                 11098 non-null  float64\n",
      " 20  siteeuiwn_kbtu_sf               13424 non-null  float64\n",
      " 21  siteeui_kbtu_sf                 13528 non-null  float64\n",
      " 22  siteenergyuse_kbtu              13469 non-null  float64\n",
      " 23  siteenergyusewn_kbtu            13483 non-null  float64\n",
      " 24  sourceeuiwn_kbtu_sf             13424 non-null  float64\n",
      " 25  sourceeui_kbtu_sf               13528 non-null  float64\n",
      " 26  epapropertytype                 13957 non-null  object \n",
      " 27  largestpropertyusetype          14099 non-null  object \n",
      " 28  largestpropertyusetypegfa       14155 non-null  float64\n",
      " 29  secondlargestpropertyusetype    7717 non-null   object \n",
      " 30  thirdlargestpropertyusetype     2799 non-null   object \n",
      " 31  electricity_kwh                 14210 non-null  float64\n",
      " 32  steamuse_kbtu                   10988 non-null  float64\n",
      " 33  naturalgas_therms               12596 non-null  float64\n",
      " 34  compliancestatus                14519 non-null  object \n",
      " 35  complianceissue                 14519 non-null  object \n",
      " 36  electricity_kbtu                14175 non-null  float64\n",
      " 37  naturalgas_kbtu                 12561 non-null  float64\n",
      " 38  totalghgemissions               14183 non-null  float64\n",
      " 39  ghgemissionsintensity           14181 non-null  float64\n",
      " 40  secondlargestpropertyuse        9386 non-null   float64\n",
      " 41  thirdlargestpropertyusetypegfa  5740 non-null   float64\n",
      "dtypes: float64(22), int64(7), object(13)\n",
      "memory usage: 4.8+ MB\n"
     ]
    }
   ],
   "source": [
    "com.info()"
   ]
  },
  {
   "cell_type": "code",
   "execution_count": 181,
   "id": "0f04dc72-45f7-4090-9869-8014869bc16a",
   "metadata": {
    "tags": []
   },
   "outputs": [
    {
     "data": {
      "text/plain": [
       "osebuildingid                        0\n",
       "datayear                             0\n",
       "buildingname                         0\n",
       "buildingtype                         0\n",
       "taxparcelidentificationnumber        0\n",
       "                                  ... \n",
       "naturalgas_kbtu                   1958\n",
       "totalghgemissions                  336\n",
       "ghgemissionsintensity              338\n",
       "secondlargestpropertyuse          5133\n",
       "thirdlargestpropertyusetypegfa    8779\n",
       "Length: 42, dtype: int64"
      ]
     },
     "execution_count": 181,
     "metadata": {},
     "output_type": "execute_result"
    }
   ],
   "source": [
    "com.isnull().sum()"
   ]
  },
  {
   "cell_type": "code",
   "execution_count": 241,
   "id": "43f6792f-6230-4cfc-9b73-2a83ddffcb07",
   "metadata": {
    "tags": []
   },
   "outputs": [
    {
     "data": {
      "text/plain": [
       "(14519, 29)"
      ]
     },
     "execution_count": 241,
     "metadata": {},
     "output_type": "execute_result"
    }
   ],
   "source": [
    "deleted_col = ['buildingname',\n",
    "             'taxparcelidentificationnumber',\n",
    "             'address',\n",
    "             'city',\n",
    "             'state',\n",
    "             #'ghgemissionsintensity',\n",
    "             'complianceissue',\n",
    "             'energystarscore',\n",
    "             'siteenergyusewn_kbtu',\n",
    "             'siteeuiwn_kbtu_sf',\n",
    "             'siteeui_kbtu_sf',\n",
    "             #'electricity_kbtu',\n",
    "             'propertygfabuilding_s',\n",
    "             'sourceeuiwn_kbtu_sf','epapropertytype']\n",
    "df = com.drop(columns=deleted_col)\n",
    "df.shape "
   ]
  },
  {
   "cell_type": "code",
   "execution_count": 242,
   "id": "78aa341b-8705-492b-a423-aef3f0ea44c8",
   "metadata": {
    "tags": []
   },
   "outputs": [
    {
     "data": {
      "text/plain": [
       "osebuildingid                        0\n",
       "datayear                             0\n",
       "buildingtype                         0\n",
       "zipcode                            166\n",
       "latitude                             4\n",
       "                                  ... \n",
       "naturalgas_kbtu                   1958\n",
       "totalghgemissions                  336\n",
       "ghgemissionsintensity              338\n",
       "secondlargestpropertyuse          5133\n",
       "thirdlargestpropertyusetypegfa    8779\n",
       "Length: 29, dtype: int64"
      ]
     },
     "execution_count": 242,
     "metadata": {},
     "output_type": "execute_result"
    }
   ],
   "source": [
    "df.isnull().sum()"
   ]
  },
  {
   "cell_type": "code",
   "execution_count": 243,
   "id": "e547d93e-3d40-43c9-8f92-6e4be40ca153",
   "metadata": {
    "tags": []
   },
   "outputs": [
    {
     "data": {
      "text/plain": [
       "osebuildingid                       0\n",
       "datayear                            0\n",
       "buildingtype                        0\n",
       "zipcode                           166\n",
       "latitude                            4\n",
       "                                 ... \n",
       "naturalgas_kbtu                     0\n",
       "totalghgemissions                 336\n",
       "ghgemissionsintensity             338\n",
       "secondlargestpropertyuse            0\n",
       "thirdlargestpropertyusetypegfa      0\n",
       "Length: 29, dtype: int64"
      ]
     },
     "execution_count": 243,
     "metadata": {},
     "output_type": "execute_result"
    }
   ],
   "source": [
    "values = {'secondlargestpropertyusetype': 'none',\n",
    "          'secondlargestpropertyuse': 0, # this is same as secondlargestespropertyusetypegfa\n",
    "          'thirdlargestpropertyusetype': 'none', \n",
    "          'thirdlargestpropertyusetypegfa': 0,\n",
    "          'steamuse_kbtu': 0, \n",
    "          'naturalgas_therms': 0, \n",
    "          'naturalgas_kbtu': 0,\n",
    "          'numberofbuildings': 0}\n",
    "df.fillna(value=values, inplace=True)\n",
    "df.isnull().sum()"
   ]
  },
  {
   "cell_type": "code",
   "execution_count": 244,
   "id": "c754ee5e-4278-445c-ac1f-e48304823e57",
   "metadata": {
    "tags": []
   },
   "outputs": [
    {
     "name": "stdout",
     "output_type": "stream",
     "text": [
      "<class 'pandas.core.frame.DataFrame'>\n",
      "Index: 14519 entries, 0 to 14518\n",
      "Data columns (total 29 columns):\n",
      " #   Column                          Non-Null Count  Dtype  \n",
      "---  ------                          --------------  -----  \n",
      " 0   osebuildingid                   14519 non-null  int64  \n",
      " 1   datayear                        14519 non-null  int64  \n",
      " 2   buildingtype                    14519 non-null  object \n",
      " 3   zipcode                         14353 non-null  float64\n",
      " 4   latitude                        14515 non-null  float64\n",
      " 5   longitude                       14515 non-null  float64\n",
      " 6   neighborhood                    14513 non-null  object \n",
      " 7   councildistrictcode             14488 non-null  float64\n",
      " 8   yearbuilt                       14519 non-null  int64  \n",
      " 9   numberoffloors                  14519 non-null  int64  \n",
      " 10  numberofbuildings               14519 non-null  float64\n",
      " 11  propertygfatotal                14519 non-null  int64  \n",
      " 12  propertygfaparking              14519 non-null  int64  \n",
      " 13  siteenergyuse_kbtu              13469 non-null  float64\n",
      " 14  sourceeui_kbtu_sf               13528 non-null  float64\n",
      " 15  largestpropertyusetype          14099 non-null  object \n",
      " 16  largestpropertyusetypegfa       14155 non-null  float64\n",
      " 17  secondlargestpropertyusetype    14519 non-null  object \n",
      " 18  thirdlargestpropertyusetype     14519 non-null  object \n",
      " 19  electricity_kwh                 14210 non-null  float64\n",
      " 20  steamuse_kbtu                   14519 non-null  float64\n",
      " 21  naturalgas_therms               14519 non-null  float64\n",
      " 22  compliancestatus                14519 non-null  object \n",
      " 23  electricity_kbtu                14175 non-null  float64\n",
      " 24  naturalgas_kbtu                 14519 non-null  float64\n",
      " 25  totalghgemissions               14183 non-null  float64\n",
      " 26  ghgemissionsintensity           14181 non-null  float64\n",
      " 27  secondlargestpropertyuse        14519 non-null  float64\n",
      " 28  thirdlargestpropertyusetypegfa  14519 non-null  float64\n",
      "dtypes: float64(17), int64(6), object(6)\n",
      "memory usage: 3.3+ MB\n"
     ]
    }
   ],
   "source": [
    "df.info()"
   ]
  },
  {
   "cell_type": "code",
   "execution_count": 245,
   "id": "9db0ee95-906a-4ec3-90f3-f577fd6b5390",
   "metadata": {
    "tags": []
   },
   "outputs": [
    {
     "data": {
      "text/plain": [
       "10938    0.0\n",
       "10939    0.0\n",
       "10940    0.0\n",
       "10941    0.0\n",
       "10942    0.0\n",
       "        ... \n",
       "14514    0.0\n",
       "14515    0.0\n",
       "14516    0.0\n",
       "14517    0.0\n",
       "14518    0.0\n",
       "Name: numberofbuildings, Length: 3581, dtype: float64"
      ]
     },
     "execution_count": 245,
     "metadata": {},
     "output_type": "execute_result"
    }
   ],
   "source": [
    "df[df.datayear==2019].numberofbuildings"
   ]
  },
  {
   "cell_type": "code",
   "execution_count": 246,
   "id": "33097eae-58c7-463c-8687-f0ca8f862614",
   "metadata": {
    "tags": []
   },
   "outputs": [
    {
     "data": {
      "text/plain": [
       "1050"
      ]
     },
     "execution_count": 246,
     "metadata": {},
     "output_type": "execute_result"
    }
   ],
   "source": [
    "df.isnull().sum().max()"
   ]
  },
  {
   "cell_type": "code",
   "execution_count": 247,
   "id": "b8a36d14-87d2-48e9-bb1a-8f0f76fa0504",
   "metadata": {
    "tags": []
   },
   "outputs": [
    {
     "data": {
      "text/plain": [
       "(13250, 29)"
      ]
     },
     "execution_count": 247,
     "metadata": {},
     "output_type": "execute_result"
    }
   ],
   "source": [
    "df.dropna(inplace=True)\n",
    "df.shape"
   ]
  },
  {
   "cell_type": "code",
   "execution_count": 248,
   "id": "404d18e0-fcfb-4a94-a8d1-343a802471ea",
   "metadata": {
    "tags": []
   },
   "outputs": [
    {
     "data": {
      "text/plain": [
       "(14519, 42)"
      ]
     },
     "execution_count": 248,
     "metadata": {},
     "output_type": "execute_result"
    }
   ],
   "source": [
    "com.shape"
   ]
  },
  {
   "cell_type": "code",
   "execution_count": 249,
   "id": "fad18a1c-3c0c-4cae-991b-457a9c48c67f",
   "metadata": {
    "tags": []
   },
   "outputs": [
    {
     "data": {
      "text/plain": [
       "Index(['osebuildingid', 'datayear', 'buildingtype', 'zipcode', 'latitude',\n",
       "       'longitude', 'neighborhood', 'councildistrictcode', 'yearbuilt',\n",
       "       'numberoffloors', 'numberofbuildings', 'propertygfatotal',\n",
       "       'propertygfaparking', 'siteenergyuse_kbtu', 'sourceeui_kbtu_sf',\n",
       "       'largestpropertyusetype', 'largestpropertyusetypegfa',\n",
       "       'secondlargestpropertyusetype', 'thirdlargestpropertyusetype',\n",
       "       'electricity_kwh', 'steamuse_kbtu', 'naturalgas_therms',\n",
       "       'compliancestatus', 'electricity_kbtu', 'naturalgas_kbtu',\n",
       "       'totalghgemissions', 'ghgemissionsintensity',\n",
       "       'secondlargestpropertyuse', 'thirdlargestpropertyusetypegfa'],\n",
       "      dtype='object')"
      ]
     },
     "execution_count": 249,
     "metadata": {},
     "output_type": "execute_result"
    }
   ],
   "source": [
    "df.columns"
   ]
  },
  {
   "cell_type": "code",
   "execution_count": 250,
   "id": "500a7bc9-2ff0-4f3b-823d-63a337e801a8",
   "metadata": {
    "tags": []
   },
   "outputs": [
    {
     "data": {
      "text/plain": [
       "0"
      ]
     },
     "execution_count": 250,
     "metadata": {},
     "output_type": "execute_result"
    }
   ],
   "source": [
    "sum(df.isnull().sum())"
   ]
  },
  {
   "cell_type": "code",
   "execution_count": 251,
   "id": "917f5e5e-cd11-4820-8cc4-6c7f5837bc4b",
   "metadata": {
    "tags": []
   },
   "outputs": [],
   "source": [
    "df.to_csv('cleaned_combine.csv')"
   ]
  },
  {
   "cell_type": "markdown",
   "id": "974c8b8b-f387-4fe1-8442-54360ff49718",
   "metadata": {},
   "source": [
    "## LabelEncoder"
   ]
  },
  {
   "cell_type": "code",
   "execution_count": null,
   "id": "467daedd-1cd5-4f7d-b490-26d38181ce06",
   "metadata": {},
   "outputs": [],
   "source": []
  },
  {
   "cell_type": "code",
   "execution_count": 254,
   "id": "0f2361ee-957f-4963-9da6-eb7f59de5c62",
   "metadata": {
    "tags": []
   },
   "outputs": [],
   "source": [
    "cat = ['buildingtype',\n",
    "     'zipcode',\n",
    "     'neighborhood',\n",
    "     'councildistrictcode',\n",
    "     'largestpropertyusetype',\n",
    "     'secondlargestpropertyusetype',\n",
    "     'thirdlargestpropertyusetype',\n",
    "     'compliancestatus']"
   ]
  },
  {
   "cell_type": "code",
   "execution_count": 255,
   "id": "84ace56a-3033-475b-9f4f-6c35ff05ad60",
   "metadata": {
    "tags": []
   },
   "outputs": [],
   "source": [
    "from sklearn.preprocessing import LabelEncoder\n",
    "for c in cat:\n",
    "    le = LabelEncoder()\n",
    "    df[c] = le.fit_transform(df[c])"
   ]
  },
  {
   "cell_type": "code",
   "execution_count": 256,
   "id": "bc98b792-fc0b-455b-b7c5-54c7c5cb9b60",
   "metadata": {
    "tags": []
   },
   "outputs": [
    {
     "data": {
      "text/html": [
       "<div>\n",
       "<style scoped>\n",
       "    .dataframe tbody tr th:only-of-type {\n",
       "        vertical-align: middle;\n",
       "    }\n",
       "\n",
       "    .dataframe tbody tr th {\n",
       "        vertical-align: top;\n",
       "    }\n",
       "\n",
       "    .dataframe thead th {\n",
       "        text-align: right;\n",
       "    }\n",
       "</style>\n",
       "<table border=\"1\" class=\"dataframe\">\n",
       "  <thead>\n",
       "    <tr style=\"text-align: right;\">\n",
       "      <th></th>\n",
       "      <th>osebuildingid</th>\n",
       "      <th>datayear</th>\n",
       "      <th>buildingtype</th>\n",
       "      <th>zipcode</th>\n",
       "      <th>latitude</th>\n",
       "      <th>...</th>\n",
       "      <th>naturalgas_kbtu</th>\n",
       "      <th>totalghgemissions</th>\n",
       "      <th>ghgemissionsintensity</th>\n",
       "      <th>secondlargestpropertyuse</th>\n",
       "      <th>thirdlargestpropertyusetypegfa</th>\n",
       "    </tr>\n",
       "  </thead>\n",
       "  <tbody>\n",
       "    <tr>\n",
       "      <th>0</th>\n",
       "      <td>1</td>\n",
       "      <td>2022</td>\n",
       "      <td>4</td>\n",
       "      <td>1</td>\n",
       "      <td>47.61220</td>\n",
       "      <td>...</td>\n",
       "      <td>1362900.0</td>\n",
       "      <td>264.5</td>\n",
       "      <td>2.99</td>\n",
       "      <td>0.0</td>\n",
       "      <td>0.0</td>\n",
       "    </tr>\n",
       "    <tr>\n",
       "      <th>1</th>\n",
       "      <td>2</td>\n",
       "      <td>2022</td>\n",
       "      <td>4</td>\n",
       "      <td>1</td>\n",
       "      <td>47.61307</td>\n",
       "      <td>...</td>\n",
       "      <td>2751630.0</td>\n",
       "      <td>155.3</td>\n",
       "      <td>1.75</td>\n",
       "      <td>15064.0</td>\n",
       "      <td>0.0</td>\n",
       "    </tr>\n",
       "    <tr>\n",
       "      <th>2</th>\n",
       "      <td>3</td>\n",
       "      <td>2022</td>\n",
       "      <td>4</td>\n",
       "      <td>1</td>\n",
       "      <td>47.61367</td>\n",
       "      <td>...</td>\n",
       "      <td>5699300.0</td>\n",
       "      <td>1963.7</td>\n",
       "      <td>2.59</td>\n",
       "      <td>117783.0</td>\n",
       "      <td>0.0</td>\n",
       "    </tr>\n",
       "    <tr>\n",
       "      <th>3</th>\n",
       "      <td>5</td>\n",
       "      <td>2022</td>\n",
       "      <td>4</td>\n",
       "      <td>1</td>\n",
       "      <td>47.61412</td>\n",
       "      <td>...</td>\n",
       "      <td>3058990.0</td>\n",
       "      <td>298.2</td>\n",
       "      <td>4.86</td>\n",
       "      <td>0.0</td>\n",
       "      <td>0.0</td>\n",
       "    </tr>\n",
       "    <tr>\n",
       "      <th>4</th>\n",
       "      <td>8</td>\n",
       "      <td>2022</td>\n",
       "      <td>4</td>\n",
       "      <td>16</td>\n",
       "      <td>47.61375</td>\n",
       "      <td>...</td>\n",
       "      <td>7362130.0</td>\n",
       "      <td>409.0</td>\n",
       "      <td>3.60</td>\n",
       "      <td>68009.0</td>\n",
       "      <td>0.0</td>\n",
       "    </tr>\n",
       "    <tr>\n",
       "      <th>...</th>\n",
       "      <td>...</td>\n",
       "      <td>...</td>\n",
       "      <td>...</td>\n",
       "      <td>...</td>\n",
       "      <td>...</td>\n",
       "      <td>...</td>\n",
       "      <td>...</td>\n",
       "      <td>...</td>\n",
       "      <td>...</td>\n",
       "      <td>...</td>\n",
       "      <td>...</td>\n",
       "    </tr>\n",
       "    <tr>\n",
       "      <th>14507</th>\n",
       "      <td>50531</td>\n",
       "      <td>2019</td>\n",
       "      <td>2</td>\n",
       "      <td>3</td>\n",
       "      <td>47.68899</td>\n",
       "      <td>...</td>\n",
       "      <td>0.0</td>\n",
       "      <td>8.8</td>\n",
       "      <td>0.20</td>\n",
       "      <td>11308.0</td>\n",
       "      <td>0.0</td>\n",
       "    </tr>\n",
       "    <tr>\n",
       "      <th>14515</th>\n",
       "      <td>50542</td>\n",
       "      <td>2019</td>\n",
       "      <td>4</td>\n",
       "      <td>11</td>\n",
       "      <td>47.69050</td>\n",
       "      <td>...</td>\n",
       "      <td>0.0</td>\n",
       "      <td>13.8</td>\n",
       "      <td>0.20</td>\n",
       "      <td>8580.0</td>\n",
       "      <td>0.0</td>\n",
       "    </tr>\n",
       "    <tr>\n",
       "      <th>14516</th>\n",
       "      <td>50543</td>\n",
       "      <td>2019</td>\n",
       "      <td>4</td>\n",
       "      <td>12</td>\n",
       "      <td>47.58099</td>\n",
       "      <td>...</td>\n",
       "      <td>2340118.0</td>\n",
       "      <td>139.9</td>\n",
       "      <td>2.10</td>\n",
       "      <td>10606.0</td>\n",
       "      <td>0.0</td>\n",
       "    </tr>\n",
       "    <tr>\n",
       "      <th>14517</th>\n",
       "      <td>50633</td>\n",
       "      <td>2019</td>\n",
       "      <td>3</td>\n",
       "      <td>2</td>\n",
       "      <td>47.62366</td>\n",
       "      <td>...</td>\n",
       "      <td>489112.0</td>\n",
       "      <td>37.5</td>\n",
       "      <td>0.60</td>\n",
       "      <td>0.0</td>\n",
       "      <td>0.0</td>\n",
       "    </tr>\n",
       "    <tr>\n",
       "      <th>14518</th>\n",
       "      <td>50634</td>\n",
       "      <td>2019</td>\n",
       "      <td>3</td>\n",
       "      <td>18</td>\n",
       "      <td>47.70709</td>\n",
       "      <td>...</td>\n",
       "      <td>722204.0</td>\n",
       "      <td>46.1</td>\n",
       "      <td>0.40</td>\n",
       "      <td>37333.0</td>\n",
       "      <td>0.0</td>\n",
       "    </tr>\n",
       "  </tbody>\n",
       "</table>\n",
       "<p>13250 rows × 29 columns</p>\n",
       "</div>"
      ],
      "text/plain": [
       "       osebuildingid  datayear  buildingtype  zipcode  latitude  ...  \\\n",
       "0                  1      2022             4        1  47.61220  ...   \n",
       "1                  2      2022             4        1  47.61307  ...   \n",
       "2                  3      2022             4        1  47.61367  ...   \n",
       "3                  5      2022             4        1  47.61412  ...   \n",
       "4                  8      2022             4       16  47.61375  ...   \n",
       "...              ...       ...           ...      ...       ...  ...   \n",
       "14507          50531      2019             2        3  47.68899  ...   \n",
       "14515          50542      2019             4       11  47.69050  ...   \n",
       "14516          50543      2019             4       12  47.58099  ...   \n",
       "14517          50633      2019             3        2  47.62366  ...   \n",
       "14518          50634      2019             3       18  47.70709  ...   \n",
       "\n",
       "       naturalgas_kbtu  totalghgemissions  ghgemissionsintensity  \\\n",
       "0            1362900.0              264.5                   2.99   \n",
       "1            2751630.0              155.3                   1.75   \n",
       "2            5699300.0             1963.7                   2.59   \n",
       "3            3058990.0              298.2                   4.86   \n",
       "4            7362130.0              409.0                   3.60   \n",
       "...                ...                ...                    ...   \n",
       "14507              0.0                8.8                   0.20   \n",
       "14515              0.0               13.8                   0.20   \n",
       "14516        2340118.0              139.9                   2.10   \n",
       "14517         489112.0               37.5                   0.60   \n",
       "14518         722204.0               46.1                   0.40   \n",
       "\n",
       "       secondlargestpropertyuse  thirdlargestpropertyusetypegfa  \n",
       "0                           0.0                             0.0  \n",
       "1                       15064.0                             0.0  \n",
       "2                      117783.0                             0.0  \n",
       "3                           0.0                             0.0  \n",
       "4                       68009.0                             0.0  \n",
       "...                         ...                             ...  \n",
       "14507                   11308.0                             0.0  \n",
       "14515                    8580.0                             0.0  \n",
       "14516                   10606.0                             0.0  \n",
       "14517                       0.0                             0.0  \n",
       "14518                   37333.0                             0.0  \n",
       "\n",
       "[13250 rows x 29 columns]"
      ]
     },
     "execution_count": 256,
     "metadata": {},
     "output_type": "execute_result"
    }
   ],
   "source": [
    "df"
   ]
  },
  {
   "cell_type": "code",
   "execution_count": 257,
   "id": "8b125f26-5d3d-468e-a2e1-c13d9a76f316",
   "metadata": {
    "tags": []
   },
   "outputs": [
    {
     "name": "stdout",
     "output_type": "stream",
     "text": [
      "<class 'pandas.core.frame.DataFrame'>\n",
      "Index: 13250 entries, 0 to 14518\n",
      "Data columns (total 29 columns):\n",
      " #   Column                          Non-Null Count  Dtype  \n",
      "---  ------                          --------------  -----  \n",
      " 0   osebuildingid                   13250 non-null  int64  \n",
      " 1   datayear                        13250 non-null  int64  \n",
      " 2   buildingtype                    13250 non-null  int64  \n",
      " 3   zipcode                         13250 non-null  int64  \n",
      " 4   latitude                        13250 non-null  float64\n",
      " 5   longitude                       13250 non-null  float64\n",
      " 6   neighborhood                    13250 non-null  int64  \n",
      " 7   councildistrictcode             13250 non-null  int64  \n",
      " 8   yearbuilt                       13250 non-null  int64  \n",
      " 9   numberoffloors                  13250 non-null  int64  \n",
      " 10  numberofbuildings               13250 non-null  float64\n",
      " 11  propertygfatotal                13250 non-null  int64  \n",
      " 12  propertygfaparking              13250 non-null  int64  \n",
      " 13  siteenergyuse_kbtu              13250 non-null  float64\n",
      " 14  sourceeui_kbtu_sf               13250 non-null  float64\n",
      " 15  largestpropertyusetype          13250 non-null  int64  \n",
      " 16  largestpropertyusetypegfa       13250 non-null  float64\n",
      " 17  secondlargestpropertyusetype    13250 non-null  int64  \n",
      " 18  thirdlargestpropertyusetype     13250 non-null  int64  \n",
      " 19  electricity_kwh                 13250 non-null  float64\n",
      " 20  steamuse_kbtu                   13250 non-null  float64\n",
      " 21  naturalgas_therms               13250 non-null  float64\n",
      " 22  compliancestatus                13250 non-null  int64  \n",
      " 23  electricity_kbtu                13250 non-null  float64\n",
      " 24  naturalgas_kbtu                 13250 non-null  float64\n",
      " 25  totalghgemissions               13250 non-null  float64\n",
      " 26  ghgemissionsintensity           13250 non-null  float64\n",
      " 27  secondlargestpropertyuse        13250 non-null  float64\n",
      " 28  thirdlargestpropertyusetypegfa  13250 non-null  float64\n",
      "dtypes: float64(15), int64(14)\n",
      "memory usage: 3.0 MB\n"
     ]
    }
   ],
   "source": [
    "df.info()"
   ]
  },
  {
   "cell_type": "code",
   "execution_count": 258,
   "id": "9833f2ca-b79f-4373-b139-aa8cec3d7610",
   "metadata": {
    "tags": []
   },
   "outputs": [],
   "source": [
    "df.drop(columns=['osebuildingid','datayear','councildistrictcode','ghgemissionsintensity','electricity_kbtu'],inplace=True)"
   ]
  },
  {
   "cell_type": "markdown",
   "id": "5846dc2c-6d2a-4373-b524-25ccd39fc100",
   "metadata": {},
   "source": [
    "## Outlier"
   ]
  },
  {
   "cell_type": "code",
   "execution_count": 259,
   "id": "1993ab8d-7dfe-4a6e-99a1-8b069a6a6ca7",
   "metadata": {
    "tags": []
   },
   "outputs": [
    {
     "data": {
      "text/html": [
       "<div>\n",
       "<style scoped>\n",
       "    .dataframe tbody tr th:only-of-type {\n",
       "        vertical-align: middle;\n",
       "    }\n",
       "\n",
       "    .dataframe tbody tr th {\n",
       "        vertical-align: top;\n",
       "    }\n",
       "\n",
       "    .dataframe thead th {\n",
       "        text-align: right;\n",
       "    }\n",
       "</style>\n",
       "<table border=\"1\" class=\"dataframe\">\n",
       "  <thead>\n",
       "    <tr style=\"text-align: right;\">\n",
       "      <th></th>\n",
       "      <th>buildingtype</th>\n",
       "      <th>zipcode</th>\n",
       "      <th>latitude</th>\n",
       "      <th>longitude</th>\n",
       "      <th>neighborhood</th>\n",
       "      <th>...</th>\n",
       "      <th>compliancestatus</th>\n",
       "      <th>naturalgas_kbtu</th>\n",
       "      <th>totalghgemissions</th>\n",
       "      <th>secondlargestpropertyuse</th>\n",
       "      <th>thirdlargestpropertyusetypegfa</th>\n",
       "    </tr>\n",
       "  </thead>\n",
       "  <tbody>\n",
       "    <tr>\n",
       "      <th>count</th>\n",
       "      <td>13250.000000</td>\n",
       "      <td>13250.000000</td>\n",
       "      <td>13250.000000</td>\n",
       "      <td>13250.000000</td>\n",
       "      <td>13250.000000</td>\n",
       "      <td>...</td>\n",
       "      <td>13250.000000</td>\n",
       "      <td>1.325000e+04</td>\n",
       "      <td>13250.000000</td>\n",
       "      <td>13250.000000</td>\n",
       "      <td>13250.000000</td>\n",
       "    </tr>\n",
       "    <tr>\n",
       "      <th>mean</th>\n",
       "      <td>3.152075</td>\n",
       "      <td>11.261962</td>\n",
       "      <td>47.625031</td>\n",
       "      <td>-122.334964</td>\n",
       "      <td>7.127019</td>\n",
       "      <td>...</td>\n",
       "      <td>0.113283</td>\n",
       "      <td>1.539370e+06</td>\n",
       "      <td>144.154521</td>\n",
       "      <td>17835.774415</td>\n",
       "      <td>2782.782943</td>\n",
       "    </tr>\n",
       "    <tr>\n",
       "      <th>std</th>\n",
       "      <td>1.229207</td>\n",
       "      <td>7.200082</td>\n",
       "      <td>0.047043</td>\n",
       "      <td>0.027132</td>\n",
       "      <td>5.928202</td>\n",
       "      <td>...</td>\n",
       "      <td>0.570950</td>\n",
       "      <td>8.068112e+06</td>\n",
       "      <td>2756.115563</td>\n",
       "      <td>46444.037502</td>\n",
       "      <td>15277.913329</td>\n",
       "    </tr>\n",
       "    <tr>\n",
       "      <th>min</th>\n",
       "      <td>0.000000</td>\n",
       "      <td>0.000000</td>\n",
       "      <td>47.499170</td>\n",
       "      <td>-122.414250</td>\n",
       "      <td>0.000000</td>\n",
       "      <td>...</td>\n",
       "      <td>0.000000</td>\n",
       "      <td>0.000000e+00</td>\n",
       "      <td>0.000000</td>\n",
       "      <td>0.000000</td>\n",
       "      <td>0.000000</td>\n",
       "    </tr>\n",
       "    <tr>\n",
       "      <th>25%</th>\n",
       "      <td>2.000000</td>\n",
       "      <td>5.000000</td>\n",
       "      <td>47.601450</td>\n",
       "      <td>-122.350985</td>\n",
       "      <td>3.000000</td>\n",
       "      <td>...</td>\n",
       "      <td>0.000000</td>\n",
       "      <td>0.000000e+00</td>\n",
       "      <td>6.800000</td>\n",
       "      <td>0.000000</td>\n",
       "      <td>0.000000</td>\n",
       "    </tr>\n",
       "    <tr>\n",
       "      <th>50%</th>\n",
       "      <td>3.000000</td>\n",
       "      <td>10.000000</td>\n",
       "      <td>47.619410</td>\n",
       "      <td>-122.332630</td>\n",
       "      <td>6.000000</td>\n",
       "      <td>...</td>\n",
       "      <td>0.000000</td>\n",
       "      <td>3.568360e+05</td>\n",
       "      <td>32.200000</td>\n",
       "      <td>400.000000</td>\n",
       "      <td>0.000000</td>\n",
       "    </tr>\n",
       "    <tr>\n",
       "      <th>75%</th>\n",
       "      <td>4.000000</td>\n",
       "      <td>17.000000</td>\n",
       "      <td>47.657290</td>\n",
       "      <td>-122.318980</td>\n",
       "      <td>9.000000</td>\n",
       "      <td>...</td>\n",
       "      <td>0.000000</td>\n",
       "      <td>1.352057e+06</td>\n",
       "      <td>94.800000</td>\n",
       "      <td>14200.000000</td>\n",
       "      <td>0.000000</td>\n",
       "    </tr>\n",
       "    <tr>\n",
       "      <th>max</th>\n",
       "      <td>7.000000</td>\n",
       "      <td>29.000000</td>\n",
       "      <td>47.733870</td>\n",
       "      <td>-122.258640</td>\n",
       "      <td>25.000000</td>\n",
       "      <td>...</td>\n",
       "      <td>3.000000</td>\n",
       "      <td>4.327243e+08</td>\n",
       "      <td>310839.600000</td>\n",
       "      <td>750000.000000</td>\n",
       "      <td>480625.000000</td>\n",
       "    </tr>\n",
       "  </tbody>\n",
       "</table>\n",
       "<p>8 rows × 24 columns</p>\n",
       "</div>"
      ],
      "text/plain": [
       "       buildingtype       zipcode      latitude     longitude  neighborhood  \\\n",
       "count  13250.000000  13250.000000  13250.000000  13250.000000  13250.000000   \n",
       "mean       3.152075     11.261962     47.625031   -122.334964      7.127019   \n",
       "std        1.229207      7.200082      0.047043      0.027132      5.928202   \n",
       "min        0.000000      0.000000     47.499170   -122.414250      0.000000   \n",
       "25%        2.000000      5.000000     47.601450   -122.350985      3.000000   \n",
       "50%        3.000000     10.000000     47.619410   -122.332630      6.000000   \n",
       "75%        4.000000     17.000000     47.657290   -122.318980      9.000000   \n",
       "max        7.000000     29.000000     47.733870   -122.258640     25.000000   \n",
       "\n",
       "       ...  compliancestatus  naturalgas_kbtu  totalghgemissions  \\\n",
       "count  ...      13250.000000     1.325000e+04       13250.000000   \n",
       "mean   ...          0.113283     1.539370e+06         144.154521   \n",
       "std    ...          0.570950     8.068112e+06        2756.115563   \n",
       "min    ...          0.000000     0.000000e+00           0.000000   \n",
       "25%    ...          0.000000     0.000000e+00           6.800000   \n",
       "50%    ...          0.000000     3.568360e+05          32.200000   \n",
       "75%    ...          0.000000     1.352057e+06          94.800000   \n",
       "max    ...          3.000000     4.327243e+08      310839.600000   \n",
       "\n",
       "       secondlargestpropertyuse  thirdlargestpropertyusetypegfa  \n",
       "count              13250.000000                    13250.000000  \n",
       "mean               17835.774415                     2782.782943  \n",
       "std                46444.037502                    15277.913329  \n",
       "min                    0.000000                        0.000000  \n",
       "25%                    0.000000                        0.000000  \n",
       "50%                  400.000000                        0.000000  \n",
       "75%                14200.000000                        0.000000  \n",
       "max               750000.000000                   480625.000000  \n",
       "\n",
       "[8 rows x 24 columns]"
      ]
     },
     "execution_count": 259,
     "metadata": {},
     "output_type": "execute_result"
    }
   ],
   "source": [
    "df.describe()"
   ]
  },
  {
   "cell_type": "code",
   "execution_count": 260,
   "id": "e02c38b7-fc1c-44db-bfd6-4bcea409de85",
   "metadata": {
    "tags": []
   },
   "outputs": [
    {
     "data": {
      "text/plain": [
       "(12587, 24)"
      ]
     },
     "execution_count": 260,
     "metadata": {},
     "output_type": "execute_result"
    }
   ],
   "source": [
    "df = df[df.totalghgemissions<df.totalghgemissions.quantile(0.95)]\n",
    "df.shape"
   ]
  },
  {
   "cell_type": "code",
   "execution_count": 261,
   "id": "c376b209-59df-4cf6-b7f9-26acb4f666ce",
   "metadata": {
    "tags": []
   },
   "outputs": [],
   "source": [
    "df.to_csv('labeled_bench_marking_all.csv')"
   ]
  },
  {
   "cell_type": "markdown",
   "id": "747589cd-303a-46be-a05d-e8dc7035c79d",
   "metadata": {},
   "source": [
    "## Split Dataset"
   ]
  },
  {
   "cell_type": "code",
   "execution_count": 262,
   "id": "bbb1a907-898a-4a48-91ad-1cf25d332dbb",
   "metadata": {
    "tags": []
   },
   "outputs": [],
   "source": [
    "X = df.drop(columns=['totalghgemissions'])\n",
    "y = df['totalghgemissions']"
   ]
  },
  {
   "cell_type": "code",
   "execution_count": 263,
   "id": "fb4c354c-bdb9-437e-b783-91b3f35cbb3e",
   "metadata": {
    "tags": []
   },
   "outputs": [
    {
     "name": "stdout",
     "output_type": "stream",
     "text": [
      "(8810, 23)\n",
      "(8810,)\n",
      "(3777, 23)\n",
      "(3777,)\n"
     ]
    }
   ],
   "source": [
    "X_train, X_test, y_train, y_test = train_test_split(X, y, test_size=0.3, random_state=6)\n",
    "\n",
    "print(X_train.shape)\n",
    "print(y_train.shape)\n",
    "print(X_test.shape)\n",
    "print(y_test.shape)"
   ]
  },
  {
   "cell_type": "code",
   "execution_count": 264,
   "id": "836f2893-4547-4325-b160-a663df8e76dc",
   "metadata": {
    "tags": []
   },
   "outputs": [
    {
     "data": {
      "text/html": [
       "<div>\n",
       "<style scoped>\n",
       "    .dataframe tbody tr th:only-of-type {\n",
       "        vertical-align: middle;\n",
       "    }\n",
       "\n",
       "    .dataframe tbody tr th {\n",
       "        vertical-align: top;\n",
       "    }\n",
       "\n",
       "    .dataframe thead th {\n",
       "        text-align: right;\n",
       "    }\n",
       "</style>\n",
       "<table border=\"1\" class=\"dataframe\">\n",
       "  <thead>\n",
       "    <tr style=\"text-align: right;\">\n",
       "      <th></th>\n",
       "      <th>buildingtype</th>\n",
       "      <th>zipcode</th>\n",
       "      <th>latitude</th>\n",
       "      <th>longitude</th>\n",
       "      <th>neighborhood</th>\n",
       "      <th>...</th>\n",
       "      <th>naturalgas_therms</th>\n",
       "      <th>compliancestatus</th>\n",
       "      <th>naturalgas_kbtu</th>\n",
       "      <th>secondlargestpropertyuse</th>\n",
       "      <th>thirdlargestpropertyusetypegfa</th>\n",
       "    </tr>\n",
       "  </thead>\n",
       "  <tbody>\n",
       "    <tr>\n",
       "      <th>0</th>\n",
       "      <td>0.705389</td>\n",
       "      <td>-0.334562</td>\n",
       "      <td>-0.035338</td>\n",
       "      <td>-0.038649</td>\n",
       "      <td>-0.201839</td>\n",
       "      <td>...</td>\n",
       "      <td>-0.234180</td>\n",
       "      <td>-0.19526</td>\n",
       "      <td>-0.223991</td>\n",
       "      <td>-0.414059</td>\n",
       "      <td>-0.202877</td>\n",
       "    </tr>\n",
       "    <tr>\n",
       "      <th>1</th>\n",
       "      <td>3.212911</td>\n",
       "      <td>-0.891428</td>\n",
       "      <td>0.780268</td>\n",
       "      <td>2.094738</td>\n",
       "      <td>0.298968</td>\n",
       "      <td>...</td>\n",
       "      <td>0.962211</td>\n",
       "      <td>-0.19526</td>\n",
       "      <td>0.893219</td>\n",
       "      <td>-0.414059</td>\n",
       "      <td>-0.202877</td>\n",
       "    </tr>\n",
       "    <tr>\n",
       "      <th>2</th>\n",
       "      <td>-0.966293</td>\n",
       "      <td>0.083087</td>\n",
       "      <td>-1.337734</td>\n",
       "      <td>-1.975029</td>\n",
       "      <td>2.803002</td>\n",
       "      <td>...</td>\n",
       "      <td>-0.664645</td>\n",
       "      <td>-0.19526</td>\n",
       "      <td>-0.626009</td>\n",
       "      <td>-0.414059</td>\n",
       "      <td>-0.202877</td>\n",
       "    </tr>\n",
       "    <tr>\n",
       "      <th>3</th>\n",
       "      <td>0.705389</td>\n",
       "      <td>-1.448293</td>\n",
       "      <td>-0.271562</td>\n",
       "      <td>0.030926</td>\n",
       "      <td>-0.702645</td>\n",
       "      <td>...</td>\n",
       "      <td>0.142797</td>\n",
       "      <td>-0.19526</td>\n",
       "      <td>0.127994</td>\n",
       "      <td>-0.119278</td>\n",
       "      <td>0.536815</td>\n",
       "    </tr>\n",
       "    <tr>\n",
       "      <th>4</th>\n",
       "      <td>-0.966293</td>\n",
       "      <td>-1.309077</td>\n",
       "      <td>0.488996</td>\n",
       "      <td>0.440320</td>\n",
       "      <td>-0.201839</td>\n",
       "      <td>...</td>\n",
       "      <td>-0.664645</td>\n",
       "      <td>-0.19526</td>\n",
       "      <td>-0.626009</td>\n",
       "      <td>-0.148483</td>\n",
       "      <td>-0.202877</td>\n",
       "    </tr>\n",
       "  </tbody>\n",
       "</table>\n",
       "<p>5 rows × 23 columns</p>\n",
       "</div>"
      ],
      "text/plain": [
       "   buildingtype   zipcode  latitude  longitude  neighborhood  ...  \\\n",
       "0      0.705389 -0.334562 -0.035338  -0.038649     -0.201839  ...   \n",
       "1      3.212911 -0.891428  0.780268   2.094738      0.298968  ...   \n",
       "2     -0.966293  0.083087 -1.337734  -1.975029      2.803002  ...   \n",
       "3      0.705389 -1.448293 -0.271562   0.030926     -0.702645  ...   \n",
       "4     -0.966293 -1.309077  0.488996   0.440320     -0.201839  ...   \n",
       "\n",
       "   naturalgas_therms  compliancestatus  naturalgas_kbtu  \\\n",
       "0          -0.234180          -0.19526        -0.223991   \n",
       "1           0.962211          -0.19526         0.893219   \n",
       "2          -0.664645          -0.19526        -0.626009   \n",
       "3           0.142797          -0.19526         0.127994   \n",
       "4          -0.664645          -0.19526        -0.626009   \n",
       "\n",
       "   secondlargestpropertyuse  thirdlargestpropertyusetypegfa  \n",
       "0                 -0.414059                       -0.202877  \n",
       "1                 -0.414059                       -0.202877  \n",
       "2                 -0.414059                       -0.202877  \n",
       "3                 -0.119278                        0.536815  \n",
       "4                 -0.148483                       -0.202877  \n",
       "\n",
       "[5 rows x 23 columns]"
      ]
     },
     "execution_count": 264,
     "metadata": {},
     "output_type": "execute_result"
    }
   ],
   "source": [
    "scaler = StandardScaler().fit(X_train)\n",
    "X_train = pd.DataFrame(scaler.transform(X_train), columns = X_train.columns)\n",
    "X_test = pd.DataFrame(scaler.transform(X_test),columns = X_test.columns)\n",
    "X_train.head()"
   ]
  },
  {
   "cell_type": "code",
   "execution_count": 265,
   "id": "68a45a21-275f-420c-90aa-a52137fd553a",
   "metadata": {
    "tags": []
   },
   "outputs": [
    {
     "data": {
      "text/plain": [
       "Index(['buildingtype', 'zipcode', 'latitude', 'longitude', 'neighborhood',\n",
       "       'yearbuilt', 'numberoffloors', 'numberofbuildings', 'propertygfatotal',\n",
       "       'propertygfaparking', 'siteenergyuse_kbtu', 'sourceeui_kbtu_sf',\n",
       "       'largestpropertyusetype', 'largestpropertyusetypegfa',\n",
       "       'secondlargestpropertyusetype', 'thirdlargestpropertyusetype',\n",
       "       'electricity_kwh', 'steamuse_kbtu', 'naturalgas_therms',\n",
       "       'compliancestatus', 'naturalgas_kbtu', 'secondlargestpropertyuse',\n",
       "       'thirdlargestpropertyusetypegfa'],\n",
       "      dtype='object')"
      ]
     },
     "execution_count": 265,
     "metadata": {},
     "output_type": "execute_result"
    }
   ],
   "source": [
    "X_train.columns"
   ]
  },
  {
   "cell_type": "markdown",
   "id": "cdbf4627-b7e1-4ffa-aee1-4aa3c89bbeee",
   "metadata": {},
   "source": [
    "## Feature Selection"
   ]
  },
  {
   "cell_type": "markdown",
   "id": "9481471b-595b-4e69-bb9a-109657ba6766",
   "metadata": {},
   "source": [
    "### PCA"
   ]
  },
  {
   "cell_type": "code",
   "execution_count": 266,
   "id": "5f44b065-a186-4444-97b8-55b00b800bbe",
   "metadata": {
    "tags": []
   },
   "outputs": [],
   "source": [
    "from sklearn.decomposition import PCA"
   ]
  },
  {
   "cell_type": "code",
   "execution_count": 267,
   "id": "b5c44609-4f11-42f3-950a-6d421a35d527",
   "metadata": {
    "tags": []
   },
   "outputs": [
    {
     "name": "stdout",
     "output_type": "stream",
     "text": [
      "top 23 features by PC1:\n"
     ]
    },
    {
     "data": {
      "text/plain": [
       "propertygfatotal             0.385685\n",
       "largestpropertyusetypegfa    0.366349\n",
       "siteenergyuse_kbtu           0.365797\n",
       "electricity_kwh              0.351845\n",
       "secondlargestpropertyuse     0.347291\n",
       "                               ...   \n",
       "numberofbuildings            0.023750\n",
       "latitude                     0.021467\n",
       "longitude                    0.004297\n",
       "largestpropertyusetype       0.004272\n",
       "compliancestatus             0.003088\n",
       "Name: 0, Length: 23, dtype: float64"
      ]
     },
     "metadata": {},
     "output_type": "display_data"
    },
    {
     "name": "stdout",
     "output_type": "stream",
     "text": [
      "top 23 features by PC2:\n"
     ]
    },
    {
     "data": {
      "text/plain": [
       "naturalgas_therms               0.555727\n",
       "naturalgas_kbtu                 0.553486\n",
       "sourceeui_kbtu_sf               0.337514\n",
       "buildingtype                    0.264550\n",
       "largestpropertyusetype          0.189831\n",
       "                                  ...   \n",
       "secondlargestpropertyusetype    0.019015\n",
       "numberofbuildings               0.014216\n",
       "thirdlargestpropertyusetype     0.013069\n",
       "zipcode                         0.008019\n",
       "electricity_kwh                 0.007082\n",
       "Name: 1, Length: 23, dtype: float64"
      ]
     },
     "metadata": {},
     "output_type": "display_data"
    }
   ],
   "source": [
    "pcs = PCA(n_components= X_train.shape[1])\n",
    "pcs.fit(X_train)\n",
    "pcsComponents_df = pd.DataFrame(pcs.components_.transpose(),\n",
    "                                index=X_train.columns)\n",
    "\n",
    "pc1 = pcsComponents_df[0].abs().sort_values(ascending=False)[:X_train.shape[1]]\n",
    "pc2 = pcsComponents_df[1].abs().sort_values(ascending=False)[:X_train.shape[1]]\n",
    "print('top {} features by PC1:'.format(X_train.shape[1]))\n",
    "display(pc1)\n",
    "print('top {} features by PC2:'.format(X_train.shape[1]))\n",
    "display(pc2)"
   ]
  },
  {
   "cell_type": "code",
   "execution_count": 296,
   "id": "16acc69b-134c-4df1-a569-35dee7216b2b",
   "metadata": {
    "tags": []
   },
   "outputs": [
    {
     "data": {
      "text/html": [
       "<div>\n",
       "<style scoped>\n",
       "    .dataframe tbody tr th:only-of-type {\n",
       "        vertical-align: middle;\n",
       "    }\n",
       "\n",
       "    .dataframe tbody tr th {\n",
       "        vertical-align: top;\n",
       "    }\n",
       "\n",
       "    .dataframe thead th {\n",
       "        text-align: right;\n",
       "    }\n",
       "</style>\n",
       "<table border=\"1\" class=\"dataframe\">\n",
       "  <thead>\n",
       "    <tr style=\"text-align: right;\">\n",
       "      <th></th>\n",
       "      <th>0</th>\n",
       "    </tr>\n",
       "  </thead>\n",
       "  <tbody>\n",
       "    <tr>\n",
       "      <th>propertygfatotal</th>\n",
       "      <td>0.385685</td>\n",
       "    </tr>\n",
       "    <tr>\n",
       "      <th>largestpropertyusetypegfa</th>\n",
       "      <td>0.366349</td>\n",
       "    </tr>\n",
       "    <tr>\n",
       "      <th>siteenergyuse_kbtu</th>\n",
       "      <td>0.365797</td>\n",
       "    </tr>\n",
       "    <tr>\n",
       "      <th>electricity_kwh</th>\n",
       "      <td>0.351845</td>\n",
       "    </tr>\n",
       "    <tr>\n",
       "      <th>secondlargestpropertyuse</th>\n",
       "      <td>0.347291</td>\n",
       "    </tr>\n",
       "    <tr>\n",
       "      <th>propertygfaparking</th>\n",
       "      <td>0.312875</td>\n",
       "    </tr>\n",
       "    <tr>\n",
       "      <th>numberoffloors</th>\n",
       "      <td>0.293337</td>\n",
       "    </tr>\n",
       "    <tr>\n",
       "      <th>thirdlargestpropertyusetypegfa</th>\n",
       "      <td>0.208957</td>\n",
       "    </tr>\n",
       "    <tr>\n",
       "      <th>naturalgas_therms</th>\n",
       "      <td>0.145262</td>\n",
       "    </tr>\n",
       "    <tr>\n",
       "      <th>thirdlargestpropertyusetype</th>\n",
       "      <td>0.138342</td>\n",
       "    </tr>\n",
       "    <tr>\n",
       "      <th>naturalgas_kbtu</th>\n",
       "      <td>0.138020</td>\n",
       "    </tr>\n",
       "    <tr>\n",
       "      <th>secondlargestpropertyusetype</th>\n",
       "      <td>0.128665</td>\n",
       "    </tr>\n",
       "    <tr>\n",
       "      <th>yearbuilt</th>\n",
       "      <td>0.099993</td>\n",
       "    </tr>\n",
       "    <tr>\n",
       "      <th>sourceeui_kbtu_sf</th>\n",
       "      <td>0.094225</td>\n",
       "    </tr>\n",
       "    <tr>\n",
       "      <th>zipcode</th>\n",
       "      <td>0.077999</td>\n",
       "    </tr>\n",
       "    <tr>\n",
       "      <th>neighborhood</th>\n",
       "      <td>0.067492</td>\n",
       "    </tr>\n",
       "    <tr>\n",
       "      <th>steamuse_kbtu</th>\n",
       "      <td>0.054614</td>\n",
       "    </tr>\n",
       "    <tr>\n",
       "      <th>buildingtype</th>\n",
       "      <td>0.042526</td>\n",
       "    </tr>\n",
       "    <tr>\n",
       "      <th>numberofbuildings</th>\n",
       "      <td>0.023750</td>\n",
       "    </tr>\n",
       "    <tr>\n",
       "      <th>latitude</th>\n",
       "      <td>0.021467</td>\n",
       "    </tr>\n",
       "    <tr>\n",
       "      <th>longitude</th>\n",
       "      <td>0.004297</td>\n",
       "    </tr>\n",
       "    <tr>\n",
       "      <th>largestpropertyusetype</th>\n",
       "      <td>0.004272</td>\n",
       "    </tr>\n",
       "    <tr>\n",
       "      <th>compliancestatus</th>\n",
       "      <td>0.003088</td>\n",
       "    </tr>\n",
       "  </tbody>\n",
       "</table>\n",
       "</div>"
      ],
      "text/plain": [
       "                                       0\n",
       "propertygfatotal                0.385685\n",
       "largestpropertyusetypegfa       0.366349\n",
       "siteenergyuse_kbtu              0.365797\n",
       "electricity_kwh                 0.351845\n",
       "secondlargestpropertyuse        0.347291\n",
       "propertygfaparking              0.312875\n",
       "numberoffloors                  0.293337\n",
       "thirdlargestpropertyusetypegfa  0.208957\n",
       "naturalgas_therms               0.145262\n",
       "thirdlargestpropertyusetype     0.138342\n",
       "naturalgas_kbtu                 0.138020\n",
       "secondlargestpropertyusetype    0.128665\n",
       "yearbuilt                       0.099993\n",
       "sourceeui_kbtu_sf               0.094225\n",
       "zipcode                         0.077999\n",
       "neighborhood                    0.067492\n",
       "steamuse_kbtu                   0.054614\n",
       "buildingtype                    0.042526\n",
       "numberofbuildings               0.023750\n",
       "latitude                        0.021467\n",
       "longitude                       0.004297\n",
       "largestpropertyusetype          0.004272\n",
       "compliancestatus                0.003088"
      ]
     },
     "execution_count": 296,
     "metadata": {},
     "output_type": "execute_result"
    }
   ],
   "source": [
    "pd.set_option('display.max_rows', 30)\n",
    "pd.DataFrame(pc1)"
   ]
  },
  {
   "cell_type": "markdown",
   "id": "ad3dd894-6ea4-47ec-8d66-ce388e153ae2",
   "metadata": {},
   "source": [
    "## Filter"
   ]
  },
  {
   "cell_type": "markdown",
   "id": "1937653e-4d08-4960-8506-dd9704d680de",
   "metadata": {},
   "source": [
    "### backward elimination"
   ]
  },
  {
   "cell_type": "code",
   "execution_count": 268,
   "id": "197919d2-1dd3-447a-aac7-00664bdfc09b",
   "metadata": {
    "id": "2QLqcdZoBRI2",
    "tags": []
   },
   "outputs": [],
   "source": [
    "def train_model(variables):\n",
    "    if len(variables) == 0:\n",
    "        # Return None to indicate a constant model (no predictors)\n",
    "        return None\n",
    "    model = LinearRegression()\n",
    "    model.fit(X_train[variables], y_train)\n",
    "    return model"
   ]
  },
  {
   "cell_type": "code",
   "execution_count": 269,
   "id": "ff6fe7ee-43a0-4f69-ada4-7bf52cb91766",
   "metadata": {
    "id": "JRv3uOdEBhOk",
    "tags": []
   },
   "outputs": [],
   "source": [
    "def score_model(model, variables):\n",
    "    if len(variables) == 0:\n",
    "        # Special case for constant model\n",
    "        dummy_predictions = [y_train.mean()] * len(y_train)\n",
    "        return AIC_score(y_train, dummy_predictions, model, df=1)\n",
    "    return AIC_score(y_train, model.predict(X_train[variables]), model)"
   ]
  },
  {
   "cell_type": "code",
   "execution_count": 270,
   "id": "48cc0d3a-3936-4d80-a2fc-999314c92ee6",
   "metadata": {
    "colab": {
     "base_uri": "https://localhost:8080/"
    },
    "id": "ZyO7U7cGBkCd",
    "outputId": "f2cae219-ef5d-494b-b945-3892fbb27418",
    "tags": []
   },
   "outputs": [
    {
     "name": "stdout",
     "output_type": "stream",
     "text": [
      "Variables: buildingtype, zipcode, latitude, longitude, neighborhood, yearbuilt, numberoffloors, numberofbuildings, propertygfatotal, propertygfaparking, siteenergyuse_kbtu, sourceeui_kbtu_sf, largestpropertyusetype, largestpropertyusetypegfa, secondlargestpropertyusetype, thirdlargestpropertyusetype, electricity_kwh, steamuse_kbtu, naturalgas_therms, compliancestatus, naturalgas_kbtu, secondlargestpropertyuse, thirdlargestpropertyusetypegfa\n",
      "Start: score=57393.04\n",
      "Step: score=57391.04, remove naturalgas_kbtu\n",
      "Step: score=57389.04, remove propertygfaparking\n",
      "Step: score=57387.05, remove compliancestatus\n",
      "Step: score=57385.06, remove longitude\n",
      "Step: score=57383.08, remove secondlargestpropertyusetype\n",
      "Step: score=57381.09, remove latitude\n",
      "Step: score=57379.39, remove thirdlargestpropertyusetype\n",
      "Step: score=57377.76, remove largestpropertyusetype\n",
      "Step: score=57376.14, remove neighborhood\n",
      "Step: score=57374.56, remove propertygfatotal\n",
      "Step: score=57373.02, remove buildingtype\n",
      "Step: score=57371.60, remove yearbuilt\n",
      "Step: score=57371.60, remove None\n",
      "Best variables: ['zipcode', 'numberoffloors', 'numberofbuildings', 'siteenergyuse_kbtu', 'sourceeui_kbtu_sf', 'largestpropertyusetypegfa', 'electricity_kwh', 'steamuse_kbtu', 'naturalgas_therms', 'secondlargestpropertyuse', 'thirdlargestpropertyusetypegfa']\n",
      "\n",
      "Regression statistics\n",
      "\n",
      "               Mean Error (ME) : 0.0096\n",
      "Root Mean Squared Error (RMSE) : 6.3879\n",
      "     Mean Absolute Error (MAE) : 2.2846\n"
     ]
    }
   ],
   "source": [
    "allVariables = X_train.columns\n",
    "best_model, bs_best_variables = backward_elimination(allVariables, train_model, score_model, verbose=True)\n",
    "\n",
    "print(\"Best variables:\", bs_best_variables)\n",
    "regressionSummary(y_test, best_model.predict(X_test[bs_best_variables]))"
   ]
  },
  {
   "cell_type": "markdown",
   "id": "d114d99d-f790-4051-9817-66a9180ddcfc",
   "metadata": {},
   "source": [
    "### together"
   ]
  },
  {
   "cell_type": "code",
   "execution_count": 271,
   "id": "2d00cd47-4cd3-45c7-8011-c6951d552f8d",
   "metadata": {
    "tags": []
   },
   "outputs": [],
   "source": [
    "pc1_df = pd.DataFrame(pc1).reset_index()\n",
    "pc1_df.columns=['variables','score']"
   ]
  },
  {
   "cell_type": "code",
   "execution_count": 272,
   "id": "bc1edab7-30dc-4b73-b996-9c6b7c2aba14",
   "metadata": {
    "tags": []
   },
   "outputs": [],
   "source": [
    "bs_df = pd.DataFrame(bs_best_variables)\n",
    "bs_df.columns=['variables']"
   ]
  },
  {
   "cell_type": "code",
   "execution_count": 273,
   "id": "fdc32cd3-3093-4d5b-805b-77ada8132c92",
   "metadata": {
    "tags": []
   },
   "outputs": [],
   "source": [
    "bs_ordered = pd.merge(pc1_df,bs_df,on=['variables'],how='right').sort_values(by='score',ascending=False)"
   ]
  },
  {
   "cell_type": "code",
   "execution_count": 274,
   "id": "96320a56-f148-4b14-8273-5b55d2cfe8fb",
   "metadata": {
    "tags": []
   },
   "outputs": [
    {
     "data": {
      "text/html": [
       "<div>\n",
       "<style scoped>\n",
       "    .dataframe tbody tr th:only-of-type {\n",
       "        vertical-align: middle;\n",
       "    }\n",
       "\n",
       "    .dataframe tbody tr th {\n",
       "        vertical-align: top;\n",
       "    }\n",
       "\n",
       "    .dataframe thead th {\n",
       "        text-align: right;\n",
       "    }\n",
       "</style>\n",
       "<table border=\"1\" class=\"dataframe\">\n",
       "  <thead>\n",
       "    <tr style=\"text-align: right;\">\n",
       "      <th></th>\n",
       "      <th>variables</th>\n",
       "      <th>score</th>\n",
       "    </tr>\n",
       "  </thead>\n",
       "  <tbody>\n",
       "    <tr>\n",
       "      <th>5</th>\n",
       "      <td>largestpropertyusetypegfa</td>\n",
       "      <td>0.366349</td>\n",
       "    </tr>\n",
       "    <tr>\n",
       "      <th>3</th>\n",
       "      <td>siteenergyuse_kbtu</td>\n",
       "      <td>0.365797</td>\n",
       "    </tr>\n",
       "    <tr>\n",
       "      <th>6</th>\n",
       "      <td>electricity_kwh</td>\n",
       "      <td>0.351845</td>\n",
       "    </tr>\n",
       "    <tr>\n",
       "      <th>9</th>\n",
       "      <td>secondlargestpropertyuse</td>\n",
       "      <td>0.347291</td>\n",
       "    </tr>\n",
       "    <tr>\n",
       "      <th>1</th>\n",
       "      <td>numberoffloors</td>\n",
       "      <td>0.293337</td>\n",
       "    </tr>\n",
       "    <tr>\n",
       "      <th>10</th>\n",
       "      <td>thirdlargestpropertyusetypegfa</td>\n",
       "      <td>0.208957</td>\n",
       "    </tr>\n",
       "    <tr>\n",
       "      <th>8</th>\n",
       "      <td>naturalgas_therms</td>\n",
       "      <td>0.145262</td>\n",
       "    </tr>\n",
       "    <tr>\n",
       "      <th>4</th>\n",
       "      <td>sourceeui_kbtu_sf</td>\n",
       "      <td>0.094225</td>\n",
       "    </tr>\n",
       "    <tr>\n",
       "      <th>0</th>\n",
       "      <td>zipcode</td>\n",
       "      <td>0.077999</td>\n",
       "    </tr>\n",
       "    <tr>\n",
       "      <th>7</th>\n",
       "      <td>steamuse_kbtu</td>\n",
       "      <td>0.054614</td>\n",
       "    </tr>\n",
       "    <tr>\n",
       "      <th>2</th>\n",
       "      <td>numberofbuildings</td>\n",
       "      <td>0.023750</td>\n",
       "    </tr>\n",
       "  </tbody>\n",
       "</table>\n",
       "</div>"
      ],
      "text/plain": [
       "                         variables     score\n",
       "5        largestpropertyusetypegfa  0.366349\n",
       "3               siteenergyuse_kbtu  0.365797\n",
       "6                  electricity_kwh  0.351845\n",
       "9         secondlargestpropertyuse  0.347291\n",
       "1                   numberoffloors  0.293337\n",
       "10  thirdlargestpropertyusetypegfa  0.208957\n",
       "8                naturalgas_therms  0.145262\n",
       "4                sourceeui_kbtu_sf  0.094225\n",
       "0                          zipcode  0.077999\n",
       "7                    steamuse_kbtu  0.054614\n",
       "2                numberofbuildings  0.023750"
      ]
     },
     "execution_count": 274,
     "metadata": {},
     "output_type": "execute_result"
    }
   ],
   "source": [
    "bs_ordered"
   ]
  },
  {
   "cell_type": "markdown",
   "id": "c9f473c1-da4e-4b08-a944-41168d6d2525",
   "metadata": {},
   "source": [
    "2019 - 2022"
   ]
  },
  {
   "cell_type": "code",
   "execution_count": 275,
   "id": "65bc0b71-b0aa-4bce-aa1d-f03871db9e8e",
   "metadata": {
    "tags": []
   },
   "outputs": [
    {
     "data": {
      "text/html": [
       "<div>\n",
       "<style scoped>\n",
       "    .dataframe tbody tr th:only-of-type {\n",
       "        vertical-align: middle;\n",
       "    }\n",
       "\n",
       "    .dataframe tbody tr th {\n",
       "        vertical-align: top;\n",
       "    }\n",
       "\n",
       "    .dataframe thead th {\n",
       "        text-align: right;\n",
       "    }\n",
       "</style>\n",
       "<table border=\"1\" class=\"dataframe\">\n",
       "  <thead>\n",
       "    <tr style=\"text-align: right;\">\n",
       "      <th></th>\n",
       "      <th>PC1</th>\n",
       "      <th>BackwardElimination</th>\n",
       "    </tr>\n",
       "  </thead>\n",
       "  <tbody>\n",
       "    <tr>\n",
       "      <th>0</th>\n",
       "      <td>propertygfatotal</td>\n",
       "      <td>largestpropertyusetypegfa</td>\n",
       "    </tr>\n",
       "    <tr>\n",
       "      <th>1</th>\n",
       "      <td>largestpropertyusetypegfa</td>\n",
       "      <td>siteenergyuse_kbtu</td>\n",
       "    </tr>\n",
       "    <tr>\n",
       "      <th>2</th>\n",
       "      <td>siteenergyuse_kbtu</td>\n",
       "      <td>electricity_kwh</td>\n",
       "    </tr>\n",
       "    <tr>\n",
       "      <th>3</th>\n",
       "      <td>electricity_kwh</td>\n",
       "      <td>secondlargestpropertyuse</td>\n",
       "    </tr>\n",
       "    <tr>\n",
       "      <th>4</th>\n",
       "      <td>secondlargestpropertyuse</td>\n",
       "      <td>numberoffloors</td>\n",
       "    </tr>\n",
       "    <tr>\n",
       "      <th>5</th>\n",
       "      <td>propertygfaparking</td>\n",
       "      <td>thirdlargestpropertyusetypegfa</td>\n",
       "    </tr>\n",
       "    <tr>\n",
       "      <th>6</th>\n",
       "      <td>numberoffloors</td>\n",
       "      <td>naturalgas_therms</td>\n",
       "    </tr>\n",
       "    <tr>\n",
       "      <th>7</th>\n",
       "      <td>thirdlargestpropertyusetypegfa</td>\n",
       "      <td>sourceeui_kbtu_sf</td>\n",
       "    </tr>\n",
       "    <tr>\n",
       "      <th>8</th>\n",
       "      <td>naturalgas_therms</td>\n",
       "      <td>zipcode</td>\n",
       "    </tr>\n",
       "    <tr>\n",
       "      <th>9</th>\n",
       "      <td>thirdlargestpropertyusetype</td>\n",
       "      <td>steamuse_kbtu</td>\n",
       "    </tr>\n",
       "    <tr>\n",
       "      <th>10</th>\n",
       "      <td>naturalgas_kbtu</td>\n",
       "      <td>numberofbuildings</td>\n",
       "    </tr>\n",
       "  </tbody>\n",
       "</table>\n",
       "</div>"
      ],
      "text/plain": [
       "                               PC1             BackwardElimination\n",
       "0                 propertygfatotal       largestpropertyusetypegfa\n",
       "1        largestpropertyusetypegfa              siteenergyuse_kbtu\n",
       "2               siteenergyuse_kbtu                 electricity_kwh\n",
       "3                  electricity_kwh        secondlargestpropertyuse\n",
       "4         secondlargestpropertyuse                  numberoffloors\n",
       "5               propertygfaparking  thirdlargestpropertyusetypegfa\n",
       "6                   numberoffloors               naturalgas_therms\n",
       "7   thirdlargestpropertyusetypegfa               sourceeui_kbtu_sf\n",
       "8                naturalgas_therms                         zipcode\n",
       "9      thirdlargestpropertyusetype                   steamuse_kbtu\n",
       "10                 naturalgas_kbtu               numberofbuildings"
      ]
     },
     "execution_count": 275,
     "metadata": {},
     "output_type": "execute_result"
    }
   ],
   "source": [
    "n = len(bs_best_variables)\n",
    "features_rank = pd.DataFrame([pc1.index[:n], \n",
    "                              #pc2.index[:n], \n",
    "                              bs_ordered.variables], \n",
    "                             index=['PC1',\n",
    "                                    #'PC2',\n",
    "                                    'BackwardElimination'])\n",
    "features_rank.T"
   ]
  },
  {
   "cell_type": "code",
   "execution_count": 276,
   "id": "ea26cd5e-a85a-4294-9d19-bc18719283df",
   "metadata": {
    "tags": []
   },
   "outputs": [
    {
     "data": {
      "text/plain": [
       "{'numberofbuildings', 'sourceeui_kbtu_sf', 'steamuse_kbtu', 'zipcode'}"
      ]
     },
     "execution_count": 276,
     "metadata": {},
     "output_type": "execute_result"
    }
   ],
   "source": [
    "set(bs_best_variables) - set(pc1.index[:n])"
   ]
  },
  {
   "cell_type": "code",
   "execution_count": 277,
   "id": "900e7c26-3455-466d-b23d-6737e10341bc",
   "metadata": {
    "tags": []
   },
   "outputs": [
    {
     "data": {
      "text/plain": [
       "{'naturalgas_kbtu',\n",
       " 'propertygfaparking',\n",
       " 'propertygfatotal',\n",
       " 'thirdlargestpropertyusetype'}"
      ]
     },
     "execution_count": 277,
     "metadata": {},
     "output_type": "execute_result"
    }
   ],
   "source": [
    "set(pc1.index[:n]) - set(bs_best_variables)"
   ]
  },
  {
   "cell_type": "code",
   "execution_count": 278,
   "id": "bd5066e5-876c-484c-b11c-9172186bce99",
   "metadata": {
    "tags": []
   },
   "outputs": [
    {
     "data": {
      "text/plain": [
       "['zipcode',\n",
       " 'numberoffloors',\n",
       " 'numberofbuildings',\n",
       " 'siteenergyuse_kbtu',\n",
       " 'sourceeui_kbtu_sf',\n",
       " 'largestpropertyusetypegfa',\n",
       " 'electricity_kwh',\n",
       " 'steamuse_kbtu',\n",
       " 'naturalgas_therms',\n",
       " 'secondlargestpropertyuse',\n",
       " 'thirdlargestpropertyusetypegfa']"
      ]
     },
     "execution_count": 278,
     "metadata": {},
     "output_type": "execute_result"
    }
   ],
   "source": [
    "bs_best_variables"
   ]
  },
  {
   "cell_type": "code",
   "execution_count": 279,
   "id": "4bb30fd0-c1a2-47b6-90ed-e5a53aae23da",
   "metadata": {
    "tags": []
   },
   "outputs": [
    {
     "data": {
      "text/plain": [
       "Index(['propertygfatotal', 'largestpropertyusetypegfa', 'siteenergyuse_kbtu',\n",
       "       'electricity_kwh', 'secondlargestpropertyuse', 'propertygfaparking',\n",
       "       'numberoffloors', 'thirdlargestpropertyusetypegfa', 'naturalgas_therms',\n",
       "       'thirdlargestpropertyusetype', 'naturalgas_kbtu'],\n",
       "      dtype='object')"
      ]
     },
     "execution_count": 279,
     "metadata": {},
     "output_type": "execute_result"
    }
   ],
   "source": [
    "pc1.index[:n]"
   ]
  },
  {
   "cell_type": "markdown",
   "id": "7ae9978f-d9ab-44aa-ae5f-90e08f5934b8",
   "metadata": {},
   "source": [
    "# Models"
   ]
  },
  {
   "cell_type": "markdown",
   "id": "9d305afa-9e5a-40cc-98e7-90363280cb79",
   "metadata": {},
   "source": [
    "## LinearRegression"
   ]
  },
  {
   "cell_type": "code",
   "execution_count": 290,
   "id": "5b1fa233-f0d0-43e3-a8f1-cd8d53cc3c23",
   "metadata": {
    "tags": []
   },
   "outputs": [
    {
     "name": "stdout",
     "output_type": "stream",
     "text": [
      "linear regression model\n",
      "                          Features  Coefficients\n",
      "5        largestpropertyusetypegfa     -0.372188\n",
      "3               siteenergyuse_kbtu      2.239251\n",
      "6                  electricity_kwh     20.007120\n",
      "9         secondlargestpropertyuse     -0.212722\n",
      "1                   numberoffloors     -0.187718\n",
      "10  thirdlargestpropertyusetypegfa      0.251841\n",
      "8                naturalgas_therms     67.794128\n",
      "4                sourceeui_kbtu_sf     -0.228009\n",
      "0                          zipcode     -0.116783\n",
      "7                    steamuse_kbtu     24.239767\n",
      "2                numberofbuildings     -0.772505\n",
      "R-squared (Multiple Regression): 0.9931486523456676\n",
      "RMSE (Multiple Regression): 6.387880217162964\n",
      "\n",
      "Regression statistics\n",
      "\n",
      "               Mean Error (ME) : 0.0096\n",
      "Root Mean Squared Error (RMSE) : 6.3879\n",
      "     Mean Absolute Error (MAE) : 2.2846\n"
     ]
    }
   ],
   "source": [
    "lm_multiple = LinearRegression()\n",
    "lm_multiple.fit(X_train[bs_ordered.variables], y_train)\n",
    "\n",
    "# Interpretation of coefficients\n",
    "coefficients = pd.DataFrame({'Features': bs_ordered.variables, 'Coefficients': lm_multiple.coef_})\n",
    "print('linear regression model')\n",
    "print(coefficients)\n",
    "\n",
    "# Model evaluation\n",
    "y_pred_multiple = lm_multiple.predict(X_test[bs_ordered.variables])\n",
    "r2_multiple = r2_score(y_test, y_pred_multiple)\n",
    "rmse_multiple = np.sqrt(mean_squared_error(y_test, y_pred_multiple))\n",
    "\n",
    "print(\"R-squared (Multiple Regression):\", r2_multiple)\n",
    "print(\"RMSE (Multiple Regression):\", rmse_multiple)\n",
    "regressionSummary(y_test, y_pred_multiple)"
   ]
  },
  {
   "cell_type": "code",
   "execution_count": 281,
   "id": "6289ddd5-c7de-43ae-a6d4-9046b463cd95",
   "metadata": {
    "tags": []
   },
   "outputs": [
    {
     "data": {
      "image/png": "[encoded data removed]",
      "text/plain": [
       "<Figure size 800x550 with 2 Axes>"
      ]
     },
     "metadata": {},
     "output_type": "display_data"
    },
    {
     "data": {
      "text/plain": [
       "<Axes: title={'center': 'Residuals for LinearRegression Model'}, xlabel='Predicted Value', ylabel='Residuals'>"
      ]
     },
     "execution_count": 281,
     "metadata": {},
     "output_type": "execute_result"
    }
   ],
   "source": [
    "from yellowbrick.regressor import PredictionError, ResidualsPlot\n",
    "visualizer = ResidualsPlot(lm_multiple)\n",
    "visualizer.fit(X_train[bs_ordered.variables], y_train)  \n",
    "visualizer.score(X_test[bs_ordered.variables], y_test) \n",
    "visualizer.poof()"
   ]
  },
  {
   "cell_type": "code",
   "execution_count": 282,
   "id": "134cd2e9-42da-4a26-a4a0-9b007a24bfaa",
   "metadata": {
    "tags": []
   },
   "outputs": [
    {
     "data": {
      "image/png": "[encoded data removed]",
      "text/plain": [
       "<Figure size 800x550 with 1 Axes>"
      ]
     },
     "metadata": {},
     "output_type": "display_data"
    },
    {
     "data": {
      "text/plain": [
       "<Axes: title={'center': 'Prediction Error for LinearRegression'}, xlabel='$y$', ylabel='$\\\\hat{y}$'>"
      ]
     },
     "execution_count": 282,
     "metadata": {},
     "output_type": "execute_result"
    }
   ],
   "source": [
    "visualizer = PredictionError(lm_multiple)\n",
    "visualizer.fit(X_train[bs_ordered.variables], y_train)  # Fit the training data to the visualizer\n",
    "visualizer.score(X_test[bs_ordered.variables], y_test)  # Evaluate the model on the test data\n",
    "visualizer.poof() "
   ]
  },
  {
   "cell_type": "code",
   "execution_count": null,
   "id": "549bd7e0-bff1-40fc-80ec-3842afd7a48a",
   "metadata": {},
   "outputs": [],
   "source": []
  },
  {
   "cell_type": "code",
   "execution_count": null,
   "id": "037c9429-ec47-4a11-af34-941e9465f6fd",
   "metadata": {},
   "outputs": [],
   "source": []
  },
  {
   "cell_type": "code",
   "execution_count": 291,
   "id": "fa10112a-ace5-487f-bad6-ef402f689b28",
   "metadata": {
    "tags": []
   },
   "outputs": [
    {
     "name": "stdout",
     "output_type": "stream",
     "text": [
      "ridge model\n",
      "                          Features  Coefficients\n",
      "5        largestpropertyusetypegfa     -0.352903\n",
      "3               siteenergyuse_kbtu      3.165229\n",
      "6                  electricity_kwh     19.136484\n",
      "9         secondlargestpropertyuse     -0.215087\n",
      "1                   numberoffloors     -0.186900\n",
      "10  thirdlargestpropertyusetypegfa      0.256696\n",
      "8                naturalgas_therms     67.536404\n",
      "4                sourceeui_kbtu_sf     -0.218789\n",
      "0                          zipcode     -0.119195\n",
      "7                    steamuse_kbtu     24.168827\n",
      "2                numberofbuildings     -0.773435\n",
      "R-squared (Ridge Regression): 0.9931894648328413\n",
      "RMSE (Ridge Regression): 6.368825959577411\n",
      "\n",
      "Regression statistics\n",
      "\n",
      "               Mean Error (ME) : 0.0085\n",
      "Root Mean Squared Error (RMSE) : 6.3688\n",
      "     Mean Absolute Error (MAE) : 2.2809\n"
     ]
    }
   ],
   "source": [
    "from sklearn.linear_model import Ridge\n",
    "\n",
    "# Fitting the Ridge Regression model\n",
    "ridge_model = Ridge(alpha=1.0)  # You can adjust the alpha parameter for regularization\n",
    "ridge_model.fit(X_train[bs_ordered.variables], y_train)\n",
    "\n",
    "# Interpretation of coefficients\n",
    "coefficients = pd.DataFrame({'Features': bs_ordered.variables, 'Coefficients': ridge_model.coef_})\n",
    "print('ridge model')\n",
    "print(coefficients)\n",
    "\n",
    "# Model evaluation\n",
    "y_pred_ridge = ridge_model.predict(X_test[bs_ordered.variables])\n",
    "r2_ridge = ridge_model.score(X_test[bs_ordered.variables], y_test)\n",
    "rmse_ridge = np.sqrt(mean_squared_error(y_test, y_pred_ridge))\n",
    "print(\"R-squared (Ridge Regression):\", r2_ridge)\n",
    "print(\"RMSE (Ridge Regression):\", rmse_ridge)\n",
    "regressionSummary(y_test, y_pred_ridge)"
   ]
  },
  {
   "cell_type": "code",
   "execution_count": null,
   "id": "add48627-1278-4ca7-a65a-8143331f7326",
   "metadata": {},
   "outputs": [],
   "source": []
  },
  {
   "cell_type": "code",
   "execution_count": 285,
   "id": "a0406cae-d154-4e5b-9684-d9462a4baccc",
   "metadata": {
    "tags": []
   },
   "outputs": [
    {
     "data": {
      "image/png": "[encoded data removed]",
      "text/plain": [
       "<Figure size 800x550 with 2 Axes>"
      ]
     },
     "metadata": {},
     "output_type": "display_data"
    },
    {
     "data": {
      "text/plain": [
       "<Axes: title={'center': 'Residuals for Ridge Model'}, xlabel='Predicted Value', ylabel='Residuals'>"
      ]
     },
     "execution_count": 285,
     "metadata": {},
     "output_type": "execute_result"
    }
   ],
   "source": [
    "from yellowbrick.regressor import PredictionError, ResidualsPlot\n",
    "visualizer = ResidualsPlot(ridge_model)\n",
    "visualizer.fit(X_train[bs_ordered.variables], y_train)  \n",
    "visualizer.score(X_test[bs_ordered.variables], y_test) \n",
    "visualizer.poof()"
   ]
  },
  {
   "cell_type": "code",
   "execution_count": 286,
   "id": "3a010b32-303b-43fa-bb40-96d3284acece",
   "metadata": {
    "tags": []
   },
   "outputs": [
    {
     "data": {
      "image/png": "[encoded data removed]",
      "text/plain": [
       "<Figure size 800x550 with 1 Axes>"
      ]
     },
     "metadata": {},
     "output_type": "display_data"
    },
    {
     "data": {
      "text/plain": [
       "<Axes: title={'center': 'Prediction Error for Ridge'}, xlabel='$y$', ylabel='$\\\\hat{y}$'>"
      ]
     },
     "execution_count": 286,
     "metadata": {},
     "output_type": "execute_result"
    }
   ],
   "source": [
    "visualizer = PredictionError(ridge_model)\n",
    "visualizer.fit(X_train[bs_ordered.variables], y_train)  # Fit the training data to the visualizer\n",
    "visualizer.score(X_test[bs_ordered.variables], y_test)  # Evaluate the model on the test data\n",
    "visualizer.poof() "
   ]
  },
  {
   "cell_type": "code",
   "execution_count": 293,
   "id": "e435dfd8-3099-4b07-b69c-def25fc10e4c",
   "metadata": {
    "tags": []
   },
   "outputs": [
    {
     "name": "stdout",
     "output_type": "stream",
     "text": [
      "random forest regressor\n",
      "R-squared (Random Forest Regression): 0.9961503695186555\n",
      "RMSE (Random Forest Regression): 4.788266164053923\n",
      "\n",
      "Regression statistics\n",
      "\n",
      "               Mean Error (ME) : 0.1045\n",
      "Root Mean Squared Error (RMSE) : 4.7883\n",
      "     Mean Absolute Error (MAE) : 1.8749\n"
     ]
    }
   ],
   "source": [
    "from sklearn.ensemble import RandomForestRegressor\n",
    "\n",
    "# Fitting the Random Forest Regression model\n",
    "rf_model = RandomForestRegressor(n_estimators=100, random_state=42)  # You can adjust the number of estimators\n",
    "rf_model.fit(X_train[bs_ordered.variables], y_train)\n",
    "\n",
    "# Interpretation of feature importances\n",
    "feature_importances = pd.DataFrame({'Features': bs_ordered.variables, 'Importance': rf_model.feature_importances_})\n",
    "print('random forest regressor')\n",
    "#print(feature_importances)\n",
    "\n",
    "# Model evaluation\n",
    "y_pred_rf = rf_model.predict(X_test[bs_ordered.variables])\n",
    "r2_rf = rf_model.score(X_test[bs_ordered.variables], y_test)\n",
    "rmse_rf = np.sqrt(mean_squared_error(y_test, y_pred_rf))\n",
    "print(\"R-squared (Random Forest Regression):\", r2_rf)\n",
    "print(\"RMSE (Random Forest Regression):\", rmse_rf)\n",
    "regressionSummary(y_test, y_pred_rf)"
   ]
  },
  {
   "cell_type": "code",
   "execution_count": 287,
   "id": "371b812e-9016-4e67-8906-d5fd185d9da1",
   "metadata": {
    "tags": []
   },
   "outputs": [
    {
     "data": {
      "image/png": "[encoded data removed]",
      "text/plain": [
       "<Figure size 800x550 with 2 Axes>"
      ]
     },
     "metadata": {},
     "output_type": "display_data"
    },
    {
     "data": {
      "text/plain": [
       "<Axes: title={'center': 'Residuals for RandomForestRegressor Model'}, xlabel='Predicted Value', ylabel='Residuals'>"
      ]
     },
     "execution_count": 287,
     "metadata": {},
     "output_type": "execute_result"
    }
   ],
   "source": [
    "from yellowbrick.regressor import PredictionError, ResidualsPlot\n",
    "visualizer = ResidualsPlot(rf_model)\n",
    "visualizer.fit(X_train[bs_ordered.variables], y_train)  \n",
    "visualizer.score(X_test[bs_ordered.variables], y_test) \n",
    "visualizer.poof()"
   ]
  },
  {
   "cell_type": "code",
   "execution_count": 294,
   "id": "fcaf43e4-fc67-436f-958f-18d9aaddae6e",
   "metadata": {
    "tags": []
   },
   "outputs": [
    {
     "data": {
      "image/png": "[encoded data removed]",
      "text/plain": [
       "<Figure size 800x550 with 1 Axes>"
      ]
     },
     "metadata": {},
     "output_type": "display_data"
    },
    {
     "data": {
      "text/plain": [
       "<Axes: title={'center': 'Prediction Error for RandomForestRegressor'}, xlabel='$y$', ylabel='$\\\\hat{y}$'>"
      ]
     },
     "execution_count": 294,
     "metadata": {},
     "output_type": "execute_result"
    }
   ],
   "source": [
    "visualizer = PredictionError(rf_model)\n",
    "visualizer.fit(X_train[bs_ordered.variables], y_train)  # Fit the training data to the visualizer\n",
    "visualizer.score(X_test[bs_ordered.variables], y_test)  # Evaluate the model on the test data\n",
    "visualizer.poof() "
   ]
  },
  {
   "cell_type": "code",
   "execution_count": null,
   "id": "8b082bfc-6afc-4cb6-9bad-87b1ca6aecf0",
   "metadata": {},
   "outputs": [],
   "source": []
  }
 ],
 "metadata": {
  "kernelspec": {
   "display_name": "Python 3 (ipykernel)",
   "language": "python",
   "name": "python3"
  },
  "language_info": {
   "codemirror_mode": {
    "name": "ipython",
    "version": 3
   },
   "file_extension": ".py",
   "mimetype": "text/x-python",
   "name": "python",
   "nbconvert_exporter": "python",
   "pygments_lexer": "ipython3",
   "version": "3.11.5"
  }
 },
 "nbformat": 4,
 "nbformat_minor": 5
}
